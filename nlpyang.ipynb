{
  "nbformat": 4,
  "nbformat_minor": 0,
  "metadata": {
    "colab": {
      "name": "nlpyang.ipynb",
      "provenance": [],
      "collapsed_sections": [],
      "toc_visible": true,
      "authorship_tag": "ABX9TyOS+e61SL/S+OeXQSVEiGEw",
      "include_colab_link": true
    },
    "kernelspec": {
      "name": "python3",
      "display_name": "Python 3"
    },
    "language_info": {
      "name": "python"
    },
    "accelerator": "GPU",
    "widgets": {
      "application/vnd.jupyter.widget-state+json": {
        "bda70fb1f0e845fabcdbca49435620ea": {
          "model_module": "@jupyter-widgets/controls",
          "model_name": "HBoxModel",
          "model_module_version": "1.5.0",
          "state": {
            "_dom_classes": [],
            "_model_module": "@jupyter-widgets/controls",
            "_model_module_version": "1.5.0",
            "_model_name": "HBoxModel",
            "_view_count": null,
            "_view_module": "@jupyter-widgets/controls",
            "_view_module_version": "1.5.0",
            "_view_name": "HBoxView",
            "box_style": "",
            "children": [
              "IPY_MODEL_19fa591783824a62872aae4d490c259b",
              "IPY_MODEL_81018026cea849ee86f80f6fa9981eb6",
              "IPY_MODEL_f28534fed37a4cdab1759b32c9f993c6"
            ],
            "layout": "IPY_MODEL_726a25358a5f4beda108154fa4ef8e5b"
          }
        },
        "19fa591783824a62872aae4d490c259b": {
          "model_module": "@jupyter-widgets/controls",
          "model_name": "HTMLModel",
          "model_module_version": "1.5.0",
          "state": {
            "_dom_classes": [],
            "_model_module": "@jupyter-widgets/controls",
            "_model_module_version": "1.5.0",
            "_model_name": "HTMLModel",
            "_view_count": null,
            "_view_module": "@jupyter-widgets/controls",
            "_view_module_version": "1.5.0",
            "_view_name": "HTMLView",
            "description": "",
            "description_tooltip": null,
            "layout": "IPY_MODEL_f4f7ffaa67604e7c8588d1893fdf0942",
            "placeholder": "​",
            "style": "IPY_MODEL_306c8e85e39e4b2687eb13af8b6116bf",
            "value": "Downloading: 100%"
          }
        },
        "81018026cea849ee86f80f6fa9981eb6": {
          "model_module": "@jupyter-widgets/controls",
          "model_name": "FloatProgressModel",
          "model_module_version": "1.5.0",
          "state": {
            "_dom_classes": [],
            "_model_module": "@jupyter-widgets/controls",
            "_model_module_version": "1.5.0",
            "_model_name": "FloatProgressModel",
            "_view_count": null,
            "_view_module": "@jupyter-widgets/controls",
            "_view_module_version": "1.5.0",
            "_view_name": "ProgressView",
            "bar_style": "success",
            "description": "",
            "description_tooltip": null,
            "layout": "IPY_MODEL_ea5c28c989dc44b298acdcaf3a4db2c8",
            "max": 324,
            "min": 0,
            "orientation": "horizontal",
            "style": "IPY_MODEL_14206f12c7d4489695eabd3c475e8984",
            "value": 324
          }
        },
        "f28534fed37a4cdab1759b32c9f993c6": {
          "model_module": "@jupyter-widgets/controls",
          "model_name": "HTMLModel",
          "model_module_version": "1.5.0",
          "state": {
            "_dom_classes": [],
            "_model_module": "@jupyter-widgets/controls",
            "_model_module_version": "1.5.0",
            "_model_name": "HTMLModel",
            "_view_count": null,
            "_view_module": "@jupyter-widgets/controls",
            "_view_module_version": "1.5.0",
            "_view_name": "HTMLView",
            "description": "",
            "description_tooltip": null,
            "layout": "IPY_MODEL_01a7b7826b5c4547b8879f83abfcf85d",
            "placeholder": "​",
            "style": "IPY_MODEL_d1037284a931454dbdc18187a33480c7",
            "value": " 324/324 [00:00&lt;00:00, 7.68kB/s]"
          }
        },
        "726a25358a5f4beda108154fa4ef8e5b": {
          "model_module": "@jupyter-widgets/base",
          "model_name": "LayoutModel",
          "model_module_version": "1.2.0",
          "state": {
            "_model_module": "@jupyter-widgets/base",
            "_model_module_version": "1.2.0",
            "_model_name": "LayoutModel",
            "_view_count": null,
            "_view_module": "@jupyter-widgets/base",
            "_view_module_version": "1.2.0",
            "_view_name": "LayoutView",
            "align_content": null,
            "align_items": null,
            "align_self": null,
            "border": null,
            "bottom": null,
            "display": null,
            "flex": null,
            "flex_flow": null,
            "grid_area": null,
            "grid_auto_columns": null,
            "grid_auto_flow": null,
            "grid_auto_rows": null,
            "grid_column": null,
            "grid_gap": null,
            "grid_row": null,
            "grid_template_areas": null,
            "grid_template_columns": null,
            "grid_template_rows": null,
            "height": null,
            "justify_content": null,
            "justify_items": null,
            "left": null,
            "margin": null,
            "max_height": null,
            "max_width": null,
            "min_height": null,
            "min_width": null,
            "object_fit": null,
            "object_position": null,
            "order": null,
            "overflow": null,
            "overflow_x": null,
            "overflow_y": null,
            "padding": null,
            "right": null,
            "top": null,
            "visibility": null,
            "width": null
          }
        },
        "f4f7ffaa67604e7c8588d1893fdf0942": {
          "model_module": "@jupyter-widgets/base",
          "model_name": "LayoutModel",
          "model_module_version": "1.2.0",
          "state": {
            "_model_module": "@jupyter-widgets/base",
            "_model_module_version": "1.2.0",
            "_model_name": "LayoutModel",
            "_view_count": null,
            "_view_module": "@jupyter-widgets/base",
            "_view_module_version": "1.2.0",
            "_view_name": "LayoutView",
            "align_content": null,
            "align_items": null,
            "align_self": null,
            "border": null,
            "bottom": null,
            "display": null,
            "flex": null,
            "flex_flow": null,
            "grid_area": null,
            "grid_auto_columns": null,
            "grid_auto_flow": null,
            "grid_auto_rows": null,
            "grid_column": null,
            "grid_gap": null,
            "grid_row": null,
            "grid_template_areas": null,
            "grid_template_columns": null,
            "grid_template_rows": null,
            "height": null,
            "justify_content": null,
            "justify_items": null,
            "left": null,
            "margin": null,
            "max_height": null,
            "max_width": null,
            "min_height": null,
            "min_width": null,
            "object_fit": null,
            "object_position": null,
            "order": null,
            "overflow": null,
            "overflow_x": null,
            "overflow_y": null,
            "padding": null,
            "right": null,
            "top": null,
            "visibility": null,
            "width": null
          }
        },
        "306c8e85e39e4b2687eb13af8b6116bf": {
          "model_module": "@jupyter-widgets/controls",
          "model_name": "DescriptionStyleModel",
          "model_module_version": "1.5.0",
          "state": {
            "_model_module": "@jupyter-widgets/controls",
            "_model_module_version": "1.5.0",
            "_model_name": "DescriptionStyleModel",
            "_view_count": null,
            "_view_module": "@jupyter-widgets/base",
            "_view_module_version": "1.2.0",
            "_view_name": "StyleView",
            "description_width": ""
          }
        },
        "ea5c28c989dc44b298acdcaf3a4db2c8": {
          "model_module": "@jupyter-widgets/base",
          "model_name": "LayoutModel",
          "model_module_version": "1.2.0",
          "state": {
            "_model_module": "@jupyter-widgets/base",
            "_model_module_version": "1.2.0",
            "_model_name": "LayoutModel",
            "_view_count": null,
            "_view_module": "@jupyter-widgets/base",
            "_view_module_version": "1.2.0",
            "_view_name": "LayoutView",
            "align_content": null,
            "align_items": null,
            "align_self": null,
            "border": null,
            "bottom": null,
            "display": null,
            "flex": null,
            "flex_flow": null,
            "grid_area": null,
            "grid_auto_columns": null,
            "grid_auto_flow": null,
            "grid_auto_rows": null,
            "grid_column": null,
            "grid_gap": null,
            "grid_row": null,
            "grid_template_areas": null,
            "grid_template_columns": null,
            "grid_template_rows": null,
            "height": null,
            "justify_content": null,
            "justify_items": null,
            "left": null,
            "margin": null,
            "max_height": null,
            "max_width": null,
            "min_height": null,
            "min_width": null,
            "object_fit": null,
            "object_position": null,
            "order": null,
            "overflow": null,
            "overflow_x": null,
            "overflow_y": null,
            "padding": null,
            "right": null,
            "top": null,
            "visibility": null,
            "width": null
          }
        },
        "14206f12c7d4489695eabd3c475e8984": {
          "model_module": "@jupyter-widgets/controls",
          "model_name": "ProgressStyleModel",
          "model_module_version": "1.5.0",
          "state": {
            "_model_module": "@jupyter-widgets/controls",
            "_model_module_version": "1.5.0",
            "_model_name": "ProgressStyleModel",
            "_view_count": null,
            "_view_module": "@jupyter-widgets/base",
            "_view_module_version": "1.2.0",
            "_view_name": "StyleView",
            "bar_color": null,
            "description_width": ""
          }
        },
        "01a7b7826b5c4547b8879f83abfcf85d": {
          "model_module": "@jupyter-widgets/base",
          "model_name": "LayoutModel",
          "model_module_version": "1.2.0",
          "state": {
            "_model_module": "@jupyter-widgets/base",
            "_model_module_version": "1.2.0",
            "_model_name": "LayoutModel",
            "_view_count": null,
            "_view_module": "@jupyter-widgets/base",
            "_view_module_version": "1.2.0",
            "_view_name": "LayoutView",
            "align_content": null,
            "align_items": null,
            "align_self": null,
            "border": null,
            "bottom": null,
            "display": null,
            "flex": null,
            "flex_flow": null,
            "grid_area": null,
            "grid_auto_columns": null,
            "grid_auto_flow": null,
            "grid_auto_rows": null,
            "grid_column": null,
            "grid_gap": null,
            "grid_row": null,
            "grid_template_areas": null,
            "grid_template_columns": null,
            "grid_template_rows": null,
            "height": null,
            "justify_content": null,
            "justify_items": null,
            "left": null,
            "margin": null,
            "max_height": null,
            "max_width": null,
            "min_height": null,
            "min_width": null,
            "object_fit": null,
            "object_position": null,
            "order": null,
            "overflow": null,
            "overflow_x": null,
            "overflow_y": null,
            "padding": null,
            "right": null,
            "top": null,
            "visibility": null,
            "width": null
          }
        },
        "d1037284a931454dbdc18187a33480c7": {
          "model_module": "@jupyter-widgets/controls",
          "model_name": "DescriptionStyleModel",
          "model_module_version": "1.5.0",
          "state": {
            "_model_module": "@jupyter-widgets/controls",
            "_model_module_version": "1.5.0",
            "_model_name": "DescriptionStyleModel",
            "_view_count": null,
            "_view_module": "@jupyter-widgets/base",
            "_view_module_version": "1.2.0",
            "_view_name": "StyleView",
            "description_width": ""
          }
        },
        "48a0df4e610942b992cd57a659947695": {
          "model_module": "@jupyter-widgets/controls",
          "model_name": "HBoxModel",
          "model_module_version": "1.5.0",
          "state": {
            "_dom_classes": [],
            "_model_module": "@jupyter-widgets/controls",
            "_model_module_version": "1.5.0",
            "_model_name": "HBoxModel",
            "_view_count": null,
            "_view_module": "@jupyter-widgets/controls",
            "_view_module_version": "1.5.0",
            "_view_name": "HBoxView",
            "box_style": "",
            "children": [
              "IPY_MODEL_5b666b5599794479b4d3ef9e1705fe66",
              "IPY_MODEL_544cb5aea2de4a979cd26deb11d33607",
              "IPY_MODEL_4a042ca703a542369bf71f4544a62a7f"
            ],
            "layout": "IPY_MODEL_288d4537900549b58acf75ae2c0efcc2"
          }
        },
        "5b666b5599794479b4d3ef9e1705fe66": {
          "model_module": "@jupyter-widgets/controls",
          "model_name": "HTMLModel",
          "model_module_version": "1.5.0",
          "state": {
            "_dom_classes": [],
            "_model_module": "@jupyter-widgets/controls",
            "_model_module_version": "1.5.0",
            "_model_name": "HTMLModel",
            "_view_count": null,
            "_view_module": "@jupyter-widgets/controls",
            "_view_module_version": "1.5.0",
            "_view_name": "HTMLView",
            "description": "",
            "description_tooltip": null,
            "layout": "IPY_MODEL_6e1939cab24344adbc0a40271e8d4b1e",
            "placeholder": "​",
            "style": "IPY_MODEL_5cac19db0b004627a73f7345b1fc5ada",
            "value": "Downloading: 100%"
          }
        },
        "544cb5aea2de4a979cd26deb11d33607": {
          "model_module": "@jupyter-widgets/controls",
          "model_name": "FloatProgressModel",
          "model_module_version": "1.5.0",
          "state": {
            "_dom_classes": [],
            "_model_module": "@jupyter-widgets/controls",
            "_model_module_version": "1.5.0",
            "_model_name": "FloatProgressModel",
            "_view_count": null,
            "_view_module": "@jupyter-widgets/controls",
            "_view_module_version": "1.5.0",
            "_view_name": "ProgressView",
            "bar_style": "success",
            "description": "",
            "description_tooltip": null,
            "layout": "IPY_MODEL_4095edf4f6914883ba32161c1f3c3dcb",
            "max": 231508,
            "min": 0,
            "orientation": "horizontal",
            "style": "IPY_MODEL_08f645390eb84b80aa42f305d802421a",
            "value": 231508
          }
        },
        "4a042ca703a542369bf71f4544a62a7f": {
          "model_module": "@jupyter-widgets/controls",
          "model_name": "HTMLModel",
          "model_module_version": "1.5.0",
          "state": {
            "_dom_classes": [],
            "_model_module": "@jupyter-widgets/controls",
            "_model_module_version": "1.5.0",
            "_model_name": "HTMLModel",
            "_view_count": null,
            "_view_module": "@jupyter-widgets/controls",
            "_view_module_version": "1.5.0",
            "_view_name": "HTMLView",
            "description": "",
            "description_tooltip": null,
            "layout": "IPY_MODEL_06f891fdc32f46689c77811970f3789b",
            "placeholder": "​",
            "style": "IPY_MODEL_9d4fad463e2b4348bfb6f659f0f63a8a",
            "value": " 226k/226k [00:00&lt;00:00, 340kB/s]"
          }
        },
        "288d4537900549b58acf75ae2c0efcc2": {
          "model_module": "@jupyter-widgets/base",
          "model_name": "LayoutModel",
          "model_module_version": "1.2.0",
          "state": {
            "_model_module": "@jupyter-widgets/base",
            "_model_module_version": "1.2.0",
            "_model_name": "LayoutModel",
            "_view_count": null,
            "_view_module": "@jupyter-widgets/base",
            "_view_module_version": "1.2.0",
            "_view_name": "LayoutView",
            "align_content": null,
            "align_items": null,
            "align_self": null,
            "border": null,
            "bottom": null,
            "display": null,
            "flex": null,
            "flex_flow": null,
            "grid_area": null,
            "grid_auto_columns": null,
            "grid_auto_flow": null,
            "grid_auto_rows": null,
            "grid_column": null,
            "grid_gap": null,
            "grid_row": null,
            "grid_template_areas": null,
            "grid_template_columns": null,
            "grid_template_rows": null,
            "height": null,
            "justify_content": null,
            "justify_items": null,
            "left": null,
            "margin": null,
            "max_height": null,
            "max_width": null,
            "min_height": null,
            "min_width": null,
            "object_fit": null,
            "object_position": null,
            "order": null,
            "overflow": null,
            "overflow_x": null,
            "overflow_y": null,
            "padding": null,
            "right": null,
            "top": null,
            "visibility": null,
            "width": null
          }
        },
        "6e1939cab24344adbc0a40271e8d4b1e": {
          "model_module": "@jupyter-widgets/base",
          "model_name": "LayoutModel",
          "model_module_version": "1.2.0",
          "state": {
            "_model_module": "@jupyter-widgets/base",
            "_model_module_version": "1.2.0",
            "_model_name": "LayoutModel",
            "_view_count": null,
            "_view_module": "@jupyter-widgets/base",
            "_view_module_version": "1.2.0",
            "_view_name": "LayoutView",
            "align_content": null,
            "align_items": null,
            "align_self": null,
            "border": null,
            "bottom": null,
            "display": null,
            "flex": null,
            "flex_flow": null,
            "grid_area": null,
            "grid_auto_columns": null,
            "grid_auto_flow": null,
            "grid_auto_rows": null,
            "grid_column": null,
            "grid_gap": null,
            "grid_row": null,
            "grid_template_areas": null,
            "grid_template_columns": null,
            "grid_template_rows": null,
            "height": null,
            "justify_content": null,
            "justify_items": null,
            "left": null,
            "margin": null,
            "max_height": null,
            "max_width": null,
            "min_height": null,
            "min_width": null,
            "object_fit": null,
            "object_position": null,
            "order": null,
            "overflow": null,
            "overflow_x": null,
            "overflow_y": null,
            "padding": null,
            "right": null,
            "top": null,
            "visibility": null,
            "width": null
          }
        },
        "5cac19db0b004627a73f7345b1fc5ada": {
          "model_module": "@jupyter-widgets/controls",
          "model_name": "DescriptionStyleModel",
          "model_module_version": "1.5.0",
          "state": {
            "_model_module": "@jupyter-widgets/controls",
            "_model_module_version": "1.5.0",
            "_model_name": "DescriptionStyleModel",
            "_view_count": null,
            "_view_module": "@jupyter-widgets/base",
            "_view_module_version": "1.2.0",
            "_view_name": "StyleView",
            "description_width": ""
          }
        },
        "4095edf4f6914883ba32161c1f3c3dcb": {
          "model_module": "@jupyter-widgets/base",
          "model_name": "LayoutModel",
          "model_module_version": "1.2.0",
          "state": {
            "_model_module": "@jupyter-widgets/base",
            "_model_module_version": "1.2.0",
            "_model_name": "LayoutModel",
            "_view_count": null,
            "_view_module": "@jupyter-widgets/base",
            "_view_module_version": "1.2.0",
            "_view_name": "LayoutView",
            "align_content": null,
            "align_items": null,
            "align_self": null,
            "border": null,
            "bottom": null,
            "display": null,
            "flex": null,
            "flex_flow": null,
            "grid_area": null,
            "grid_auto_columns": null,
            "grid_auto_flow": null,
            "grid_auto_rows": null,
            "grid_column": null,
            "grid_gap": null,
            "grid_row": null,
            "grid_template_areas": null,
            "grid_template_columns": null,
            "grid_template_rows": null,
            "height": null,
            "justify_content": null,
            "justify_items": null,
            "left": null,
            "margin": null,
            "max_height": null,
            "max_width": null,
            "min_height": null,
            "min_width": null,
            "object_fit": null,
            "object_position": null,
            "order": null,
            "overflow": null,
            "overflow_x": null,
            "overflow_y": null,
            "padding": null,
            "right": null,
            "top": null,
            "visibility": null,
            "width": null
          }
        },
        "08f645390eb84b80aa42f305d802421a": {
          "model_module": "@jupyter-widgets/controls",
          "model_name": "ProgressStyleModel",
          "model_module_version": "1.5.0",
          "state": {
            "_model_module": "@jupyter-widgets/controls",
            "_model_module_version": "1.5.0",
            "_model_name": "ProgressStyleModel",
            "_view_count": null,
            "_view_module": "@jupyter-widgets/base",
            "_view_module_version": "1.2.0",
            "_view_name": "StyleView",
            "bar_color": null,
            "description_width": ""
          }
        },
        "06f891fdc32f46689c77811970f3789b": {
          "model_module": "@jupyter-widgets/base",
          "model_name": "LayoutModel",
          "model_module_version": "1.2.0",
          "state": {
            "_model_module": "@jupyter-widgets/base",
            "_model_module_version": "1.2.0",
            "_model_name": "LayoutModel",
            "_view_count": null,
            "_view_module": "@jupyter-widgets/base",
            "_view_module_version": "1.2.0",
            "_view_name": "LayoutView",
            "align_content": null,
            "align_items": null,
            "align_self": null,
            "border": null,
            "bottom": null,
            "display": null,
            "flex": null,
            "flex_flow": null,
            "grid_area": null,
            "grid_auto_columns": null,
            "grid_auto_flow": null,
            "grid_auto_rows": null,
            "grid_column": null,
            "grid_gap": null,
            "grid_row": null,
            "grid_template_areas": null,
            "grid_template_columns": null,
            "grid_template_rows": null,
            "height": null,
            "justify_content": null,
            "justify_items": null,
            "left": null,
            "margin": null,
            "max_height": null,
            "max_width": null,
            "min_height": null,
            "min_width": null,
            "object_fit": null,
            "object_position": null,
            "order": null,
            "overflow": null,
            "overflow_x": null,
            "overflow_y": null,
            "padding": null,
            "right": null,
            "top": null,
            "visibility": null,
            "width": null
          }
        },
        "9d4fad463e2b4348bfb6f659f0f63a8a": {
          "model_module": "@jupyter-widgets/controls",
          "model_name": "DescriptionStyleModel",
          "model_module_version": "1.5.0",
          "state": {
            "_model_module": "@jupyter-widgets/controls",
            "_model_module_version": "1.5.0",
            "_model_name": "DescriptionStyleModel",
            "_view_count": null,
            "_view_module": "@jupyter-widgets/base",
            "_view_module_version": "1.2.0",
            "_view_name": "StyleView",
            "description_width": ""
          }
        },
        "dfc3dd6789134027b965a8099c212051": {
          "model_module": "@jupyter-widgets/controls",
          "model_name": "HBoxModel",
          "model_module_version": "1.5.0",
          "state": {
            "_dom_classes": [],
            "_model_module": "@jupyter-widgets/controls",
            "_model_module_version": "1.5.0",
            "_model_name": "HBoxModel",
            "_view_count": null,
            "_view_module": "@jupyter-widgets/controls",
            "_view_module_version": "1.5.0",
            "_view_name": "HBoxView",
            "box_style": "",
            "children": [
              "IPY_MODEL_b7ad318ca01c4caf990ed0ab5e1a6ba0",
              "IPY_MODEL_f9320d027073470dba9a50af40a6f12c",
              "IPY_MODEL_6fa0d4af4fcc450ba53f55055f48a2c3"
            ],
            "layout": "IPY_MODEL_bb49845999e34a9da93b17fcb6716bc9"
          }
        },
        "b7ad318ca01c4caf990ed0ab5e1a6ba0": {
          "model_module": "@jupyter-widgets/controls",
          "model_name": "HTMLModel",
          "model_module_version": "1.5.0",
          "state": {
            "_dom_classes": [],
            "_model_module": "@jupyter-widgets/controls",
            "_model_module_version": "1.5.0",
            "_model_name": "HTMLModel",
            "_view_count": null,
            "_view_module": "@jupyter-widgets/controls",
            "_view_module_version": "1.5.0",
            "_view_name": "HTMLView",
            "description": "",
            "description_tooltip": null,
            "layout": "IPY_MODEL_03537ab658d44de19099368a522a23eb",
            "placeholder": "​",
            "style": "IPY_MODEL_e099a3d3c0dd4f57a48c09aea7be7ccc",
            "value": "Downloading: 100%"
          }
        },
        "f9320d027073470dba9a50af40a6f12c": {
          "model_module": "@jupyter-widgets/controls",
          "model_name": "FloatProgressModel",
          "model_module_version": "1.5.0",
          "state": {
            "_dom_classes": [],
            "_model_module": "@jupyter-widgets/controls",
            "_model_module_version": "1.5.0",
            "_model_name": "FloatProgressModel",
            "_view_count": null,
            "_view_module": "@jupyter-widgets/controls",
            "_view_module_version": "1.5.0",
            "_view_name": "ProgressView",
            "bar_style": "success",
            "description": "",
            "description_tooltip": null,
            "layout": "IPY_MODEL_4c4a4adf9cdc404bbd85758b60cf979d",
            "max": 112,
            "min": 0,
            "orientation": "horizontal",
            "style": "IPY_MODEL_28f9e39d07444f68a549c9caab2832d7",
            "value": 112
          }
        },
        "6fa0d4af4fcc450ba53f55055f48a2c3": {
          "model_module": "@jupyter-widgets/controls",
          "model_name": "HTMLModel",
          "model_module_version": "1.5.0",
          "state": {
            "_dom_classes": [],
            "_model_module": "@jupyter-widgets/controls",
            "_model_module_version": "1.5.0",
            "_model_name": "HTMLModel",
            "_view_count": null,
            "_view_module": "@jupyter-widgets/controls",
            "_view_module_version": "1.5.0",
            "_view_name": "HTMLView",
            "description": "",
            "description_tooltip": null,
            "layout": "IPY_MODEL_2240837f90f84b19afba400c6d6c46dc",
            "placeholder": "​",
            "style": "IPY_MODEL_57a4784fbda1460ea70616c9415bfbb9",
            "value": " 112/112 [00:00&lt;00:00, 864B/s]"
          }
        },
        "bb49845999e34a9da93b17fcb6716bc9": {
          "model_module": "@jupyter-widgets/base",
          "model_name": "LayoutModel",
          "model_module_version": "1.2.0",
          "state": {
            "_model_module": "@jupyter-widgets/base",
            "_model_module_version": "1.2.0",
            "_model_name": "LayoutModel",
            "_view_count": null,
            "_view_module": "@jupyter-widgets/base",
            "_view_module_version": "1.2.0",
            "_view_name": "LayoutView",
            "align_content": null,
            "align_items": null,
            "align_self": null,
            "border": null,
            "bottom": null,
            "display": null,
            "flex": null,
            "flex_flow": null,
            "grid_area": null,
            "grid_auto_columns": null,
            "grid_auto_flow": null,
            "grid_auto_rows": null,
            "grid_column": null,
            "grid_gap": null,
            "grid_row": null,
            "grid_template_areas": null,
            "grid_template_columns": null,
            "grid_template_rows": null,
            "height": null,
            "justify_content": null,
            "justify_items": null,
            "left": null,
            "margin": null,
            "max_height": null,
            "max_width": null,
            "min_height": null,
            "min_width": null,
            "object_fit": null,
            "object_position": null,
            "order": null,
            "overflow": null,
            "overflow_x": null,
            "overflow_y": null,
            "padding": null,
            "right": null,
            "top": null,
            "visibility": null,
            "width": null
          }
        },
        "03537ab658d44de19099368a522a23eb": {
          "model_module": "@jupyter-widgets/base",
          "model_name": "LayoutModel",
          "model_module_version": "1.2.0",
          "state": {
            "_model_module": "@jupyter-widgets/base",
            "_model_module_version": "1.2.0",
            "_model_name": "LayoutModel",
            "_view_count": null,
            "_view_module": "@jupyter-widgets/base",
            "_view_module_version": "1.2.0",
            "_view_name": "LayoutView",
            "align_content": null,
            "align_items": null,
            "align_self": null,
            "border": null,
            "bottom": null,
            "display": null,
            "flex": null,
            "flex_flow": null,
            "grid_area": null,
            "grid_auto_columns": null,
            "grid_auto_flow": null,
            "grid_auto_rows": null,
            "grid_column": null,
            "grid_gap": null,
            "grid_row": null,
            "grid_template_areas": null,
            "grid_template_columns": null,
            "grid_template_rows": null,
            "height": null,
            "justify_content": null,
            "justify_items": null,
            "left": null,
            "margin": null,
            "max_height": null,
            "max_width": null,
            "min_height": null,
            "min_width": null,
            "object_fit": null,
            "object_position": null,
            "order": null,
            "overflow": null,
            "overflow_x": null,
            "overflow_y": null,
            "padding": null,
            "right": null,
            "top": null,
            "visibility": null,
            "width": null
          }
        },
        "e099a3d3c0dd4f57a48c09aea7be7ccc": {
          "model_module": "@jupyter-widgets/controls",
          "model_name": "DescriptionStyleModel",
          "model_module_version": "1.5.0",
          "state": {
            "_model_module": "@jupyter-widgets/controls",
            "_model_module_version": "1.5.0",
            "_model_name": "DescriptionStyleModel",
            "_view_count": null,
            "_view_module": "@jupyter-widgets/base",
            "_view_module_version": "1.2.0",
            "_view_name": "StyleView",
            "description_width": ""
          }
        },
        "4c4a4adf9cdc404bbd85758b60cf979d": {
          "model_module": "@jupyter-widgets/base",
          "model_name": "LayoutModel",
          "model_module_version": "1.2.0",
          "state": {
            "_model_module": "@jupyter-widgets/base",
            "_model_module_version": "1.2.0",
            "_model_name": "LayoutModel",
            "_view_count": null,
            "_view_module": "@jupyter-widgets/base",
            "_view_module_version": "1.2.0",
            "_view_name": "LayoutView",
            "align_content": null,
            "align_items": null,
            "align_self": null,
            "border": null,
            "bottom": null,
            "display": null,
            "flex": null,
            "flex_flow": null,
            "grid_area": null,
            "grid_auto_columns": null,
            "grid_auto_flow": null,
            "grid_auto_rows": null,
            "grid_column": null,
            "grid_gap": null,
            "grid_row": null,
            "grid_template_areas": null,
            "grid_template_columns": null,
            "grid_template_rows": null,
            "height": null,
            "justify_content": null,
            "justify_items": null,
            "left": null,
            "margin": null,
            "max_height": null,
            "max_width": null,
            "min_height": null,
            "min_width": null,
            "object_fit": null,
            "object_position": null,
            "order": null,
            "overflow": null,
            "overflow_x": null,
            "overflow_y": null,
            "padding": null,
            "right": null,
            "top": null,
            "visibility": null,
            "width": null
          }
        },
        "28f9e39d07444f68a549c9caab2832d7": {
          "model_module": "@jupyter-widgets/controls",
          "model_name": "ProgressStyleModel",
          "model_module_version": "1.5.0",
          "state": {
            "_model_module": "@jupyter-widgets/controls",
            "_model_module_version": "1.5.0",
            "_model_name": "ProgressStyleModel",
            "_view_count": null,
            "_view_module": "@jupyter-widgets/base",
            "_view_module_version": "1.2.0",
            "_view_name": "StyleView",
            "bar_color": null,
            "description_width": ""
          }
        },
        "2240837f90f84b19afba400c6d6c46dc": {
          "model_module": "@jupyter-widgets/base",
          "model_name": "LayoutModel",
          "model_module_version": "1.2.0",
          "state": {
            "_model_module": "@jupyter-widgets/base",
            "_model_module_version": "1.2.0",
            "_model_name": "LayoutModel",
            "_view_count": null,
            "_view_module": "@jupyter-widgets/base",
            "_view_module_version": "1.2.0",
            "_view_name": "LayoutView",
            "align_content": null,
            "align_items": null,
            "align_self": null,
            "border": null,
            "bottom": null,
            "display": null,
            "flex": null,
            "flex_flow": null,
            "grid_area": null,
            "grid_auto_columns": null,
            "grid_auto_flow": null,
            "grid_auto_rows": null,
            "grid_column": null,
            "grid_gap": null,
            "grid_row": null,
            "grid_template_areas": null,
            "grid_template_columns": null,
            "grid_template_rows": null,
            "height": null,
            "justify_content": null,
            "justify_items": null,
            "left": null,
            "margin": null,
            "max_height": null,
            "max_width": null,
            "min_height": null,
            "min_width": null,
            "object_fit": null,
            "object_position": null,
            "order": null,
            "overflow": null,
            "overflow_x": null,
            "overflow_y": null,
            "padding": null,
            "right": null,
            "top": null,
            "visibility": null,
            "width": null
          }
        },
        "57a4784fbda1460ea70616c9415bfbb9": {
          "model_module": "@jupyter-widgets/controls",
          "model_name": "DescriptionStyleModel",
          "model_module_version": "1.5.0",
          "state": {
            "_model_module": "@jupyter-widgets/controls",
            "_model_module_version": "1.5.0",
            "_model_name": "DescriptionStyleModel",
            "_view_count": null,
            "_view_module": "@jupyter-widgets/base",
            "_view_module_version": "1.2.0",
            "_view_name": "StyleView",
            "description_width": ""
          }
        },
        "faca3c9535e34852af7f2e4de9940d55": {
          "model_module": "@jupyter-widgets/controls",
          "model_name": "HBoxModel",
          "model_module_version": "1.5.0",
          "state": {
            "_dom_classes": [],
            "_model_module": "@jupyter-widgets/controls",
            "_model_module_version": "1.5.0",
            "_model_name": "HBoxModel",
            "_view_count": null,
            "_view_module": "@jupyter-widgets/controls",
            "_view_module_version": "1.5.0",
            "_view_name": "HBoxView",
            "box_style": "",
            "children": [
              "IPY_MODEL_a825dd030bde412db63c38a8766cb606",
              "IPY_MODEL_da66db3928c246e39ff00f75a0e9918d",
              "IPY_MODEL_ee3559c54d994da09684c62c970669bf"
            ],
            "layout": "IPY_MODEL_ed7ad4be975d4e2b84584d5ffe4dae4f"
          }
        },
        "a825dd030bde412db63c38a8766cb606": {
          "model_module": "@jupyter-widgets/controls",
          "model_name": "HTMLModel",
          "model_module_version": "1.5.0",
          "state": {
            "_dom_classes": [],
            "_model_module": "@jupyter-widgets/controls",
            "_model_module_version": "1.5.0",
            "_model_name": "HTMLModel",
            "_view_count": null,
            "_view_module": "@jupyter-widgets/controls",
            "_view_module_version": "1.5.0",
            "_view_name": "HTMLView",
            "description": "",
            "description_tooltip": null,
            "layout": "IPY_MODEL_4fcc243e92a3449da56e5fdbdb3a3bcb",
            "placeholder": "​",
            "style": "IPY_MODEL_885b658db1b14d5fa81ac25fe5093c87",
            "value": "Downloading: 100%"
          }
        },
        "da66db3928c246e39ff00f75a0e9918d": {
          "model_module": "@jupyter-widgets/controls",
          "model_name": "FloatProgressModel",
          "model_module_version": "1.5.0",
          "state": {
            "_dom_classes": [],
            "_model_module": "@jupyter-widgets/controls",
            "_model_module_version": "1.5.0",
            "_model_name": "FloatProgressModel",
            "_view_count": null,
            "_view_module": "@jupyter-widgets/controls",
            "_view_module_version": "1.5.0",
            "_view_name": "ProgressView",
            "bar_style": "success",
            "description": "",
            "description_tooltip": null,
            "layout": "IPY_MODEL_760f12005cba438ba594c79f442bb78f",
            "max": 3635,
            "min": 0,
            "orientation": "horizontal",
            "style": "IPY_MODEL_dbfe384c0b4a48618b0484857074f437",
            "value": 3635
          }
        },
        "ee3559c54d994da09684c62c970669bf": {
          "model_module": "@jupyter-widgets/controls",
          "model_name": "HTMLModel",
          "model_module_version": "1.5.0",
          "state": {
            "_dom_classes": [],
            "_model_module": "@jupyter-widgets/controls",
            "_model_module_version": "1.5.0",
            "_model_name": "HTMLModel",
            "_view_count": null,
            "_view_module": "@jupyter-widgets/controls",
            "_view_module_version": "1.5.0",
            "_view_name": "HTMLView",
            "description": "",
            "description_tooltip": null,
            "layout": "IPY_MODEL_c0482a1c6f4645d89208e8b2e8842b2c",
            "placeholder": "​",
            "style": "IPY_MODEL_72cdf8c722034423934054edff6110ea",
            "value": " 3.55k/3.55k [00:00&lt;00:00, 9.04kB/s]"
          }
        },
        "ed7ad4be975d4e2b84584d5ffe4dae4f": {
          "model_module": "@jupyter-widgets/base",
          "model_name": "LayoutModel",
          "model_module_version": "1.2.0",
          "state": {
            "_model_module": "@jupyter-widgets/base",
            "_model_module_version": "1.2.0",
            "_model_name": "LayoutModel",
            "_view_count": null,
            "_view_module": "@jupyter-widgets/base",
            "_view_module_version": "1.2.0",
            "_view_name": "LayoutView",
            "align_content": null,
            "align_items": null,
            "align_self": null,
            "border": null,
            "bottom": null,
            "display": null,
            "flex": null,
            "flex_flow": null,
            "grid_area": null,
            "grid_auto_columns": null,
            "grid_auto_flow": null,
            "grid_auto_rows": null,
            "grid_column": null,
            "grid_gap": null,
            "grid_row": null,
            "grid_template_areas": null,
            "grid_template_columns": null,
            "grid_template_rows": null,
            "height": null,
            "justify_content": null,
            "justify_items": null,
            "left": null,
            "margin": null,
            "max_height": null,
            "max_width": null,
            "min_height": null,
            "min_width": null,
            "object_fit": null,
            "object_position": null,
            "order": null,
            "overflow": null,
            "overflow_x": null,
            "overflow_y": null,
            "padding": null,
            "right": null,
            "top": null,
            "visibility": null,
            "width": null
          }
        },
        "4fcc243e92a3449da56e5fdbdb3a3bcb": {
          "model_module": "@jupyter-widgets/base",
          "model_name": "LayoutModel",
          "model_module_version": "1.2.0",
          "state": {
            "_model_module": "@jupyter-widgets/base",
            "_model_module_version": "1.2.0",
            "_model_name": "LayoutModel",
            "_view_count": null,
            "_view_module": "@jupyter-widgets/base",
            "_view_module_version": "1.2.0",
            "_view_name": "LayoutView",
            "align_content": null,
            "align_items": null,
            "align_self": null,
            "border": null,
            "bottom": null,
            "display": null,
            "flex": null,
            "flex_flow": null,
            "grid_area": null,
            "grid_auto_columns": null,
            "grid_auto_flow": null,
            "grid_auto_rows": null,
            "grid_column": null,
            "grid_gap": null,
            "grid_row": null,
            "grid_template_areas": null,
            "grid_template_columns": null,
            "grid_template_rows": null,
            "height": null,
            "justify_content": null,
            "justify_items": null,
            "left": null,
            "margin": null,
            "max_height": null,
            "max_width": null,
            "min_height": null,
            "min_width": null,
            "object_fit": null,
            "object_position": null,
            "order": null,
            "overflow": null,
            "overflow_x": null,
            "overflow_y": null,
            "padding": null,
            "right": null,
            "top": null,
            "visibility": null,
            "width": null
          }
        },
        "885b658db1b14d5fa81ac25fe5093c87": {
          "model_module": "@jupyter-widgets/controls",
          "model_name": "DescriptionStyleModel",
          "model_module_version": "1.5.0",
          "state": {
            "_model_module": "@jupyter-widgets/controls",
            "_model_module_version": "1.5.0",
            "_model_name": "DescriptionStyleModel",
            "_view_count": null,
            "_view_module": "@jupyter-widgets/base",
            "_view_module_version": "1.2.0",
            "_view_name": "StyleView",
            "description_width": ""
          }
        },
        "760f12005cba438ba594c79f442bb78f": {
          "model_module": "@jupyter-widgets/base",
          "model_name": "LayoutModel",
          "model_module_version": "1.2.0",
          "state": {
            "_model_module": "@jupyter-widgets/base",
            "_model_module_version": "1.2.0",
            "_model_name": "LayoutModel",
            "_view_count": null,
            "_view_module": "@jupyter-widgets/base",
            "_view_module_version": "1.2.0",
            "_view_name": "LayoutView",
            "align_content": null,
            "align_items": null,
            "align_self": null,
            "border": null,
            "bottom": null,
            "display": null,
            "flex": null,
            "flex_flow": null,
            "grid_area": null,
            "grid_auto_columns": null,
            "grid_auto_flow": null,
            "grid_auto_rows": null,
            "grid_column": null,
            "grid_gap": null,
            "grid_row": null,
            "grid_template_areas": null,
            "grid_template_columns": null,
            "grid_template_rows": null,
            "height": null,
            "justify_content": null,
            "justify_items": null,
            "left": null,
            "margin": null,
            "max_height": null,
            "max_width": null,
            "min_height": null,
            "min_width": null,
            "object_fit": null,
            "object_position": null,
            "order": null,
            "overflow": null,
            "overflow_x": null,
            "overflow_y": null,
            "padding": null,
            "right": null,
            "top": null,
            "visibility": null,
            "width": null
          }
        },
        "dbfe384c0b4a48618b0484857074f437": {
          "model_module": "@jupyter-widgets/controls",
          "model_name": "ProgressStyleModel",
          "model_module_version": "1.5.0",
          "state": {
            "_model_module": "@jupyter-widgets/controls",
            "_model_module_version": "1.5.0",
            "_model_name": "ProgressStyleModel",
            "_view_count": null,
            "_view_module": "@jupyter-widgets/base",
            "_view_module_version": "1.2.0",
            "_view_name": "StyleView",
            "bar_color": null,
            "description_width": ""
          }
        },
        "c0482a1c6f4645d89208e8b2e8842b2c": {
          "model_module": "@jupyter-widgets/base",
          "model_name": "LayoutModel",
          "model_module_version": "1.2.0",
          "state": {
            "_model_module": "@jupyter-widgets/base",
            "_model_module_version": "1.2.0",
            "_model_name": "LayoutModel",
            "_view_count": null,
            "_view_module": "@jupyter-widgets/base",
            "_view_module_version": "1.2.0",
            "_view_name": "LayoutView",
            "align_content": null,
            "align_items": null,
            "align_self": null,
            "border": null,
            "bottom": null,
            "display": null,
            "flex": null,
            "flex_flow": null,
            "grid_area": null,
            "grid_auto_columns": null,
            "grid_auto_flow": null,
            "grid_auto_rows": null,
            "grid_column": null,
            "grid_gap": null,
            "grid_row": null,
            "grid_template_areas": null,
            "grid_template_columns": null,
            "grid_template_rows": null,
            "height": null,
            "justify_content": null,
            "justify_items": null,
            "left": null,
            "margin": null,
            "max_height": null,
            "max_width": null,
            "min_height": null,
            "min_width": null,
            "object_fit": null,
            "object_position": null,
            "order": null,
            "overflow": null,
            "overflow_x": null,
            "overflow_y": null,
            "padding": null,
            "right": null,
            "top": null,
            "visibility": null,
            "width": null
          }
        },
        "72cdf8c722034423934054edff6110ea": {
          "model_module": "@jupyter-widgets/controls",
          "model_name": "DescriptionStyleModel",
          "model_module_version": "1.5.0",
          "state": {
            "_model_module": "@jupyter-widgets/controls",
            "_model_module_version": "1.5.0",
            "_model_name": "DescriptionStyleModel",
            "_view_count": null,
            "_view_module": "@jupyter-widgets/base",
            "_view_module_version": "1.2.0",
            "_view_name": "StyleView",
            "description_width": ""
          }
        }
      }
    }
  },
  "cells": [
    {
      "cell_type": "markdown",
      "metadata": {
        "id": "view-in-github",
        "colab_type": "text"
      },
      "source": [
        "<a href=\"https://colab.research.google.com/github/Niu-933/Data/blob/main/nlpyang.ipynb\" target=\"_parent\"><img src=\"https://colab.research.google.com/assets/colab-badge.svg\" alt=\"Open In Colab\"/></a>"
      ]
    },
    {
      "cell_type": "markdown",
      "source": [
        "**--------------------------------- Tokenization by StandfordCoreNLP -----------------------------------**\n"
      ],
      "metadata": {
        "id": "iJnTsS95Q2B4"
      }
    },
    {
      "cell_type": "markdown",
      "source": [
        "What we need looks like: https://github.com/nlpyang/BertSum/blob/master/json_data/cnndm_sample.train.0.json\n",
        "\n",
        "*split into sentence then individual words\n",
        "\n",
        "I tried two methods and had some problems:"
      ],
      "metadata": {
        "id": "FHWiBs77SVAT"
      }
    },
    {
      "cell_type": "code",
      "source": [
        "import tensorflow as tf"
      ],
      "metadata": {
        "id": "1ZNYw0gj1FhH"
      },
      "execution_count": 2,
      "outputs": []
    },
    {
      "cell_type": "code",
      "source": [
        "# Get the GPU device name.\n",
        "device_name = tf.test.gpu_device_name()"
      ],
      "metadata": {
        "id": "1b2kgWco1MT4"
      },
      "execution_count": 3,
      "outputs": []
    },
    {
      "cell_type": "code",
      "source": [
        "if device_name == '/device:GPU:0':\n",
        "    print('Found GPU at: {}'.format(device_name))\n",
        "else:\n",
        "    raise SystemError('GPU device not found')"
      ],
      "metadata": {
        "colab": {
          "base_uri": "https://localhost:8080/"
        },
        "id": "GilKmcHP1R3T",
        "outputId": "21f1174f-5d21-4e08-9781-5abb1d306818"
      },
      "execution_count": 4,
      "outputs": [
        {
          "output_type": "stream",
          "name": "stdout",
          "text": [
            "Found GPU at: /device:GPU:0\n"
          ]
        }
      ]
    },
    {
      "cell_type": "code",
      "source": [
        "import torch\n",
        "\n",
        "# If there's a GPU available...\n",
        "if torch.cuda.is_available():    \n",
        "\n",
        "    # Tell PyTorch to use the GPU.    \n",
        "    device = torch.device(\"cuda\")\n",
        "\n",
        "    print('There are %d GPU(s) available.' % torch.cuda.device_count())\n",
        "\n",
        "    print('We will use the GPU:', torch.cuda.get_device_name(0))\n",
        "\n",
        "# If not...\n",
        "else:\n",
        "    print('No GPU available, using the CPU instead.')\n",
        "    device = torch.device(\"cpu\")"
      ],
      "metadata": {
        "id": "-YFaQnnP1myz"
      },
      "execution_count": null,
      "outputs": []
    },
    {
      "cell_type": "code",
      "source": [
        "cd /content/"
      ],
      "metadata": {
        "colab": {
          "base_uri": "https://localhost:8080/"
        },
        "id": "BtyVXX_dnvlv",
        "outputId": "5753f74c-804b-436d-de1d-81715f636966"
      },
      "execution_count": 6,
      "outputs": [
        {
          "output_type": "stream",
          "name": "stdout",
          "text": [
            "/content\n"
          ]
        }
      ]
    },
    {
      "cell_type": "code",
      "source": [
        "!git clone https://github.com/nlpyang/BertSum.git"
      ],
      "metadata": {
        "id": "sYT3xS6knw5D",
        "colab": {
          "base_uri": "https://localhost:8080/"
        },
        "outputId": "589dc96c-d996-4f6b-d45e-99e1e37b8b8f"
      },
      "execution_count": 7,
      "outputs": [
        {
          "output_type": "stream",
          "name": "stdout",
          "text": [
            "Cloning into 'BertSum'...\n",
            "remote: Enumerating objects: 301, done.\u001b[K\n",
            "remote: Total 301 (delta 0), reused 0 (delta 0), pack-reused 301\u001b[K\n",
            "Receiving objects: 100% (301/301), 15.03 MiB | 16.86 MiB/s, done.\n",
            "Resolving deltas: 100% (174/174), done.\n"
          ]
        }
      ]
    },
    {
      "cell_type": "markdown",
      "source": [
        "First method: I split whold document by sentences. It works, but I can't put them into a correct json file. "
      ],
      "metadata": {
        "id": "SXxXmhiqSMtL"
      }
    },
    {
      "cell_type": "code",
      "source": [
        "!pip install stanfordnlp"
      ],
      "metadata": {
        "id": "38ZbMpZZnciS"
      },
      "execution_count": null,
      "outputs": []
    },
    {
      "cell_type": "code",
      "source": [
        "import stanfordnlp"
      ],
      "metadata": {
        "id": "HoP4xZ7inqB4"
      },
      "execution_count": 9,
      "outputs": []
    },
    {
      "cell_type": "code",
      "source": [
        "stanfordnlp.download('en', force=True)"
      ],
      "metadata": {
        "id": "mMzQWZ1xnqyd",
        "colab": {
          "base_uri": "https://localhost:8080/"
        },
        "outputId": "e7353cc8-43b5-42ce-ffc4-dbfd28e676fd"
      },
      "execution_count": 10,
      "outputs": [
        {
          "output_type": "stream",
          "name": "stdout",
          "text": [
            "Using the default treebank \"en_ewt\" for language \"en\".\n",
            "Would you like to download the models for: en_ewt now? (Y/n)\n",
            "\n",
            "Default download directory: /root/stanfordnlp_resources\n",
            "Hit enter to continue or type an alternate directory.\n",
            "\n",
            "Downloading models for: en_ewt\n",
            "Download location: /root/stanfordnlp_resources/en_ewt_models.zip\n"
          ]
        },
        {
          "output_type": "stream",
          "name": "stderr",
          "text": [
            "100%|██████████| 235M/235M [00:40<00:00, 5.74MB/s]\n"
          ]
        },
        {
          "output_type": "stream",
          "name": "stdout",
          "text": [
            "\n",
            "Download complete.  Models saved to: /root/stanfordnlp_resources/en_ewt_models.zip\n",
            "Extracting models file for: en_ewt\n",
            "Cleaning up...Done.\n"
          ]
        }
      ]
    },
    {
      "cell_type": "code",
      "source": [
        "import json\n",
        "with open('/content/BertSum/json_data/cnndm_sample.train.0.json', 'r') as f:\n",
        "  data = json.loads(f.read())"
      ],
      "metadata": {
        "id": "No6BXOJ-WyQ9"
      },
      "execution_count": null,
      "outputs": []
    },
    {
      "cell_type": "code",
      "source": [
        "import json\n",
        "with open('/content/test.json', 'r') as f:\n",
        "  data = json.loads(f.read())"
      ],
      "metadata": {
        "id": "Ik9wXzoTuHfS"
      },
      "execution_count": null,
      "outputs": []
    },
    {
      "cell_type": "code",
      "source": [
        "nlp = stanfordnlp.Pipeline(processors='tokenize', lang='en')\n",
        "data = str(data)\n",
        "#.replace('\\\\n', \" \")\n",
        "doc = nlp(data)"
      ],
      "metadata": {
        "id": "25if-fa3n4mS"
      },
      "execution_count": null,
      "outputs": []
    },
    {
      "cell_type": "code",
      "source": [
        "sent = str()\n",
        "for i, sentence in enumerate(doc.sentences):\n",
        "    sent0 = ' '.join(word.text for word in sentence.words)\n",
        "    sent = sent+sent0"
      ],
      "metadata": {
        "id": "bOjb88Z2XpJU"
      },
      "execution_count": null,
      "outputs": []
    },
    {
      "cell_type": "code",
      "source": [
        "ss = eval(sent)"
      ],
      "metadata": {
        "id": "DHE1mAs-3UR5"
      },
      "execution_count": null,
      "outputs": []
    },
    {
      "cell_type": "code",
      "source": [
        "def split_list(sentence):\n",
        "    # Split each sentence in the list, and append to result list\n",
        "    return [item.split() for item in sentence]"
      ],
      "metadata": {
        "id": "I3KMGgqdXzNd"
      },
      "execution_count": null,
      "outputs": []
    },
    {
      "cell_type": "code",
      "source": [
        "def json_data(data,key):\n",
        "  for item in key:\n",
        "    data[item] = data[item].split(\"\\n\")\n",
        "    data[item] = split_list(data[item])\n",
        "  return(data)"
      ],
      "metadata": {
        "id": "TlFYhjbh9MVO"
      },
      "execution_count": null,
      "outputs": []
    },
    {
      "cell_type": "code",
      "source": [
        "for key in keey:\n",
        "    ss.pop(key, None)"
      ],
      "metadata": {
        "id": "xOqXvQeZu9r2"
      },
      "execution_count": null,
      "outputs": []
    },
    {
      "cell_type": "code",
      "source": [
        "keey = [' cik ', ' company ', ' filing_type ', ' filing _ date ', ' period_of_report ', ' sic', ' state_of_inc ', ' state_location ', ' fiscal_year_end ', ' filing_html_index ', ' htm_filing_link ', ' complete_text_filing_link ', ' filename ']"
      ],
      "metadata": {
        "id": "g3joKe-Cvp7q"
      },
      "execution_count": null,
      "outputs": []
    },
    {
      "cell_type": "code",
      "source": [
        "keys = [' item_1 ', ' item_1A ', ' item _ 1 B ', ' item_ 2 ', ' item_ 3 ', ' item _ 4 ', ' item_5 ', ' item_6 ', ' item _ 7 ', ' item _7A ', ' item_ 8 ', ' item _ 9 ', ' item_9 A ', ' item_9 B ', ' item _10 ', ' item_11 ', ' item_12 ', ' item_13 ', ' item_14 ', ' item_15 ']\n",
        "da = json_data(ss,keys)"
      ],
      "metadata": {
        "id": "3mtpgziWBtRf"
      },
      "execution_count": null,
      "outputs": []
    },
    {
      "cell_type": "code",
      "source": [
        ""
      ],
      "metadata": {
        "id": "qD9FeKLfuw4i"
      },
      "execution_count": null,
      "outputs": []
    },
    {
      "cell_type": "code",
      "source": [
        "with open(\"/content/BertSum/json_data/cnndm_sample.train.1.json\", \"w\") as fp:\n",
        "    json.dump([da],fp,indent=4)"
      ],
      "metadata": {
        "id": "b2-mA1vaH6aO"
      },
      "execution_count": null,
      "outputs": []
    },
    {
      "cell_type": "code",
      "source": [
        ""
      ],
      "metadata": {
        "id": "ZvRE-uEDY6ZV"
      },
      "execution_count": null,
      "outputs": []
    },
    {
      "cell_type": "code",
      "source": [
        "\n",
        "da['src'] = da[' item_1 ']\n",
        "del da[' item_1 ']\n",
        "print(\"New dictionary-\",da['src'])\n"
      ],
      "metadata": {
        "id": "e_ZLL3egTLwv"
      },
      "execution_count": null,
      "outputs": []
    },
    {
      "cell_type": "code",
      "source": [
        "for d in data:\n",
        "  d\n"
      ],
      "metadata": {
        "id": "_5GVKnl_jSYV"
      },
      "execution_count": null,
      "outputs": []
    },
    {
      "cell_type": "code",
      "source": [
        "print(ss.keys())"
      ],
      "metadata": {
        "colab": {
          "base_uri": "https://localhost:8080/"
        },
        "id": "cplG5HoAzKZ_",
        "outputId": "11d82a04-15fb-4b25-c9dc-7bea055198dc"
      },
      "execution_count": null,
      "outputs": [
        {
          "output_type": "stream",
          "name": "stdout",
          "text": [
            "dict_keys([' item_1 ', ' item_1A ', ' item _ 1 B ', ' item_ 2 ', ' item_ 3 ', ' item _ 4 ', ' item_5 ', ' item_6 ', ' item _ 7 ', ' item _7A ', ' item_ 8 ', ' item _ 9 ', ' item_9 A ', ' item_9 B ', ' item _10 ', ' item_11 ', ' item_12 ', ' item_13 ', ' item_14 ', ' item_15 '])\n"
          ]
        }
      ]
    },
    {
      "cell_type": "code",
      "source": [
        "!python preprocess.py -mode format_to_bert -raw_path ../json_data -save_path ../bert_data -oracle_mode combination -n_cpus 1 -log_file ../logs/preprocess.log"
      ],
      "metadata": {
        "id": "nOSYKjffBN96"
      },
      "execution_count": null,
      "outputs": []
    },
    {
      "cell_type": "markdown",
      "source": [
        "Sencond methods: Error: Could not find or load main class edu.stanford.nlp.pipeline.StanfordCoreNLP\n",
        "Caused by: java.lang.ClassNotFoundException: edu.stanford.nlp.pipeline.StanfordCoreNLP\n",
        "\n",
        "**Sentences Spliting then Format to Simpler Json Files\n",
        "It's used by https://github.com/nlpyang/BertSum\n",
        "\n",
        "We'v already download json file. Maybe the first methods is better? \n",
        "I want to use their code to traning the models: BertSum+{LSTM,classifier,Transformer} and BertSum+RNN\n",
        "\n",
        "I tried their traning code, it works well. \n",
        "\n",
        "Besides, I'd like to built a simple BART model and T5 model. Just the simple one, not too complicate. https://github.com/pytorch/fairseq/tree/main/examples/bart\n",
        "\n",
        "Next step: \n",
        " tokenize all data\n",
        " traning models (I'm not sure if my own laptop can handle them, if not, I have to use campus's computer. Can I stay at classroom for a whole day?)\n",
        " And write data and model part "
      ],
      "metadata": {
        "id": "WZ9ema9EWCQe"
      }
    },
    {
      "cell_type": "code",
      "source": [
        "cd /content/BertSum/src/"
      ],
      "metadata": {
        "id": "nE85MaUHGyLq",
        "colab": {
          "base_uri": "https://localhost:8080/"
        },
        "outputId": "3113136c-514d-466e-97ea-1cfb62e3fade"
      },
      "execution_count": null,
      "outputs": [
        {
          "output_type": "stream",
          "name": "stdout",
          "text": [
            "/content/BertSum/src\n"
          ]
        }
      ]
    },
    {
      "cell_type": "code",
      "source": [
        "!pip install pytorch_pretrained_bert"
      ],
      "metadata": {
        "id": "x1jQzrppG-nE"
      },
      "execution_count": null,
      "outputs": []
    },
    {
      "cell_type": "code",
      "source": [
        "!pip install torch==1.1.0 pytorch_transformers tensorboardX multiprocess pyrouge"
      ],
      "metadata": {
        "id": "2SP3uWy3HItV",
        "colab": {
          "base_uri": "https://localhost:8080/",
          "height": 1000
        },
        "outputId": "334c72c7-e574-4ed6-dedc-d9d0928be1e7"
      },
      "execution_count": 8,
      "outputs": [
        {
          "output_type": "stream",
          "name": "stdout",
          "text": [
            "Collecting torch==1.1.0\n",
            "  Downloading torch-1.1.0-cp37-cp37m-manylinux1_x86_64.whl (676.9 MB)\n",
            "\u001b[K     |████████████████████████████████| 676.9 MB 3.9 kB/s \n",
            "\u001b[?25hCollecting pytorch_transformers\n",
            "  Downloading pytorch_transformers-1.2.0-py3-none-any.whl (176 kB)\n",
            "\u001b[K     |████████████████████████████████| 176 kB 47.9 MB/s \n",
            "\u001b[?25hCollecting tensorboardX\n",
            "  Downloading tensorboardX-2.5-py2.py3-none-any.whl (125 kB)\n",
            "\u001b[K     |████████████████████████████████| 125 kB 50.9 MB/s \n",
            "\u001b[?25hRequirement already satisfied: multiprocess in /usr/local/lib/python3.7/dist-packages (0.70.12.2)\n",
            "Collecting pyrouge\n",
            "  Downloading pyrouge-0.1.3.tar.gz (60 kB)\n",
            "\u001b[K     |████████████████████████████████| 60 kB 6.9 MB/s \n",
            "\u001b[?25hRequirement already satisfied: numpy in /usr/local/lib/python3.7/dist-packages (from torch==1.1.0) (1.21.5)\n",
            "Requirement already satisfied: boto3 in /usr/local/lib/python3.7/dist-packages (from pytorch_transformers) (1.21.23)\n",
            "Requirement already satisfied: tqdm in /usr/local/lib/python3.7/dist-packages (from pytorch_transformers) (4.63.0)\n",
            "Collecting sentencepiece\n",
            "  Downloading sentencepiece-0.1.96-cp37-cp37m-manylinux_2_17_x86_64.manylinux2014_x86_64.whl (1.2 MB)\n",
            "\u001b[K     |████████████████████████████████| 1.2 MB 39.2 MB/s \n",
            "\u001b[?25hCollecting sacremoses\n",
            "  Downloading sacremoses-0.0.49-py3-none-any.whl (895 kB)\n",
            "\u001b[K     |████████████████████████████████| 895 kB 40.4 MB/s \n",
            "\u001b[?25hRequirement already satisfied: requests in /usr/local/lib/python3.7/dist-packages (from pytorch_transformers) (2.23.0)\n",
            "Requirement already satisfied: regex in /usr/local/lib/python3.7/dist-packages (from pytorch_transformers) (2019.12.20)\n",
            "Requirement already satisfied: six in /usr/local/lib/python3.7/dist-packages (from tensorboardX) (1.15.0)\n",
            "Requirement already satisfied: protobuf>=3.8.0 in /usr/local/lib/python3.7/dist-packages (from tensorboardX) (3.17.3)\n",
            "Requirement already satisfied: dill>=0.3.4 in /usr/local/lib/python3.7/dist-packages (from multiprocess) (0.3.4)\n",
            "Requirement already satisfied: jmespath<2.0.0,>=0.7.1 in /usr/local/lib/python3.7/dist-packages (from boto3->pytorch_transformers) (1.0.0)\n",
            "Requirement already satisfied: s3transfer<0.6.0,>=0.5.0 in /usr/local/lib/python3.7/dist-packages (from boto3->pytorch_transformers) (0.5.2)\n",
            "Requirement already satisfied: botocore<1.25.0,>=1.24.23 in /usr/local/lib/python3.7/dist-packages (from boto3->pytorch_transformers) (1.24.23)\n",
            "Requirement already satisfied: urllib3<1.27,>=1.25.4 in /usr/local/lib/python3.7/dist-packages (from botocore<1.25.0,>=1.24.23->boto3->pytorch_transformers) (1.25.11)\n",
            "Requirement already satisfied: python-dateutil<3.0.0,>=2.1 in /usr/local/lib/python3.7/dist-packages (from botocore<1.25.0,>=1.24.23->boto3->pytorch_transformers) (2.8.2)\n",
            "Requirement already satisfied: certifi>=2017.4.17 in /usr/local/lib/python3.7/dist-packages (from requests->pytorch_transformers) (2021.10.8)\n",
            "Requirement already satisfied: chardet<4,>=3.0.2 in /usr/local/lib/python3.7/dist-packages (from requests->pytorch_transformers) (3.0.4)\n",
            "Requirement already satisfied: idna<3,>=2.5 in /usr/local/lib/python3.7/dist-packages (from requests->pytorch_transformers) (2.10)\n",
            "Requirement already satisfied: joblib in /usr/local/lib/python3.7/dist-packages (from sacremoses->pytorch_transformers) (1.1.0)\n",
            "Requirement already satisfied: click in /usr/local/lib/python3.7/dist-packages (from sacremoses->pytorch_transformers) (7.1.2)\n",
            "Building wheels for collected packages: pyrouge\n",
            "  Building wheel for pyrouge (setup.py) ... \u001b[?25l\u001b[?25hdone\n",
            "  Created wheel for pyrouge: filename=pyrouge-0.1.3-py3-none-any.whl size=191621 sha256=84e28cf08099dad33ba7d8913b4471ff3561e6bb359f8082233742f5d40216db\n",
            "  Stored in directory: /root/.cache/pip/wheels/68/35/6a/ffb9a1f51b2b00fee42e7f67f5a5d8e10c67d048cda09ccd57\n",
            "Successfully built pyrouge\n",
            "Installing collected packages: torch, sentencepiece, sacremoses, tensorboardX, pytorch-transformers, pyrouge\n",
            "  Attempting uninstall: torch\n",
            "    Found existing installation: torch 1.10.0+cu111\n",
            "    Uninstalling torch-1.10.0+cu111:\n",
            "      Successfully uninstalled torch-1.10.0+cu111\n",
            "\u001b[31mERROR: pip's dependency resolver does not currently take into account all the packages that are installed. This behaviour is the source of the following dependency conflicts.\n",
            "torchvision 0.11.1+cu111 requires torch==1.10.0, but you have torch 1.1.0 which is incompatible.\n",
            "torchtext 0.11.0 requires torch==1.10.0, but you have torch 1.1.0 which is incompatible.\n",
            "torchaudio 0.10.0+cu111 requires torch==1.10.0, but you have torch 1.1.0 which is incompatible.\u001b[0m\n",
            "Successfully installed pyrouge-0.1.3 pytorch-transformers-1.2.0 sacremoses-0.0.49 sentencepiece-0.1.96 tensorboardX-2.5 torch-1.1.0\n"
          ]
        },
        {
          "output_type": "display_data",
          "data": {
            "application/vnd.colab-display-data+json": {
              "pip_warning": {
                "packages": [
                  "torch"
                ]
              }
            }
          },
          "metadata": {}
        }
      ]
    },
    {
      "cell_type": "code",
      "source": [
        "cd /content/"
      ],
      "metadata": {
        "colab": {
          "base_uri": "https://localhost:8080/"
        },
        "id": "FNidWRonLHME",
        "outputId": "bf55d17b-0c9c-4eb6-b95f-8857f937d5ee"
      },
      "execution_count": null,
      "outputs": [
        {
          "output_type": "stream",
          "name": "stdout",
          "text": [
            "/content\n"
          ]
        }
      ]
    },
    {
      "cell_type": "markdown",
      "source": [
        "The following code is about the training model."
      ],
      "metadata": {
        "id": "CDWCls_JbqeH"
      }
    },
    {
      "cell_type": "code",
      "source": [
        "cd /content/BertSum/src/bert_data/"
      ],
      "metadata": {
        "id": "ddunZx8kOFwP",
        "colab": {
          "base_uri": "https://localhost:8080/"
        },
        "outputId": "e3364665-754f-401e-a255-432ebfd1a7c3"
      },
      "execution_count": 11,
      "outputs": [
        {
          "output_type": "stream",
          "name": "stdout",
          "text": [
            "[Errno 2] No such file or directory: '/content/BertSum/src/bert_data/'\n",
            "/content\n"
          ]
        }
      ]
    },
    {
      "cell_type": "code",
      "source": [
        "!pip install googleDriveFileDownloader"
      ],
      "metadata": {
        "id": "u_cS2MJzn_dw",
        "colab": {
          "base_uri": "https://localhost:8080/"
        },
        "outputId": "c4cc63a8-210e-43ee-df99-07783e92ec40"
      },
      "execution_count": 10,
      "outputs": [
        {
          "output_type": "stream",
          "name": "stdout",
          "text": [
            "Collecting googleDriveFileDownloader\n",
            "  Downloading googleDriveFileDownloader-1.2-py3-none-any.whl (15 kB)\n",
            "Requirement already satisfied: beautifulsoup4 in /usr/local/lib/python3.7/dist-packages (from googleDriveFileDownloader) (4.6.3)\n",
            "Installing collected packages: googleDriveFileDownloader\n",
            "Successfully installed googleDriveFileDownloader-1.2\n"
          ]
        }
      ]
    },
    {
      "cell_type": "code",
      "source": [
        "from googleDriveFileDownloader import googleDriveFileDownloader\n",
        "gdrive = googleDriveFileDownloader()\n",
        "gdrive.downloadFile(\"https://drive.google.com/uc?id=1x0d61LP9UAN389YN00z0Pv-7jQgirVg6&export=download\")"
      ],
      "metadata": {
        "id": "Zu_ShdZp1qA_"
      },
      "execution_count": null,
      "outputs": []
    },
    {
      "cell_type": "code",
      "source": [
        "#!unzip /content/BertSum/bert_data/bertsum_data.zip"
      ],
      "metadata": {
        "id": "MCvhan5D1y4F"
      },
      "execution_count": null,
      "outputs": []
    },
    {
      "cell_type": "code",
      "source": [
        "#!pip install pytorch_pretrained_bert"
      ],
      "metadata": {
        "id": "GCv1E3caonGd"
      },
      "execution_count": null,
      "outputs": []
    },
    {
      "cell_type": "code",
      "source": [
        "#!pip install torch==1.1.0 pytorch_transformers tensorboardX multiprocess pyrouge"
      ],
      "metadata": {
        "id": "-8EmFRNRozki"
      },
      "execution_count": null,
      "outputs": []
    },
    {
      "cell_type": "code",
      "source": [
        "!python train.py -mode train -encoder classifier -dropout 0.1 -bert_data_path ../bert_data/cnndm -model_path ../models/bert_classifierr -lr 2e-3 -visible_gpus 0 -gpu_ranks 0 -world_size 1 -report_every 50 -save_checkpoint_steps 100 -batch_size 3000 -decay_method noam -train_steps 200 -accum_count 2 -log_file ../logs/bert_classifier -use_interval true -warmup_steps 100"
      ],
      "metadata": {
        "id": "m9Jwdjibywvg"
      },
      "execution_count": null,
      "outputs": []
    },
    {
      "cell_type": "code",
      "source": [
        "!python train.py -mode validate -bert_data_path ../bert_data/cnndm -model_path  ../models/bert_transformer  -visible_gpus 0  -gpu_ranks 0 -batch_size 3000  -log_file ../logs/vsli  -result_path ../results/cnndm -test_all -block_trigram True"
      ],
      "metadata": {
        "id": "ooqNIN7SzTe5",
        "colab": {
          "base_uri": "https://localhost:8080/"
        },
        "outputId": "5549795d-6d12-468b-eca6-f53d06c72ae9"
      },
      "execution_count": 20,
      "outputs": [
        {
          "output_type": "stream",
          "name": "stdout",
          "text": [
            "[2022-03-22 08:23:40,841 INFO] Loading checkpoint from ../models/bert_transformer/model_step_50.pt\n",
            "Namespace(accum_count=1, batch_size=3000, bert_config_path='../bert_config_uncased_base.json', bert_data_path='../bert_data/cnndm', beta1=0.9, beta2=0.999, block_trigram=True, dataset='', decay_method='', dropout=0.1, encoder='transformer', ff_size=2048, gpu_ranks=[0], heads=8, hidden_size=128, inter_layers=2, log_file='../logs/vsli', lr=1, max_grad_norm=0, mode='validate', model_path='../models/bert_transformer', optim='adam', param_init=0, param_init_glorot=True, recall_eval=False, report_every=1, report_rouge=True, result_path='../results/cnndm', rnn_size=512, save_checkpoint_steps=5, seed=666, temp_dir='../temp', test_all=True, test_from='', train_from='', train_steps=1000, use_interval=True, visible_gpus='0', warmup_steps=8000, world_size=1)\n",
            "[2022-03-22 08:23:46,240 INFO] Loading valid dataset from ../bert_data/cnndm.valid.0.bert.pt, number of examples: 2001\n",
            "gpu_rank 0\n",
            "[2022-03-22 08:23:46,246 INFO] * number of parameters: 120512513\n",
            "[2022-03-22 08:26:26,348 INFO] Loading valid dataset from ../bert_data/cnndm.valid.1.bert.pt, number of examples: 2001\n",
            "[2022-03-22 08:29:06,081 INFO] Loading valid dataset from ../bert_data/cnndm.valid.2.bert.pt, number of examples: 2001\n",
            "[2022-03-22 08:31:46,928 INFO] Loading valid dataset from ../bert_data/cnndm.valid.3.bert.pt, number of examples: 2000\n",
            "[2022-03-22 08:34:28,165 INFO] Loading valid dataset from ../bert_data/cnndm.valid.4.bert.pt, number of examples: 2001\n",
            "Traceback (most recent call last):\n",
            "  File \"train.py\", line 342, in <module>\n",
            "    wait_and_validate(args, device_id)\n",
            "  File \"train.py\", line 129, in wait_and_validate\n",
            "    xent = validate(args,  device_id, cp, step)\n",
            "  File \"train.py\", line 189, in validate\n",
            "    stats = trainer.validate(valid_iter, step)\n",
            "  File \"/content/BertSum/src/models/trainer.py\", line 188, in validate\n",
            "    for batch in valid_iter:\n",
            "  File \"/content/BertSum/src/models/data_loader.py\", line 133, in __iter__\n",
            "    self.cur_iter = self._next_dataset_iterator(dataset_iter)\n",
            "  File \"/content/BertSum/src/models/data_loader.py\", line 145, in _next_dataset_iterator\n",
            "    self.cur_dataset = next(dataset_iter)\n",
            "  File \"/content/BertSum/src/models/data_loader.py\", line 129, in <genexpr>\n",
            "    dataset_iter = (d for d in self.datasets)\n",
            "  File \"/content/BertSum/src/models/data_loader.py\", line 95, in load_dataset\n",
            "    yield _lazy_dataset_loader(pt, corpus_type)\n",
            "  File \"/content/BertSum/src/models/data_loader.py\", line 83, in _lazy_dataset_loader\n",
            "    dataset = torch.load(pt_file)\n",
            "  File \"/usr/local/lib/python3.7/dist-packages/torch/serialization.py\", line 382, in load\n",
            "    f = open(f, 'rb')\n",
            "FileNotFoundError: [Errno 2] No such file or directory: '../bert_data/cnndm.valid.5.bert.pt'\n"
          ]
        }
      ]
    },
    {
      "cell_type": "code",
      "source": [
        "==2.60"
      ],
      "metadata": {
        "id": "sqy29YhrzAuT"
      },
      "execution_count": null,
      "outputs": []
    },
    {
      "cell_type": "code",
      "source": [
        "!pip install pyrouge --upgrade\n",
        "!pip install https://github.com/bheinzerling/pyrouge/archive/master.zip\n",
        "!pip install pyrouge\n",
        "!pip show pyrouge\n",
        "!git clone https://github.com/andersjo/pyrouge.git\n",
        "from pyrouge import Rouge155\n",
        "!pyrouge_set_rouge_path 'pyrouge/tools/ROUGE-1.5.5'"
      ],
      "metadata": {
        "id": "ftzmhamT5U8e"
      },
      "execution_count": null,
      "outputs": []
    },
    {
      "cell_type": "code",
      "source": [
        "cd /content/BertSum/bert_data/"
      ],
      "metadata": {
        "colab": {
          "base_uri": "https://localhost:8080/"
        },
        "id": "NBmHIiXtyDKI",
        "outputId": "39e31e05-681e-4b94-dee1-3c89339099bf"
      },
      "execution_count": 12,
      "outputs": [
        {
          "output_type": "stream",
          "name": "stdout",
          "text": [
            "/content/BertSum/bert_data\n"
          ]
        }
      ]
    },
    {
      "cell_type": "code",
      "source": [
        "!pip install googleDriveFileDownloader"
      ],
      "metadata": {
        "colab": {
          "base_uri": "https://localhost:8080/"
        },
        "id": "wjtNqcwhyfeM",
        "outputId": "e3fbf8d4-f996-45bf-8d39-dd4fae62302c"
      },
      "execution_count": 13,
      "outputs": [
        {
          "output_type": "stream",
          "name": "stdout",
          "text": [
            "Requirement already satisfied: googleDriveFileDownloader in /usr/local/lib/python3.7/dist-packages (1.2)\n",
            "Requirement already satisfied: beautifulsoup4 in /usr/local/lib/python3.7/dist-packages (from googleDriveFileDownloader) (4.6.3)\n"
          ]
        }
      ]
    },
    {
      "cell_type": "code",
      "source": [
        "from googleDriveFileDownloader import googleDriveFileDownloader\n",
        "gdrive = googleDriveFileDownloader()\n",
        "gdrive.downloadFile(\"https://drive.google.com/uc?id=1x0d61LP9UAN389YN00z0Pv-7jQgirVg6&export=download\")"
      ],
      "metadata": {
        "id": "rlHx78ToyWkT",
        "colab": {
          "base_uri": "https://localhost:8080/"
        },
        "outputId": "3884e66a-1874-4d4e-bf19-cdda9288ef0f"
      },
      "execution_count": 14,
      "outputs": [
        {
          "output_type": "stream",
          "name": "stdout",
          "text": [
            "Download is starting\n",
            "FILENAME ::: bertsum_data.zip\n"
          ]
        },
        {
          "output_type": "execute_result",
          "data": {
            "text/plain": [
              "0"
            ]
          },
          "metadata": {},
          "execution_count": 14
        }
      ]
    },
    {
      "cell_type": "code",
      "source": [
        "!unzip /content/BertSum/bert_data/bertsum_data.zip"
      ],
      "metadata": {
        "id": "4Soj0qaryZuJ"
      },
      "execution_count": null,
      "outputs": []
    },
    {
      "cell_type": "code",
      "source": [
        "cd /content/BertSum/src/"
      ],
      "metadata": {
        "colab": {
          "base_uri": "https://localhost:8080/"
        },
        "id": "Cb7UZGwntcl8",
        "outputId": "626bca7d-c9fe-4d0c-c885-dac8a096a72c"
      },
      "execution_count": 17,
      "outputs": [
        {
          "output_type": "stream",
          "name": "stdout",
          "text": [
            "/content/BertSum/src\n"
          ]
        }
      ]
    },
    {
      "cell_type": "code",
      "source": [
        "!python train.py -mode train -encoder transformer -dropout 0.1 -bert_data_path ../bert_data/cnndm -model_path ../models/bert_transformer -lr 2e-3 -visible_gpus 0  -gpu_ranks 0 -world_size 1 -report_every 50 -save_checkpoint_steps 50 -batch_size 3000 -decay_method noam -train_steps 50 -accum_count 2 -log_file ../logs/bert_transformer -use_interval true -warmup_steps 10 -ff_size 2048 -inter_layers 2 -heads 8"
      ],
      "metadata": {
        "id": "s6ZzaKpg1pqc"
      },
      "execution_count": null,
      "outputs": []
    },
    {
      "cell_type": "code",
      "source": [
        "#!python train.py -mode validate -bert_data_path ../bert_data/cnndm -model_path ../models/bert_transformer  -visible_gpus 0  -gpu_ranks 0 -batch_size 30000  -log_file ../logs/bert_transformer  -result_path ../results/conndm -test_all -block_trigram true"
      ],
      "metadata": {
        "id": "GIVQZNJLzHeg"
      },
      "execution_count": null,
      "outputs": []
    },
    {
      "cell_type": "code",
      "source": [
        "#max_len = 0\n",
        "\n",
        "# For every sentence...\n",
        "#for sent in sentences:\n",
        "\n",
        "    # Tokenize the text and add `[CLS]` and `[SEP]` tokens.\n",
        "#    input_ids = tokenizer.encode(sent, add_special_tokens=True)\n",
        "\n",
        "    # Update the maximum sentence length.\n",
        "#    max_len = max(max_len, len(input_ids))\n",
        "\n",
        "#print('Max sentence length: ', max_len)"
      ],
      "metadata": {
        "id": "HvQA1UxUzMPO"
      },
      "execution_count": null,
      "outputs": []
    },
    {
      "cell_type": "code",
      "source": [
        "from torch.utils.data import TensorDataset, random_split\n",
        "\n",
        "# Combine the training inputs into a TensorDataset.\n",
        "dataset = TensorDataset(input_ids, attention_masks, labels)\n",
        "\n",
        "# Create a 90-10 train-validation split.\n",
        "\n",
        "# Calculate the number of samples to include in each set.\n",
        "train_size = int(0.9 * len(dataset))\n",
        "val_size = len(dataset) - train_size\n",
        "\n",
        "# Divide the dataset by randomly selecting samples.\n",
        "train_dataset, val_dataset = random_split(dataset, [train_size, val_size])\n",
        "\n",
        "print('{:>5,} training samples'.format(train_size))\n",
        "print('{:>5,} validation samples'.format(val_size))"
      ],
      "metadata": {
        "colab": {
          "base_uri": "https://localhost:8080/"
        },
        "id": "oFTY_kypzVbR",
        "outputId": "67bfb64d-102e-4e4f-b528-f026b99c637d"
      },
      "execution_count": null,
      "outputs": [
        {
          "output_type": "stream",
          "name": "stdout",
          "text": [
            "7,695 training samples\n",
            "  856 validation samples\n"
          ]
        }
      ]
    },
    {
      "cell_type": "code",
      "source": [
        "from torch.utils.data import DataLoader, RandomSampler, SequentialSampler\n",
        "\n",
        "# The DataLoader needs to know our batch size for training, so we specify it \n",
        "# here. For fine-tuning BERT on a specific task, the authors recommend a batch \n",
        "# size of 16 or 32.\n",
        "batch_size = 32\n",
        "\n",
        "# Create the DataLoaders for our training and validation sets.\n",
        "# We'll take training samples in random order. \n",
        "train_dataloader = DataLoader(\n",
        "            train_dataset,  # The training samples.\n",
        "            sampler = RandomSampler(train_dataset), # Select batches randomly\n",
        "            batch_size = batch_size # Trains with this batch size.\n",
        "        )\n",
        "\n",
        "# For validation the order doesn't matter, so we'll just read them sequentially.\n",
        "validation_dataloader = DataLoader(\n",
        "            val_dataset, # The validation samples.\n",
        "            sampler = SequentialSampler(val_dataset), # Pull out batches sequentially.\n",
        "            batch_size = batch_size # Evaluate with this batch size.\n",
        "        )"
      ],
      "metadata": {
        "id": "jAQy8D6hzZRz"
      },
      "execution_count": null,
      "outputs": []
    },
    {
      "cell_type": "code",
      "source": [
        "from transformers import BertTokenizerFast, EncoderDecoderModel\n",
        "device = 'cuda' if torch.cuda.is_available() else 'cpu'\n",
        "ckpt = 'mrm8488/bert2bert_shared-spanish-finetuned-summarization'\n",
        "tokenizer = BertTokenizerFast.from_pretrained(ckpt)\n",
        "model = EncoderDecoderModel.from_pretrained(ckpt).to(device)\n"
      ],
      "metadata": {
        "id": "l5af2ogC2Hot"
      },
      "execution_count": null,
      "outputs": []
    },
    {
      "cell_type": "code",
      "source": [
        "# Get all of the model's parameters as a list of tuples.\n",
        "params = list(model.named_parameters())\n",
        "\n",
        "print('The BERT model has {:} different named parameters.\\n'.format(len(params)))\n",
        "\n",
        "print('==== Embedding Layer ====\\n')\n",
        "\n",
        "for p in params[0:5]:\n",
        "    print(\"{:<55} {:>12}\".format(p[0], str(tuple(p[1].size()))))\n",
        "\n",
        "print('\\n==== First Transformer ====\\n')\n",
        "\n",
        "for p in params[5:21]:\n",
        "    print(\"{:<55} {:>12}\".format(p[0], str(tuple(p[1].size()))))\n",
        "\n",
        "print('\\n==== Output Layer ====\\n')\n",
        "\n",
        "for p in params[-4:]:\n",
        "    print(\"{:<55} {:>12}\".format(p[0], str(tuple(p[1].size()))))"
      ],
      "metadata": {
        "colab": {
          "base_uri": "https://localhost:8080/"
        },
        "id": "Gy2noFvtzlZq",
        "outputId": "833ff4a1-7202-45c6-bcca-3da585185bf6"
      },
      "execution_count": null,
      "outputs": [
        {
          "output_type": "stream",
          "name": "stdout",
          "text": [
            "The BERT model has 324 different named parameters.\n",
            "\n",
            "==== Embedding Layer ====\n",
            "\n",
            "encoder.embeddings.word_embeddings.weight               (31002, 768)\n",
            "encoder.embeddings.position_embeddings.weight             (512, 768)\n",
            "encoder.embeddings.token_type_embeddings.weight             (2, 768)\n",
            "encoder.embeddings.LayerNorm.weight                           (768,)\n",
            "encoder.embeddings.LayerNorm.bias                             (768,)\n",
            "\n",
            "==== First Transformer ====\n",
            "\n",
            "encoder.encoder.layer.0.attention.self.query.weight       (768, 768)\n",
            "encoder.encoder.layer.0.attention.self.query.bias             (768,)\n",
            "encoder.encoder.layer.0.attention.self.key.weight         (768, 768)\n",
            "encoder.encoder.layer.0.attention.self.key.bias               (768,)\n",
            "encoder.encoder.layer.0.attention.self.value.weight       (768, 768)\n",
            "encoder.encoder.layer.0.attention.self.value.bias             (768,)\n",
            "encoder.encoder.layer.0.attention.output.dense.weight     (768, 768)\n",
            "encoder.encoder.layer.0.attention.output.dense.bias           (768,)\n",
            "encoder.encoder.layer.0.attention.output.LayerNorm.weight       (768,)\n",
            "encoder.encoder.layer.0.attention.output.LayerNorm.bias       (768,)\n",
            "encoder.encoder.layer.0.intermediate.dense.weight        (3072, 768)\n",
            "encoder.encoder.layer.0.intermediate.dense.bias              (3072,)\n",
            "encoder.encoder.layer.0.output.dense.weight              (768, 3072)\n",
            "encoder.encoder.layer.0.output.dense.bias                     (768,)\n",
            "encoder.encoder.layer.0.output.LayerNorm.weight               (768,)\n",
            "encoder.encoder.layer.0.output.LayerNorm.bias                 (768,)\n",
            "\n",
            "==== Output Layer ====\n",
            "\n",
            "decoder.cls.predictions.transform.dense.weight            (768, 768)\n",
            "decoder.cls.predictions.transform.dense.bias                  (768,)\n",
            "decoder.cls.predictions.transform.LayerNorm.weight            (768,)\n",
            "decoder.cls.predictions.transform.LayerNorm.bias              (768,)\n"
          ]
        }
      ]
    },
    {
      "cell_type": "code",
      "source": [
        "python train.py -mode train -encoder classifier"
      ],
      "metadata": {
        "colab": {
          "base_uri": "https://localhost:8080/",
          "height": 130
        },
        "id": "UujIgvOZ_Ugr",
        "outputId": "95cbeb1e-8b8d-43c1-b6ae-004c2f699744"
      },
      "execution_count": null,
      "outputs": [
        {
          "output_type": "error",
          "ename": "SyntaxError",
          "evalue": "ignored",
          "traceback": [
            "\u001b[0;36m  File \u001b[0;32m\"<ipython-input-67-7e9bdb5a80de>\"\u001b[0;36m, line \u001b[0;32m1\u001b[0m\n\u001b[0;31m    python train.py -mode train -encoder classifier\u001b[0m\n\u001b[0m               ^\u001b[0m\n\u001b[0;31mSyntaxError\u001b[0m\u001b[0;31m:\u001b[0m invalid syntax\n"
          ]
        }
      ]
    },
    {
      "cell_type": "code",
      "source": [
        "# Note: AdamW is a class from the huggingface library (as opposed to pytorch) \n",
        "# I believe the 'W' stands for 'Weight Decay fix\"\n",
        "optimizer = AdamW(model.parameters(),\n",
        "                  lr = 2e-5, # args.learning_rate - default is 5e-5, our notebook had 2e-5\n",
        "                  eps = 1e-8 # args.adam_epsilon  - default is 1e-8.\n",
        "                )\n"
      ],
      "metadata": {
        "id": "zyWdzK9i_ZK8",
        "colab": {
          "base_uri": "https://localhost:8080/"
        },
        "outputId": "231c8a15-d6e0-4c0d-ea3c-e77ea5ab9a19"
      },
      "execution_count": null,
      "outputs": [
        {
          "output_type": "stream",
          "name": "stderr",
          "text": [
            "/usr/local/lib/python3.7/dist-packages/transformers/optimization.py:309: FutureWarning: This implementation of AdamW is deprecated and will be removed in a future version. Use the PyTorch implementation torch.optim.AdamW instead, or set `no_deprecation_warning=True` to disable this warning\n",
            "  FutureWarning,\n"
          ]
        }
      ]
    },
    {
      "cell_type": "code",
      "source": [
        "from transformers import get_linear_schedule_with_warmup\n",
        "\n",
        "# Number of training epochs. The BERT authors recommend between 2 and 4. \n",
        "# We chose to run for 4, but we'll see later that this may be over-fitting the\n",
        "# training data.\n",
        "epochs = 4\n",
        "\n",
        "# Total number of training steps is [number of batches] x [number of epochs]. \n",
        "# (Note that this is not the same as the number of training samples).\n",
        "total_steps = len(train_dataloader) * epochs\n",
        "\n",
        "# Create the learning rate scheduler.\n",
        "scheduler = get_linear_schedule_with_warmup(optimizer, \n",
        "                                            num_warmup_steps = 0, # Default value in run_glue.py\n",
        "                                            num_training_steps = total_steps)"
      ],
      "metadata": {
        "id": "vXO1s61UCHBX"
      },
      "execution_count": null,
      "outputs": []
    },
    {
      "cell_type": "markdown",
      "source": [
        ""
      ],
      "metadata": {
        "id": "S_JoOsolBwiR"
      }
    },
    {
      "cell_type": "code",
      "source": [
        "import numpy as np\n",
        "\n",
        "# Function to calculate the accuracy of our predictions vs labels\n",
        "def flat_accuracy(preds, labels):\n",
        "    pred_flat = np.argmax(preds, axis=1).flatten()\n",
        "    labels_flat = labels.flatten()\n",
        "    return np.sum(pred_flat == labels_flat) / len(labels_flat)"
      ],
      "metadata": {
        "id": "hGyXDiHWCrDK"
      },
      "execution_count": null,
      "outputs": []
    },
    {
      "cell_type": "code",
      "source": [
        "import time\n",
        "import datetime\n",
        "\n",
        "def format_time(elapsed):\n",
        "    '''\n",
        "    Takes a time in seconds and returns a string hh:mm:ss\n",
        "    '''\n",
        "    # Round to the nearest second.\n",
        "    elapsed_rounded = int(round((elapsed)))\n",
        "    \n",
        "    # Format as hh:mm:ss\n",
        "    return str(datetime.timedelta(seconds=elapsed_rounded))\n"
      ],
      "metadata": {
        "id": "VVseqMUC9JTF"
      },
      "execution_count": null,
      "outputs": []
    },
    {
      "cell_type": "code",
      "source": [
        "import random\n",
        "import numpy as np\n",
        "\n",
        "seed_val = 42\n",
        "\n",
        "random.seed(seed_val)\n",
        "np.random.seed(seed_val)\n",
        "torch.manual_seed(seed_val)\n",
        "torch.cuda.manual_seed_all(seed_val)\n",
        "\n",
        "training_stats = []\n",
        "\n",
        "\n",
        "total_t0 = time.time()\n",
        "\n",
        "# For each epoch...\n",
        "for epoch_i in range(0, epochs):\n",
        "    print(\"\")\n",
        "    print('======== Epoch {:} / {:} ========'.format(epoch_i + 1, epochs))\n",
        "    print('Training...')\n",
        "\n",
        "    t0 = time.time()\n",
        "\n",
        "    total_train_loss = 0\n",
        "\n",
        "    model.train()\n",
        "\n",
        "    for step, batch in enumerate(train_dataloader):\n",
        "\n",
        "        if step % 40 == 0 and not step == 0:\n",
        "            # Calculate elapsed time in minutes.\n",
        "            elapsed = format_time(time.time() - t0)\n",
        "            \n",
        "            # Report progress.\n",
        "            print('  Batch {:>5,}  of  {:>5,}.    Elapsed: {:}.'.format(step, len(train_dataloader), elapsed))\n",
        "\n",
        "        b_input_ids = batch[0].to(device)\n",
        "        b_input_mask = batch[1].to(device)\n",
        "        b_labels = batch[2].to(device)\n",
        "\n",
        "        model.zero_grad()        \n",
        "\n",
        "\n",
        "        output = model(b_input_ids, token_type_ids=None, attention_mask=b_input_mask, labels=b_labels)\n",
        "        loss = output.loss\n",
        "        logits = output.logits\n",
        "\n",
        "        total_train_loss += loss.item()\n",
        "\n",
        "        # Perform a backward pass to calculate the gradients.\n",
        "        loss.backward()\n",
        "\n",
        "        # Clip the norm of the gradients to 1.0.\n",
        "        # This is to help prevent the \"exploding gradients\" problem.\n",
        "        torch.nn.utils.clip_grad_norm_(model.parameters(), 1.0)\n",
        "\n",
        "        # Update parameters and take a step using the computed gradient.\n",
        "        # The optimizer dictates the \"update rule\"--how the parameters are\n",
        "        # modified based on their gradients, the learning rate, etc.\n",
        "        optimizer.step()\n",
        "\n",
        "        # Update the learning rate.\n",
        "        scheduler.step()\n",
        "\n",
        "    # Calculate the average loss over all of the batches.\n",
        "    avg_train_loss = total_train_loss / len(train_dataloader)            \n",
        "    \n",
        "    # Measure how long this epoch took.\n",
        "    training_time = format_time(time.time() - t0)\n",
        "\n",
        "    print(\"\")\n",
        "    print(\"  Average training loss: {0:.2f}\".format(avg_train_loss))\n",
        "    print(\"  Training epcoh took: {:}\".format(training_time))\n",
        "        \n",
        "    # ========================================\n",
        "    #               Validation\n",
        "    # ========================================\n",
        "    # After the completion of each training epoch, measure our performance on\n",
        "    # our validation set.\n",
        "\n",
        "    print(\"\")\n",
        "    print(\"Running Validation...\")\n",
        "\n",
        "    t0 = time.time()\n",
        "\n",
        "    # Put the model in evaluation mode--the dropout layers behave differently\n",
        "    # during evaluation.\n",
        "    model.eval()\n",
        "\n",
        "    # Tracking variables \n",
        "    total_eval_accuracy = 0\n",
        "    total_eval_loss = 0\n",
        "    nb_eval_steps = 0\n",
        "\n",
        "    # Evaluate data for one epoch\n",
        "    for batch in validation_dataloader:\n",
        "        \n",
        "        # Unpack this training batch from our dataloader. \n",
        "        #\n",
        "        # As we unpack the batch, we'll also copy each tensor to the GPU using \n",
        "        # the `to` method.\n",
        "        #\n",
        "        # `batch` contains three pytorch tensors:\n",
        "        #   [0]: input ids \n",
        "        #   [1]: attention masks\n",
        "        #   [2]: labels \n",
        "        b_input_ids = batch[0].to(device)\n",
        "        b_input_mask = batch[1].to(device)\n",
        "        b_labels = batch[2].to(device)\n",
        "        \n",
        "        # Tell pytorch not to bother with constructing the compute graph during\n",
        "        # the forward pass, since this is only needed for backprop (training).\n",
        "        with torch.no_grad():\n",
        "\n",
        "\n",
        "            # Forward pass, calculate logit predictions.\n",
        "            # token_type_ids is the same as the \"segment ids\", which \n",
        "            # differentiates sentence 1 and 2 in 2-sentence tasks.\n",
        "            # The documentation for this `model` function is here: \n",
        "            # https://huggingface.co/transformers/v2.2.0/model_doc/bert.html#transformers.BertForSequenceClassification\n",
        "            # Get the \"logits\" output by the model. The \"logits\" are the output\n",
        "            # values prior to applying an activation function like the softmax.\n",
        "          output = model(b_input_ids, token_type_ids=None, \n",
        "                                   attention_mask=b_input_mask,\n",
        "                                   labels=b_labels)\n",
        "        loss = output.loss\n",
        "        logits = output.logits\n",
        "            \n",
        "        # Accumulate the validation loss.\n",
        "        total_eval_loss += loss.item()\n",
        "\n",
        "        # Move logits and labels to CPU\n",
        "        logits = logits.detach().cpu().numpy()\n",
        "        label_ids = b_labels.to('cpu').numpy()\n",
        "\n",
        "        # Calculate the accuracy for this batch of test sentences, and\n",
        "        # accumulate it over all batches.\n",
        "        total_eval_accuracy += flat_accuracy(logits, label_ids)\n",
        "        \n",
        "\n",
        "    # Report the final accuracy for this validation run.\n",
        "    avg_val_accuracy = total_eval_accuracy / len(validation_dataloader)\n",
        "    print(\"  Accuracy: {0:.2f}\".format(avg_val_accuracy))\n",
        "\n",
        "    # Calculate the average loss over all of the batches.\n",
        "    avg_val_loss = total_eval_loss / len(validation_dataloader)\n",
        "    \n",
        "    # Measure how long the validation run took.\n",
        "    validation_time = format_time(time.time() - t0)\n",
        "    \n",
        "    print(\"  Validation Loss: {0:.2f}\".format(avg_val_loss))\n",
        "    print(\"  Validation took: {:}\".format(validation_time))\n",
        "\n",
        "    # Record all statistics from this epoch.\n",
        "    training_stats.append(\n",
        "        {\n",
        "            'epoch': epoch_i + 1,\n",
        "            'Training Loss': avg_train_loss,\n",
        "            'Valid. Loss': avg_val_loss,\n",
        "            'Valid. Accur.': avg_val_accuracy,\n",
        "            'Training Time': training_time,\n",
        "            'Validation Time': validation_time\n",
        "        }\n",
        "    )\n",
        "\n",
        "print(\"\")\n",
        "print(\"Training complete!\")\n",
        "\n",
        "print(\"Total training took {:} (h:mm:ss)\".format(format_time(time.time()-total_t0)))"
      ],
      "metadata": {
        "id": "dH9DhNbm8r_u",
        "colab": {
          "base_uri": "https://localhost:8080/",
          "height": 443
        },
        "outputId": "6f8818c0-f20e-49a1-ec59-76c01ecb2c05"
      },
      "execution_count": null,
      "outputs": [
        {
          "output_type": "stream",
          "name": "stdout",
          "text": [
            "\n",
            "======== Epoch 1 / 4 ========\n",
            "Training...\n"
          ]
        },
        {
          "output_type": "error",
          "ename": "IndexError",
          "evalue": "ignored",
          "traceback": [
            "\u001b[0;31m---------------------------------------------------------------------------\u001b[0m",
            "\u001b[0;31mIndexError\u001b[0m                                Traceback (most recent call last)",
            "\u001b[0;32m<ipython-input-59-391d4166baa9>\u001b[0m in \u001b[0;36m<module>\u001b[0;34m()\u001b[0m\n\u001b[1;32m     42\u001b[0m \u001b[0;34m\u001b[0m\u001b[0m\n\u001b[1;32m     43\u001b[0m \u001b[0;34m\u001b[0m\u001b[0m\n\u001b[0;32m---> 44\u001b[0;31m         \u001b[0moutput\u001b[0m \u001b[0;34m=\u001b[0m \u001b[0mmodel\u001b[0m\u001b[0;34m(\u001b[0m\u001b[0mb_input_ids\u001b[0m\u001b[0;34m,\u001b[0m \u001b[0mtoken_type_ids\u001b[0m\u001b[0;34m=\u001b[0m\u001b[0;32mNone\u001b[0m\u001b[0;34m,\u001b[0m \u001b[0mattention_mask\u001b[0m\u001b[0;34m=\u001b[0m\u001b[0mb_input_mask\u001b[0m\u001b[0;34m,\u001b[0m \u001b[0mlabels\u001b[0m\u001b[0;34m=\u001b[0m\u001b[0mb_labels\u001b[0m\u001b[0;34m)\u001b[0m\u001b[0;34m\u001b[0m\u001b[0;34m\u001b[0m\u001b[0m\n\u001b[0m\u001b[1;32m     45\u001b[0m         \u001b[0mloss\u001b[0m \u001b[0;34m=\u001b[0m \u001b[0moutput\u001b[0m\u001b[0;34m.\u001b[0m\u001b[0mloss\u001b[0m\u001b[0;34m\u001b[0m\u001b[0;34m\u001b[0m\u001b[0m\n\u001b[1;32m     46\u001b[0m         \u001b[0mlogits\u001b[0m \u001b[0;34m=\u001b[0m \u001b[0moutput\u001b[0m\u001b[0;34m.\u001b[0m\u001b[0mlogits\u001b[0m\u001b[0;34m\u001b[0m\u001b[0;34m\u001b[0m\u001b[0m\n",
            "\u001b[0;32m/usr/local/lib/python3.7/dist-packages/torch/nn/modules/module.py\u001b[0m in \u001b[0;36m_call_impl\u001b[0;34m(self, *input, **kwargs)\u001b[0m\n\u001b[1;32m   1100\u001b[0m         if not (self._backward_hooks or self._forward_hooks or self._forward_pre_hooks or _global_backward_hooks\n\u001b[1;32m   1101\u001b[0m                 or _global_forward_hooks or _global_forward_pre_hooks):\n\u001b[0;32m-> 1102\u001b[0;31m             \u001b[0;32mreturn\u001b[0m \u001b[0mforward_call\u001b[0m\u001b[0;34m(\u001b[0m\u001b[0;34m*\u001b[0m\u001b[0minput\u001b[0m\u001b[0;34m,\u001b[0m \u001b[0;34m**\u001b[0m\u001b[0mkwargs\u001b[0m\u001b[0;34m)\u001b[0m\u001b[0;34m\u001b[0m\u001b[0;34m\u001b[0m\u001b[0m\n\u001b[0m\u001b[1;32m   1103\u001b[0m         \u001b[0;31m# Do not call functions when jit is used\u001b[0m\u001b[0;34m\u001b[0m\u001b[0;34m\u001b[0m\u001b[0;34m\u001b[0m\u001b[0m\n\u001b[1;32m   1104\u001b[0m         \u001b[0mfull_backward_hooks\u001b[0m\u001b[0;34m,\u001b[0m \u001b[0mnon_full_backward_hooks\u001b[0m \u001b[0;34m=\u001b[0m \u001b[0;34m[\u001b[0m\u001b[0;34m]\u001b[0m\u001b[0;34m,\u001b[0m \u001b[0;34m[\u001b[0m\u001b[0;34m]\u001b[0m\u001b[0;34m\u001b[0m\u001b[0;34m\u001b[0m\u001b[0m\n",
            "\u001b[0;32m/usr/local/lib/python3.7/dist-packages/transformers/models/encoder_decoder/modeling_encoder_decoder.py\u001b[0m in \u001b[0;36mforward\u001b[0;34m(self, input_ids, attention_mask, decoder_input_ids, decoder_attention_mask, encoder_outputs, past_key_values, inputs_embeds, decoder_inputs_embeds, labels, use_cache, output_attentions, output_hidden_states, return_dict, **kwargs)\u001b[0m\n\u001b[1;32m    508\u001b[0m         \u001b[0;32mif\u001b[0m \u001b[0;34m(\u001b[0m\u001b[0mlabels\u001b[0m \u001b[0;32mis\u001b[0m \u001b[0;32mnot\u001b[0m \u001b[0;32mNone\u001b[0m\u001b[0;34m)\u001b[0m \u001b[0;32mand\u001b[0m \u001b[0;34m(\u001b[0m\u001b[0mdecoder_input_ids\u001b[0m \u001b[0;32mis\u001b[0m \u001b[0;32mNone\u001b[0m \u001b[0;32mand\u001b[0m \u001b[0mdecoder_inputs_embeds\u001b[0m \u001b[0;32mis\u001b[0m \u001b[0;32mNone\u001b[0m\u001b[0;34m)\u001b[0m\u001b[0;34m:\u001b[0m\u001b[0;34m\u001b[0m\u001b[0;34m\u001b[0m\u001b[0m\n\u001b[1;32m    509\u001b[0m             decoder_input_ids = shift_tokens_right(\n\u001b[0;32m--> 510\u001b[0;31m                 \u001b[0mlabels\u001b[0m\u001b[0;34m,\u001b[0m \u001b[0mself\u001b[0m\u001b[0;34m.\u001b[0m\u001b[0mconfig\u001b[0m\u001b[0;34m.\u001b[0m\u001b[0mpad_token_id\u001b[0m\u001b[0;34m,\u001b[0m \u001b[0mself\u001b[0m\u001b[0;34m.\u001b[0m\u001b[0mconfig\u001b[0m\u001b[0;34m.\u001b[0m\u001b[0mdecoder_start_token_id\u001b[0m\u001b[0;34m\u001b[0m\u001b[0;34m\u001b[0m\u001b[0m\n\u001b[0m\u001b[1;32m    511\u001b[0m             )\n\u001b[1;32m    512\u001b[0m \u001b[0;34m\u001b[0m\u001b[0m\n",
            "\u001b[0;32m/usr/local/lib/python3.7/dist-packages/transformers/models/encoder_decoder/modeling_encoder_decoder.py\u001b[0m in \u001b[0;36mshift_tokens_right\u001b[0;34m(input_ids, pad_token_id, decoder_start_token_id)\u001b[0m\n\u001b[1;32m    150\u001b[0m     \"\"\"\n\u001b[1;32m    151\u001b[0m     \u001b[0mshifted_input_ids\u001b[0m \u001b[0;34m=\u001b[0m \u001b[0minput_ids\u001b[0m\u001b[0;34m.\u001b[0m\u001b[0mnew_zeros\u001b[0m\u001b[0;34m(\u001b[0m\u001b[0minput_ids\u001b[0m\u001b[0;34m.\u001b[0m\u001b[0mshape\u001b[0m\u001b[0;34m)\u001b[0m\u001b[0;34m\u001b[0m\u001b[0;34m\u001b[0m\u001b[0m\n\u001b[0;32m--> 152\u001b[0;31m     \u001b[0mshifted_input_ids\u001b[0m\u001b[0;34m[\u001b[0m\u001b[0;34m:\u001b[0m\u001b[0;34m,\u001b[0m \u001b[0;36m1\u001b[0m\u001b[0;34m:\u001b[0m\u001b[0;34m]\u001b[0m \u001b[0;34m=\u001b[0m \u001b[0minput_ids\u001b[0m\u001b[0;34m[\u001b[0m\u001b[0;34m:\u001b[0m\u001b[0;34m,\u001b[0m \u001b[0;34m:\u001b[0m\u001b[0;34m-\u001b[0m\u001b[0;36m1\u001b[0m\u001b[0;34m]\u001b[0m\u001b[0;34m.\u001b[0m\u001b[0mclone\u001b[0m\u001b[0;34m(\u001b[0m\u001b[0;34m)\u001b[0m\u001b[0;34m\u001b[0m\u001b[0;34m\u001b[0m\u001b[0m\n\u001b[0m\u001b[1;32m    153\u001b[0m     \u001b[0;32mif\u001b[0m \u001b[0mdecoder_start_token_id\u001b[0m \u001b[0;32mis\u001b[0m \u001b[0;32mNone\u001b[0m\u001b[0;34m:\u001b[0m\u001b[0;34m\u001b[0m\u001b[0;34m\u001b[0m\u001b[0m\n\u001b[1;32m    154\u001b[0m         \u001b[0;32mraise\u001b[0m \u001b[0mValueError\u001b[0m\u001b[0;34m(\u001b[0m\u001b[0;34m\"Make sure to set the decoder_start_token_id attribute of the model's configuration.\"\u001b[0m\u001b[0;34m)\u001b[0m\u001b[0;34m\u001b[0m\u001b[0;34m\u001b[0m\u001b[0m\n",
            "\u001b[0;31mIndexError\u001b[0m: too many indices for tensor of dimension 1"
          ]
        }
      ]
    },
    {
      "cell_type": "code",
      "source": [
        "import pandas as pd\n",
        "\n",
        "# Display floats with two decimal places.\n",
        "pd.set_option('precision', 2)\n",
        "\n",
        "# Create a DataFrame from our training statistics.\n",
        "df_stats = pd.DataFrame(data=training_stats)\n",
        "\n",
        "# Use the 'epoch' as the row index.\n",
        "df_stats = df_stats.set_index('epoch')\n",
        "\n",
        "# A hack to force the column headers to wrap.\n",
        "#df = df.style.set_table_styles([dict(selector=\"th\",props=[('max-width', '70px')])])\n",
        "\n",
        "# Display the table.\n",
        "df_stats"
      ],
      "metadata": {
        "colab": {
          "base_uri": "https://localhost:8080/",
          "height": 204
        },
        "id": "di9LhxXu8Gwo",
        "outputId": "8b2dec7a-6f3a-49ae-dda4-cbb49d023a6e"
      },
      "execution_count": null,
      "outputs": [
        {
          "output_type": "execute_result",
          "data": {
            "text/html": [
              "\n",
              "  <div id=\"df-a097693e-9f30-4757-a631-80f25193080d\">\n",
              "    <div class=\"colab-df-container\">\n",
              "      <div>\n",
              "<style scoped>\n",
              "    .dataframe tbody tr th:only-of-type {\n",
              "        vertical-align: middle;\n",
              "    }\n",
              "\n",
              "    .dataframe tbody tr th {\n",
              "        vertical-align: top;\n",
              "    }\n",
              "\n",
              "    .dataframe thead th {\n",
              "        text-align: right;\n",
              "    }\n",
              "</style>\n",
              "<table border=\"1\" class=\"dataframe\">\n",
              "  <thead>\n",
              "    <tr style=\"text-align: right;\">\n",
              "      <th></th>\n",
              "      <th>Training Loss</th>\n",
              "      <th>Valid. Loss</th>\n",
              "      <th>Valid. Accur.</th>\n",
              "      <th>Training Time</th>\n",
              "      <th>Validation Time</th>\n",
              "    </tr>\n",
              "    <tr>\n",
              "      <th>epoch</th>\n",
              "      <th></th>\n",
              "      <th></th>\n",
              "      <th></th>\n",
              "      <th></th>\n",
              "      <th></th>\n",
              "    </tr>\n",
              "  </thead>\n",
              "  <tbody>\n",
              "    <tr>\n",
              "      <th>1</th>\n",
              "      <td>0.20</td>\n",
              "      <td>0.53</td>\n",
              "      <td>0.83</td>\n",
              "      <td>0:03:26</td>\n",
              "      <td>0:00:08</td>\n",
              "    </tr>\n",
              "    <tr>\n",
              "      <th>2</th>\n",
              "      <td>0.21</td>\n",
              "      <td>0.48</td>\n",
              "      <td>0.83</td>\n",
              "      <td>0:03:26</td>\n",
              "      <td>0:00:08</td>\n",
              "    </tr>\n",
              "    <tr>\n",
              "      <th>3</th>\n",
              "      <td>0.14</td>\n",
              "      <td>0.57</td>\n",
              "      <td>0.84</td>\n",
              "      <td>0:03:26</td>\n",
              "      <td>0:00:08</td>\n",
              "    </tr>\n",
              "    <tr>\n",
              "      <th>4</th>\n",
              "      <td>0.11</td>\n",
              "      <td>0.57</td>\n",
              "      <td>0.84</td>\n",
              "      <td>0:03:26</td>\n",
              "      <td>0:00:08</td>\n",
              "    </tr>\n",
              "  </tbody>\n",
              "</table>\n",
              "</div>\n",
              "      <button class=\"colab-df-convert\" onclick=\"convertToInteractive('df-a097693e-9f30-4757-a631-80f25193080d')\"\n",
              "              title=\"Convert this dataframe to an interactive table.\"\n",
              "              style=\"display:none;\">\n",
              "        \n",
              "  <svg xmlns=\"http://www.w3.org/2000/svg\" height=\"24px\"viewBox=\"0 0 24 24\"\n",
              "       width=\"24px\">\n",
              "    <path d=\"M0 0h24v24H0V0z\" fill=\"none\"/>\n",
              "    <path d=\"M18.56 5.44l.94 2.06.94-2.06 2.06-.94-2.06-.94-.94-2.06-.94 2.06-2.06.94zm-11 1L8.5 8.5l.94-2.06 2.06-.94-2.06-.94L8.5 2.5l-.94 2.06-2.06.94zm10 10l.94 2.06.94-2.06 2.06-.94-2.06-.94-.94-2.06-.94 2.06-2.06.94z\"/><path d=\"M17.41 7.96l-1.37-1.37c-.4-.4-.92-.59-1.43-.59-.52 0-1.04.2-1.43.59L10.3 9.45l-7.72 7.72c-.78.78-.78 2.05 0 2.83L4 21.41c.39.39.9.59 1.41.59.51 0 1.02-.2 1.41-.59l7.78-7.78 2.81-2.81c.8-.78.8-2.07 0-2.86zM5.41 20L4 18.59l7.72-7.72 1.47 1.35L5.41 20z\"/>\n",
              "  </svg>\n",
              "      </button>\n",
              "      \n",
              "  <style>\n",
              "    .colab-df-container {\n",
              "      display:flex;\n",
              "      flex-wrap:wrap;\n",
              "      gap: 12px;\n",
              "    }\n",
              "\n",
              "    .colab-df-convert {\n",
              "      background-color: #E8F0FE;\n",
              "      border: none;\n",
              "      border-radius: 50%;\n",
              "      cursor: pointer;\n",
              "      display: none;\n",
              "      fill: #1967D2;\n",
              "      height: 32px;\n",
              "      padding: 0 0 0 0;\n",
              "      width: 32px;\n",
              "    }\n",
              "\n",
              "    .colab-df-convert:hover {\n",
              "      background-color: #E2EBFA;\n",
              "      box-shadow: 0px 1px 2px rgba(60, 64, 67, 0.3), 0px 1px 3px 1px rgba(60, 64, 67, 0.15);\n",
              "      fill: #174EA6;\n",
              "    }\n",
              "\n",
              "    [theme=dark] .colab-df-convert {\n",
              "      background-color: #3B4455;\n",
              "      fill: #D2E3FC;\n",
              "    }\n",
              "\n",
              "    [theme=dark] .colab-df-convert:hover {\n",
              "      background-color: #434B5C;\n",
              "      box-shadow: 0px 1px 3px 1px rgba(0, 0, 0, 0.15);\n",
              "      filter: drop-shadow(0px 1px 2px rgba(0, 0, 0, 0.3));\n",
              "      fill: #FFFFFF;\n",
              "    }\n",
              "  </style>\n",
              "\n",
              "      <script>\n",
              "        const buttonEl =\n",
              "          document.querySelector('#df-a097693e-9f30-4757-a631-80f25193080d button.colab-df-convert');\n",
              "        buttonEl.style.display =\n",
              "          google.colab.kernel.accessAllowed ? 'block' : 'none';\n",
              "\n",
              "        async function convertToInteractive(key) {\n",
              "          const element = document.querySelector('#df-a097693e-9f30-4757-a631-80f25193080d');\n",
              "          const dataTable =\n",
              "            await google.colab.kernel.invokeFunction('convertToInteractive',\n",
              "                                                     [key], {});\n",
              "          if (!dataTable) return;\n",
              "\n",
              "          const docLinkHtml = 'Like what you see? Visit the ' +\n",
              "            '<a target=\"_blank\" href=https://colab.research.google.com/notebooks/data_table.ipynb>data table notebook</a>'\n",
              "            + ' to learn more about interactive tables.';\n",
              "          element.innerHTML = '';\n",
              "          dataTable['output_type'] = 'display_data';\n",
              "          await google.colab.output.renderOutput(dataTable, element);\n",
              "          const docLink = document.createElement('div');\n",
              "          docLink.innerHTML = docLinkHtml;\n",
              "          element.appendChild(docLink);\n",
              "        }\n",
              "      </script>\n",
              "    </div>\n",
              "  </div>\n",
              "  "
            ],
            "text/plain": [
              "       Training Loss  Valid. Loss  Valid. Accur. Training Time Validation Time\n",
              "epoch                                                                         \n",
              "1               0.20         0.53           0.83       0:03:26         0:00:08\n",
              "2               0.21         0.48           0.83       0:03:26         0:00:08\n",
              "3               0.14         0.57           0.84       0:03:26         0:00:08\n",
              "4               0.11         0.57           0.84       0:03:26         0:00:08"
            ]
          },
          "metadata": {},
          "execution_count": 46
        }
      ]
    },
    {
      "cell_type": "code",
      "source": [
        "import matplotlib.pyplot as plt\n",
        "% matplotlib inline\n",
        "\n",
        "import seaborn as sns\n",
        "\n",
        "# Use plot styling from seaborn.\n",
        "sns.set(style='darkgrid')\n",
        "\n",
        "# Increase the plot size and font size.\n",
        "sns.set(font_scale=1.5)\n",
        "plt.rcParams[\"figure.figsize\"] = (12,6)\n",
        "\n",
        "# Plot the learning curve.\n",
        "plt.plot(df_stats['Training Loss'], 'b-o', label=\"Training\")\n",
        "plt.plot(df_stats['Valid. Loss'], 'g-o', label=\"Validation\")\n",
        "\n",
        "# Label the plot.\n",
        "plt.title(\"Training & Validation Loss\")\n",
        "plt.xlabel(\"Epoch\")\n",
        "plt.ylabel(\"Loss\")\n",
        "plt.legend()\n",
        "plt.xticks([1, 2, 3, 4])\n",
        "\n",
        "plt.show()"
      ],
      "metadata": {
        "colab": {
          "base_uri": "https://localhost:8080/",
          "height": 427
        },
        "id": "MzONFF238Ila",
        "outputId": "16fb55af-6b83-4170-d1ae-b278efaeb34d"
      },
      "execution_count": null,
      "outputs": [
        {
          "output_type": "display_data",
          "data": {
            "image/png": "[encoded data removed]",
            "text/plain": [
              "<Figure size 864x432 with 1 Axes>"
            ]
          },
          "metadata": {}
        }
      ]
    },
    {
      "cell_type": "code",
      "source": [
        "import pandas as pd\n",
        "\n",
        "# Load the dataset into a pandas dataframe.\n",
        "df = pd.read_csv(\"./cola_public/raw/out_of_domain_dev.tsv\", delimiter='\\t', header=None, names=['sentence_source', 'label', 'label_notes', 'sentence'])\n",
        "\n",
        "# Report the number of sentences.\n",
        "print('Number of test sentences: {:,}\\n'.format(df.shape[0]))\n",
        "\n",
        "# Create sentence and label lists\n",
        "sentences = df.sentence.values\n",
        "labels = df.label.values\n",
        "\n",
        "# Tokenize all of the sentences and map the tokens to thier word IDs.\n",
        "input_ids = []\n",
        "attention_masks = []\n",
        "\n",
        "# For every sentence...\n",
        "for sent in sentences:\n",
        "    # `encode_plus` will:\n",
        "    #   (1) Tokenize the sentence.\n",
        "    #   (2) Prepend the `[CLS]` token to the start.\n",
        "    #   (3) Append the `[SEP]` token to the end.\n",
        "    #   (4) Map tokens to their IDs.\n",
        "    #   (5) Pad or truncate the sentence to `max_length`\n",
        "    #   (6) Create attention masks for [PAD] tokens.\n",
        "    encoded_dict = tokenizer.encode_plus(\n",
        "                        sent,                      # Sentence to encode.\n",
        "                        add_special_tokens = True, # Add '[CLS]' and '[SEP]'\n",
        "                        max_length = 64,           # Pad & truncate all sentences.\n",
        "                        pad_to_max_length = True,\n",
        "                        return_attention_mask = True,   # Construct attn. masks.\n",
        "                        return_tensors = 'pt',     # Return pytorch tensors.\n",
        "                   )\n",
        "    \n",
        "    # Add the encoded sentence to the list.    \n",
        "    input_ids.append(encoded_dict['input_ids'])\n",
        "    \n",
        "    # And its attention mask (simply differentiates padding from non-padding).\n",
        "    attention_masks.append(encoded_dict['attention_mask'])\n",
        "\n",
        "# Convert the lists into tensors.\n",
        "input_ids = torch.cat(input_ids, dim=0)\n",
        "attention_masks = torch.cat(attention_masks, dim=0)\n",
        "labels = torch.tensor(labels)\n",
        "\n",
        "# Set the batch size.  \n",
        "batch_size = 32  \n",
        "\n",
        "# Create the DataLoader.\n",
        "prediction_data = TensorDataset(input_ids, attention_masks, labels)\n",
        "prediction_sampler = SequentialSampler(prediction_data)\n",
        "prediction_dataloader = DataLoader(prediction_data, sampler=prediction_sampler, batch_size=batch_size)"
      ],
      "metadata": {
        "colab": {
          "base_uri": "https://localhost:8080/"
        },
        "id": "ZsUQeISr8L1g",
        "outputId": "f3542834-4cff-4c69-f4d2-a65bc10dc77c"
      },
      "execution_count": null,
      "outputs": [
        {
          "output_type": "stream",
          "name": "stdout",
          "text": [
            "Number of test sentences: 516\n",
            "\n"
          ]
        },
        {
          "output_type": "stream",
          "name": "stderr",
          "text": [
            "/usr/local/lib/python3.7/dist-packages/transformers/tokenization_utils_base.py:2277: FutureWarning: The `pad_to_max_length` argument is deprecated and will be removed in a future version, use `padding=True` or `padding='longest'` to pad to the longest sequence in the batch, or use `padding='max_length'` to pad to a max length. In this case, you can give a specific length with `max_length` (e.g. `max_length=45`) or leave max_length to None to pad to the maximal input size of the model (e.g. 512 for Bert).\n",
            "  FutureWarning,\n"
          ]
        }
      ]
    },
    {
      "cell_type": "code",
      "source": [
        "print('Predicting labels for {:,} test sentences...'.format(len(input_ids)))\n",
        "\n",
        "# Put model in evaluation mode\n",
        "model.eval()\n",
        "\n",
        "# Tracking variables \n",
        "predictions , true_labels = [], []\n",
        "\n",
        "# Predict \n",
        "for batch in prediction_dataloader:\n",
        "  # Add batch to GPU\n",
        "  batch = tuple(t.to(device) for t in batch)\n",
        "  \n",
        "  # Unpack the inputs from our dataloader\n",
        "  b_input_ids, b_input_mask, b_labels = batch\n",
        "  \n",
        "  # Telling the model not to compute or store gradients, saving memory and \n",
        "  # speeding up prediction\n",
        "  with torch.no_grad():\n",
        "      # Forward pass, calculate logit predictions\n",
        "      outputs = model(b_input_ids, token_type_ids=None, \n",
        "                      attention_mask=b_input_mask)\n",
        "\n",
        "  logits = outputs[0]\n",
        "\n",
        "  # Move logits and labels to CPU\n",
        "  logits = logits.detach().cpu().numpy()\n",
        "  label_ids = b_labels.to('cpu').numpy()\n",
        "  \n",
        "  # Store predictions and true labels\n",
        "  predictions.append(logits)\n",
        "  true_labels.append(label_ids)\n",
        "\n",
        "print('    DONE.')"
      ],
      "metadata": {
        "colab": {
          "base_uri": "https://localhost:8080/"
        },
        "id": "9A846vhZ8QAk",
        "outputId": "6d7ee40f-44d4-48ff-9f68-d2266ea6365f"
      },
      "execution_count": null,
      "outputs": [
        {
          "output_type": "stream",
          "name": "stdout",
          "text": [
            "Predicting labels for 516 test sentences...\n",
            "    DONE.\n"
          ]
        }
      ]
    },
    {
      "cell_type": "code",
      "source": [
        "print('Positive samples: %d of %d (%.2f%%)' % (df.label.sum(), len(df.label), (df.label.sum() / len(df.label) * 100.0)))"
      ],
      "metadata": {
        "colab": {
          "base_uri": "https://localhost:8080/"
        },
        "id": "Df9kXlzv8WbN",
        "outputId": "58e5517a-27a7-46a0-841e-530ab575522f"
      },
      "execution_count": null,
      "outputs": [
        {
          "output_type": "stream",
          "name": "stdout",
          "text": [
            "Positive samples: 354 of 516 (68.60%)\n"
          ]
        }
      ]
    },
    {
      "cell_type": "code",
      "source": [
        "from sklearn.metrics import matthews_corrcoef\n",
        "\n",
        "matthews_set = []\n",
        "\n",
        "# Evaluate each test batch using Matthew's correlation coefficient\n",
        "print('Calculating Matthews Corr. Coef. for each batch...')\n",
        "\n",
        "# For each input batch...\n",
        "for i in range(len(true_labels)):\n",
        "  \n",
        "  # The predictions for this batch are a 2-column ndarray (one column for \"0\" \n",
        "  # and one column for \"1\"). Pick the label with the highest value and turn this\n",
        "  # in to a list of 0s and 1s.\n",
        "  pred_labels_i = np.argmax(predictions[i], axis=1).flatten()\n",
        "  \n",
        "  # Calculate and store the coef for this batch.  \n",
        "  matthews = matthews_corrcoef(true_labels[i], pred_labels_i)                \n",
        "  matthews_set.append(matthews)"
      ],
      "metadata": {
        "colab": {
          "base_uri": "https://localhost:8080/"
        },
        "id": "eNeJIczS8XcL",
        "outputId": "a6ce81a2-911e-4e35-f763-292a9bbf602f"
      },
      "execution_count": null,
      "outputs": [
        {
          "output_type": "stream",
          "name": "stdout",
          "text": [
            "Calculating Matthews Corr. Coef. for each batch...\n"
          ]
        }
      ]
    },
    {
      "cell_type": "code",
      "source": [
        "# Create a barplot showing the MCC score for each batch of test samples.\n",
        "ax = sns.barplot(x=list(range(len(matthews_set))), y=matthews_set, ci=None)\n",
        "\n",
        "plt.title('MCC Score per Batch')\n",
        "plt.ylabel('MCC Score (-1 to +1)')\n",
        "plt.xlabel('Batch #')\n",
        "\n",
        "plt.show()"
      ],
      "metadata": {
        "colab": {
          "base_uri": "https://localhost:8080/",
          "height": 427
        },
        "id": "G85FUQgx8auV",
        "outputId": "e2858e02-0ec8-4bc3-f535-56cff32b11bc"
      },
      "execution_count": null,
      "outputs": [
        {
          "output_type": "display_data",
          "data": {
            "image/png": "[encoded data removed]",
            "text/plain": [
              "<Figure size 864x432 with 1 Axes>"
            ]
          },
          "metadata": {}
        }
      ]
    },
    {
      "cell_type": "code",
      "source": [
        "# Combine the results across all batches. \n",
        "flat_predictions = np.concatenate(predictions, axis=0)\n",
        "\n",
        "# For each sample, pick the label (0 or 1) with the higher score.\n",
        "flat_predictions = np.argmax(flat_predictions, axis=1).flatten()\n",
        "\n",
        "# Combine the correct labels for each batch into a single list.\n",
        "flat_true_labels = np.concatenate(true_labels, axis=0)\n",
        "\n",
        "# Calculate the MCC\n",
        "mcc = matthews_corrcoef(flat_true_labels, flat_predictions)\n",
        "\n",
        "print('Total MCC: %.3f' % mcc)"
      ],
      "metadata": {
        "colab": {
          "base_uri": "https://localhost:8080/"
        },
        "id": "MzlchsO_8ebX",
        "outputId": "dcce22ef-626e-47ec-dca0-955e05303e27"
      },
      "execution_count": null,
      "outputs": [
        {
          "output_type": "stream",
          "name": "stdout",
          "text": [
            "Total MCC: 0.555\n"
          ]
        }
      ]
    },
    {
      "cell_type": "code",
      "source": [
        "cd /content/BertSum/src"
      ],
      "metadata": {
        "id": "2aa31R_h8haV",
        "colab": {
          "base_uri": "https://localhost:8080/"
        },
        "outputId": "4d8ff675-aa4d-4318-f44e-78fb7cf5af8b"
      },
      "execution_count": null,
      "outputs": [
        {
          "output_type": "stream",
          "name": "stdout",
          "text": [
            "/content/BertSum/src\n"
          ]
        }
      ]
    },
    {
      "cell_type": "code",
      "source": [
        "!python preprocess.py -mode tokenize -raw_path RAW_PATH -save_path TOKENIZED_PATH"
      ],
      "metadata": {
        "colab": {
          "base_uri": "https://localhost:8080/"
        },
        "id": "NvlWTaD7FmC1",
        "outputId": "2c51912c-203c-46da-8ca6-f0460f984925"
      },
      "execution_count": null,
      "outputs": [
        {
          "output_type": "stream",
          "name": "stdout",
          "text": [
            "Traceback (most recent call last):\n",
            "  File \"preprocess.py\", line 62, in <module>\n",
            "    init_logger(args.log_file)\n",
            "  File \"/content/BertSum/src/others/logging.py\", line 19, in init_logger\n",
            "    file_handler = logging.FileHandler(log_file)\n",
            "  File \"/usr/lib/python3.7/logging/__init__.py\", line 1087, in __init__\n",
            "    StreamHandler.__init__(self, self._open())\n",
            "  File \"/usr/lib/python3.7/logging/__init__.py\", line 1116, in _open\n",
            "    return open(self.baseFilename, self.mode, encoding=self.encoding)\n",
            "FileNotFoundError: [Errno 2] No such file or directory: '/content/logs/cnndm.log'\n"
          ]
        }
      ]
    },
    {
      "cell_type": "code",
      "source": [
        "!pip install pytorch_pretrained_bert\n",
        "!pip install torch==1.1.0 pytorch_transformers tensorboardX multiprocess pyrouge"
      ],
      "metadata": {
        "colab": {
          "base_uri": "https://localhost:8080/",
          "height": 1000
        },
        "id": "M9c0TYVEFw-M",
        "outputId": "099b8136-719a-4be7-b5d4-ef01a317dd1f"
      },
      "execution_count": null,
      "outputs": [
        {
          "output_type": "stream",
          "name": "stdout",
          "text": [
            "Collecting pytorch_pretrained_bert\n",
            "  Downloading pytorch_pretrained_bert-0.6.2-py3-none-any.whl (123 kB)\n",
            "\u001b[?25l\r\u001b[K     |██▋                             | 10 kB 18.9 MB/s eta 0:00:01\r\u001b[K     |█████▎                          | 20 kB 13.0 MB/s eta 0:00:01\r\u001b[K     |████████                        | 30 kB 9.1 MB/s eta 0:00:01\r\u001b[K     |██████████▋                     | 40 kB 3.5 MB/s eta 0:00:01\r\u001b[K     |█████████████▎                  | 51 kB 3.5 MB/s eta 0:00:01\r\u001b[K     |███████████████▉                | 61 kB 4.2 MB/s eta 0:00:01\r\u001b[K     |██████████████████▌             | 71 kB 4.4 MB/s eta 0:00:01\r\u001b[K     |█████████████████████▏          | 81 kB 4.5 MB/s eta 0:00:01\r\u001b[K     |███████████████████████▉        | 92 kB 5.0 MB/s eta 0:00:01\r\u001b[K     |██████████████████████████▌     | 102 kB 4.1 MB/s eta 0:00:01\r\u001b[K     |█████████████████████████████▏  | 112 kB 4.1 MB/s eta 0:00:01\r\u001b[K     |███████████████████████████████▊| 122 kB 4.1 MB/s eta 0:00:01\r\u001b[K     |████████████████████████████████| 123 kB 4.1 MB/s \n",
            "\u001b[?25hRequirement already satisfied: requests in /usr/local/lib/python3.7/dist-packages (from pytorch_pretrained_bert) (2.23.0)\n",
            "Requirement already satisfied: tqdm in /usr/local/lib/python3.7/dist-packages (from pytorch_pretrained_bert) (4.63.0)\n",
            "Requirement already satisfied: regex in /usr/local/lib/python3.7/dist-packages (from pytorch_pretrained_bert) (2019.12.20)\n",
            "Requirement already satisfied: numpy in /usr/local/lib/python3.7/dist-packages (from pytorch_pretrained_bert) (1.21.5)\n",
            "Requirement already satisfied: torch>=0.4.1 in /usr/local/lib/python3.7/dist-packages (from pytorch_pretrained_bert) (1.10.0+cu111)\n",
            "Collecting boto3\n",
            "  Downloading boto3-1.21.18-py3-none-any.whl (132 kB)\n",
            "\u001b[K     |████████████████████████████████| 132 kB 26.0 MB/s \n",
            "\u001b[?25hRequirement already satisfied: typing-extensions in /usr/local/lib/python3.7/dist-packages (from torch>=0.4.1->pytorch_pretrained_bert) (3.10.0.2)\n",
            "Collecting s3transfer<0.6.0,>=0.5.0\n",
            "  Downloading s3transfer-0.5.2-py3-none-any.whl (79 kB)\n",
            "\u001b[K     |████████████████████████████████| 79 kB 7.6 MB/s \n",
            "\u001b[?25hCollecting jmespath<1.0.0,>=0.7.1\n",
            "  Downloading jmespath-0.10.0-py2.py3-none-any.whl (24 kB)\n",
            "Collecting botocore<1.25.0,>=1.24.18\n",
            "  Downloading botocore-1.24.18-py3-none-any.whl (8.6 MB)\n",
            "\u001b[K     |████████████████████████████████| 8.6 MB 48.1 MB/s \n",
            "\u001b[?25hRequirement already satisfied: python-dateutil<3.0.0,>=2.1 in /usr/local/lib/python3.7/dist-packages (from botocore<1.25.0,>=1.24.18->boto3->pytorch_pretrained_bert) (2.8.2)\n",
            "Collecting urllib3<1.27,>=1.25.4\n",
            "  Downloading urllib3-1.26.8-py2.py3-none-any.whl (138 kB)\n",
            "\u001b[K     |████████████████████████████████| 138 kB 48.1 MB/s \n",
            "\u001b[?25hRequirement already satisfied: six>=1.5 in /usr/local/lib/python3.7/dist-packages (from python-dateutil<3.0.0,>=2.1->botocore<1.25.0,>=1.24.18->boto3->pytorch_pretrained_bert) (1.15.0)\n",
            "  Downloading urllib3-1.25.11-py2.py3-none-any.whl (127 kB)\n",
            "\u001b[K     |████████████████████████████████| 127 kB 48.1 MB/s \n",
            "\u001b[?25hRequirement already satisfied: chardet<4,>=3.0.2 in /usr/local/lib/python3.7/dist-packages (from requests->pytorch_pretrained_bert) (3.0.4)\n",
            "Requirement already satisfied: idna<3,>=2.5 in /usr/local/lib/python3.7/dist-packages (from requests->pytorch_pretrained_bert) (2.10)\n",
            "Requirement already satisfied: certifi>=2017.4.17 in /usr/local/lib/python3.7/dist-packages (from requests->pytorch_pretrained_bert) (2021.10.8)\n",
            "Installing collected packages: urllib3, jmespath, botocore, s3transfer, boto3, pytorch-pretrained-bert\n",
            "  Attempting uninstall: urllib3\n",
            "    Found existing installation: urllib3 1.24.3\n",
            "    Uninstalling urllib3-1.24.3:\n",
            "      Successfully uninstalled urllib3-1.24.3\n",
            "\u001b[31mERROR: pip's dependency resolver does not currently take into account all the packages that are installed. This behaviour is the source of the following dependency conflicts.\n",
            "datascience 0.10.6 requires folium==0.2.1, but you have folium 0.8.3 which is incompatible.\u001b[0m\n",
            "Successfully installed boto3-1.21.18 botocore-1.24.18 jmespath-0.10.0 pytorch-pretrained-bert-0.6.2 s3transfer-0.5.2 urllib3-1.25.11\n"
          ]
        },
        {
          "output_type": "display_data",
          "data": {
            "application/vnd.colab-display-data+json": {
              "pip_warning": {
                "packages": [
                  "urllib3"
                ]
              }
            }
          },
          "metadata": {}
        },
        {
          "output_type": "stream",
          "name": "stdout",
          "text": [
            "Collecting torch==1.1.0\n",
            "  Downloading torch-1.1.0-cp37-cp37m-manylinux1_x86_64.whl (676.9 MB)\n",
            "\u001b[K     |████████████████████████████████| 676.9 MB 4.0 kB/s \n",
            "\u001b[?25hCollecting pytorch_transformers\n",
            "  Downloading pytorch_transformers-1.2.0-py3-none-any.whl (176 kB)\n",
            "\u001b[K     |████████████████████████████████| 176 kB 48.4 MB/s \n",
            "\u001b[?25hCollecting tensorboardX\n",
            "  Downloading tensorboardX-2.5-py2.py3-none-any.whl (125 kB)\n",
            "\u001b[K     |████████████████████████████████| 125 kB 46.5 MB/s \n",
            "\u001b[?25hRequirement already satisfied: multiprocess in /usr/local/lib/python3.7/dist-packages (0.70.12.2)\n",
            "Collecting pyrouge\n",
            "  Downloading pyrouge-0.1.3.tar.gz (60 kB)\n",
            "\u001b[K     |████████████████████████████████| 60 kB 7.2 MB/s \n",
            "\u001b[?25hRequirement already satisfied: numpy in /usr/local/lib/python3.7/dist-packages (from torch==1.1.0) (1.21.5)\n",
            "Requirement already satisfied: tqdm in /usr/local/lib/python3.7/dist-packages (from pytorch_transformers) (4.63.0)\n",
            "Requirement already satisfied: boto3 in /usr/local/lib/python3.7/dist-packages (from pytorch_transformers) (1.21.18)\n",
            "Collecting sentencepiece\n",
            "  Downloading sentencepiece-0.1.96-cp37-cp37m-manylinux_2_17_x86_64.manylinux2014_x86_64.whl (1.2 MB)\n",
            "\u001b[K     |████████████████████████████████| 1.2 MB 40.2 MB/s \n",
            "\u001b[?25hRequirement already satisfied: regex in /usr/local/lib/python3.7/dist-packages (from pytorch_transformers) (2019.12.20)\n",
            "Requirement already satisfied: requests in /usr/local/lib/python3.7/dist-packages (from pytorch_transformers) (2.23.0)\n",
            "Collecting sacremoses\n",
            "  Downloading sacremoses-0.0.47-py2.py3-none-any.whl (895 kB)\n",
            "\u001b[K     |████████████████████████████████| 895 kB 45.5 MB/s \n",
            "\u001b[?25hRequirement already satisfied: six in /usr/local/lib/python3.7/dist-packages (from tensorboardX) (1.15.0)\n",
            "Requirement already satisfied: protobuf>=3.8.0 in /usr/local/lib/python3.7/dist-packages (from tensorboardX) (3.17.3)\n",
            "Requirement already satisfied: dill>=0.3.4 in /usr/local/lib/python3.7/dist-packages (from multiprocess) (0.3.4)\n",
            "Requirement already satisfied: jmespath<1.0.0,>=0.7.1 in /usr/local/lib/python3.7/dist-packages (from boto3->pytorch_transformers) (0.10.0)\n",
            "Requirement already satisfied: botocore<1.25.0,>=1.24.18 in /usr/local/lib/python3.7/dist-packages (from boto3->pytorch_transformers) (1.24.18)\n",
            "Requirement already satisfied: s3transfer<0.6.0,>=0.5.0 in /usr/local/lib/python3.7/dist-packages (from boto3->pytorch_transformers) (0.5.2)\n",
            "Requirement already satisfied: urllib3<1.27,>=1.25.4 in /usr/local/lib/python3.7/dist-packages (from botocore<1.25.0,>=1.24.18->boto3->pytorch_transformers) (1.25.11)\n",
            "Requirement already satisfied: python-dateutil<3.0.0,>=2.1 in /usr/local/lib/python3.7/dist-packages (from botocore<1.25.0,>=1.24.18->boto3->pytorch_transformers) (2.8.2)\n",
            "Requirement already satisfied: certifi>=2017.4.17 in /usr/local/lib/python3.7/dist-packages (from requests->pytorch_transformers) (2021.10.8)\n",
            "Requirement already satisfied: idna<3,>=2.5 in /usr/local/lib/python3.7/dist-packages (from requests->pytorch_transformers) (2.10)\n",
            "Requirement already satisfied: chardet<4,>=3.0.2 in /usr/local/lib/python3.7/dist-packages (from requests->pytorch_transformers) (3.0.4)\n",
            "Requirement already satisfied: click in /usr/local/lib/python3.7/dist-packages (from sacremoses->pytorch_transformers) (7.1.2)\n",
            "Requirement already satisfied: joblib in /usr/local/lib/python3.7/dist-packages (from sacremoses->pytorch_transformers) (1.1.0)\n",
            "Building wheels for collected packages: pyrouge\n",
            "  Building wheel for pyrouge (setup.py) ... \u001b[?25l\u001b[?25hdone\n",
            "  Created wheel for pyrouge: filename=pyrouge-0.1.3-py3-none-any.whl size=191621 sha256=2caa0a7dfe66541d47fa0ae401f301878ddb4743649dfcfe805fb3982089e266\n",
            "  Stored in directory: /root/.cache/pip/wheels/68/35/6a/ffb9a1f51b2b00fee42e7f67f5a5d8e10c67d048cda09ccd57\n",
            "Successfully built pyrouge\n",
            "Installing collected packages: torch, sentencepiece, sacremoses, tensorboardX, pytorch-transformers, pyrouge\n",
            "  Attempting uninstall: torch\n",
            "    Found existing installation: torch 1.10.0+cu111\n",
            "    Uninstalling torch-1.10.0+cu111:\n",
            "      Successfully uninstalled torch-1.10.0+cu111\n",
            "\u001b[31mERROR: pip's dependency resolver does not currently take into account all the packages that are installed. This behaviour is the source of the following dependency conflicts.\n",
            "torchvision 0.11.1+cu111 requires torch==1.10.0, but you have torch 1.1.0 which is incompatible.\n",
            "torchtext 0.11.0 requires torch==1.10.0, but you have torch 1.1.0 which is incompatible.\n",
            "torchaudio 0.10.0+cu111 requires torch==1.10.0, but you have torch 1.1.0 which is incompatible.\u001b[0m\n",
            "Successfully installed pyrouge-0.1.3 pytorch-transformers-1.2.0 sacremoses-0.0.47 sentencepiece-0.1.96 tensorboardX-2.5 torch-1.1.0\n"
          ]
        },
        {
          "output_type": "display_data",
          "data": {
            "application/vnd.colab-display-data+json": {
              "pip_warning": {
                "packages": [
                  "torch"
                ]
              }
            }
          },
          "metadata": {}
        }
      ]
    },
    {
      "cell_type": "code",
      "source": [
        "!python preprocess.py -mode tokenize -raw_path RAW_PATH -save_path TOKENIZED_PATH"
      ],
      "metadata": {
        "colab": {
          "base_uri": "https://localhost:8080/"
        },
        "id": "UBITP1niIulh",
        "outputId": "4544d13e-a861-4e59-e7cf-69fafc50e2f8"
      },
      "execution_count": null,
      "outputs": [
        {
          "output_type": "stream",
          "name": "stdout",
          "text": [
            "python3: can't open file 'preprocess.py': [Errno 2] No such file or directory\n"
          ]
        }
      ]
    },
    {
      "cell_type": "code",
      "source": [
        "from transformers import BertTokenizerFast, EncoderDecoderModel\n",
        "import torch\n",
        "device = torch.device('cuda' if torch.cuda.is_available() else 'cpu')\n",
        "tokenizer = BertTokenizerFast.from_pretrained('mrm8488/bert-small2bert-small-finetuned-cnn_daily_mail-summarization')"
      ],
      "metadata": {
        "colab": {
          "base_uri": "https://localhost:8080/",
          "height": 145,
          "referenced_widgets": [
            "bda70fb1f0e845fabcdbca49435620ea",
            "19fa591783824a62872aae4d490c259b",
            "81018026cea849ee86f80f6fa9981eb6",
            "f28534fed37a4cdab1759b32c9f993c6",
            "726a25358a5f4beda108154fa4ef8e5b",
            "f4f7ffaa67604e7c8588d1893fdf0942",
            "306c8e85e39e4b2687eb13af8b6116bf",
            "ea5c28c989dc44b298acdcaf3a4db2c8",
            "14206f12c7d4489695eabd3c475e8984",
            "01a7b7826b5c4547b8879f83abfcf85d",
            "d1037284a931454dbdc18187a33480c7",
            "48a0df4e610942b992cd57a659947695",
            "5b666b5599794479b4d3ef9e1705fe66",
            "544cb5aea2de4a979cd26deb11d33607",
            "4a042ca703a542369bf71f4544a62a7f",
            "288d4537900549b58acf75ae2c0efcc2",
            "6e1939cab24344adbc0a40271e8d4b1e",
            "5cac19db0b004627a73f7345b1fc5ada",
            "4095edf4f6914883ba32161c1f3c3dcb",
            "08f645390eb84b80aa42f305d802421a",
            "06f891fdc32f46689c77811970f3789b",
            "9d4fad463e2b4348bfb6f659f0f63a8a",
            "dfc3dd6789134027b965a8099c212051",
            "b7ad318ca01c4caf990ed0ab5e1a6ba0",
            "f9320d027073470dba9a50af40a6f12c",
            "6fa0d4af4fcc450ba53f55055f48a2c3",
            "bb49845999e34a9da93b17fcb6716bc9",
            "03537ab658d44de19099368a522a23eb",
            "e099a3d3c0dd4f57a48c09aea7be7ccc",
            "4c4a4adf9cdc404bbd85758b60cf979d",
            "28f9e39d07444f68a549c9caab2832d7",
            "2240837f90f84b19afba400c6d6c46dc",
            "57a4784fbda1460ea70616c9415bfbb9",
            "faca3c9535e34852af7f2e4de9940d55",
            "a825dd030bde412db63c38a8766cb606",
            "da66db3928c246e39ff00f75a0e9918d",
            "ee3559c54d994da09684c62c970669bf",
            "ed7ad4be975d4e2b84584d5ffe4dae4f",
            "4fcc243e92a3449da56e5fdbdb3a3bcb",
            "885b658db1b14d5fa81ac25fe5093c87",
            "760f12005cba438ba594c79f442bb78f",
            "dbfe384c0b4a48618b0484857074f437",
            "c0482a1c6f4645d89208e8b2e8842b2c",
            "72cdf8c722034423934054edff6110ea"
          ]
        },
        "id": "z8uDMyv8Iwyy",
        "outputId": "0923348b-038c-4b59-977b-a4b40060e50c"
      },
      "execution_count": null,
      "outputs": [
        {
          "output_type": "display_data",
          "data": {
            "text/plain": [
              "Downloading:   0%|          | 0.00/324 [00:00<?, ?B/s]"
            ],
            "application/vnd.jupyter.widget-view+json": {
              "version_major": 2,
              "version_minor": 0,
              "model_id": "bda70fb1f0e845fabcdbca49435620ea"
            }
          },
          "metadata": {}
        },
        {
          "output_type": "display_data",
          "data": {
            "text/plain": [
              "Downloading:   0%|          | 0.00/226k [00:00<?, ?B/s]"
            ],
            "application/vnd.jupyter.widget-view+json": {
              "version_major": 2,
              "version_minor": 0,
              "model_id": "48a0df4e610942b992cd57a659947695"
            }
          },
          "metadata": {}
        },
        {
          "output_type": "display_data",
          "data": {
            "text/plain": [
              "Downloading:   0%|          | 0.00/112 [00:00<?, ?B/s]"
            ],
            "application/vnd.jupyter.widget-view+json": {
              "version_major": 2,
              "version_minor": 0,
              "model_id": "dfc3dd6789134027b965a8099c212051"
            }
          },
          "metadata": {}
        },
        {
          "output_type": "display_data",
          "data": {
            "text/plain": [
              "Downloading:   0%|          | 0.00/3.55k [00:00<?, ?B/s]"
            ],
            "application/vnd.jupyter.widget-view+json": {
              "version_major": 2,
              "version_minor": 0,
              "model_id": "faca3c9535e34852af7f2e4de9940d55"
            }
          },
          "metadata": {}
        }
      ]
    },
    {
      "cell_type": "code",
      "source": [
        "!pip install transformers"
      ],
      "metadata": {
        "colab": {
          "base_uri": "https://localhost:8080/"
        },
        "id": "KkUIWvRrJ76F",
        "outputId": "b4d7f12f-7fc5-4f8a-8b21-456fb920168f"
      },
      "execution_count": null,
      "outputs": [
        {
          "output_type": "stream",
          "name": "stdout",
          "text": [
            "Collecting transformers\n",
            "  Downloading transformers-4.17.0-py3-none-any.whl (3.8 MB)\n",
            "\u001b[K     |████████████████████████████████| 3.8 MB 3.8 MB/s \n",
            "\u001b[?25hRequirement already satisfied: importlib-metadata in /usr/local/lib/python3.7/dist-packages (from transformers) (4.11.2)\n",
            "Requirement already satisfied: numpy>=1.17 in /usr/local/lib/python3.7/dist-packages (from transformers) (1.21.5)\n",
            "Collecting pyyaml>=5.1\n",
            "  Downloading PyYAML-6.0-cp37-cp37m-manylinux_2_5_x86_64.manylinux1_x86_64.manylinux_2_12_x86_64.manylinux2010_x86_64.whl (596 kB)\n",
            "\u001b[K     |████████████████████████████████| 596 kB 44.5 MB/s \n",
            "\u001b[?25hRequirement already satisfied: regex!=2019.12.17 in /usr/local/lib/python3.7/dist-packages (from transformers) (2019.12.20)\n",
            "Requirement already satisfied: tqdm>=4.27 in /usr/local/lib/python3.7/dist-packages (from transformers) (4.63.0)\n",
            "Requirement already satisfied: filelock in /usr/local/lib/python3.7/dist-packages (from transformers) (3.6.0)\n",
            "Requirement already satisfied: requests in /usr/local/lib/python3.7/dist-packages (from transformers) (2.23.0)\n",
            "Requirement already satisfied: sacremoses in /usr/local/lib/python3.7/dist-packages (from transformers) (0.0.47)\n",
            "Collecting tokenizers!=0.11.3,>=0.11.1\n",
            "  Downloading tokenizers-0.11.6-cp37-cp37m-manylinux_2_12_x86_64.manylinux2010_x86_64.whl (6.5 MB)\n",
            "\u001b[K     |████████████████████████████████| 6.5 MB 45.2 MB/s \n",
            "\u001b[?25hCollecting huggingface-hub<1.0,>=0.1.0\n",
            "  Downloading huggingface_hub-0.4.0-py3-none-any.whl (67 kB)\n",
            "\u001b[K     |████████████████████████████████| 67 kB 5.6 MB/s \n",
            "\u001b[?25hRequirement already satisfied: packaging>=20.0 in /usr/local/lib/python3.7/dist-packages (from transformers) (21.3)\n",
            "Requirement already satisfied: typing-extensions>=3.7.4.3 in /usr/local/lib/python3.7/dist-packages (from huggingface-hub<1.0,>=0.1.0->transformers) (3.10.0.2)\n",
            "Requirement already satisfied: pyparsing!=3.0.5,>=2.0.2 in /usr/local/lib/python3.7/dist-packages (from packaging>=20.0->transformers) (3.0.7)\n",
            "Requirement already satisfied: zipp>=0.5 in /usr/local/lib/python3.7/dist-packages (from importlib-metadata->transformers) (3.7.0)\n",
            "Requirement already satisfied: idna<3,>=2.5 in /usr/local/lib/python3.7/dist-packages (from requests->transformers) (2.10)\n",
            "Requirement already satisfied: urllib3!=1.25.0,!=1.25.1,<1.26,>=1.21.1 in /usr/local/lib/python3.7/dist-packages (from requests->transformers) (1.25.11)\n",
            "Requirement already satisfied: chardet<4,>=3.0.2 in /usr/local/lib/python3.7/dist-packages (from requests->transformers) (3.0.4)\n",
            "Requirement already satisfied: certifi>=2017.4.17 in /usr/local/lib/python3.7/dist-packages (from requests->transformers) (2021.10.8)\n",
            "Requirement already satisfied: click in /usr/local/lib/python3.7/dist-packages (from sacremoses->transformers) (7.1.2)\n",
            "Requirement already satisfied: joblib in /usr/local/lib/python3.7/dist-packages (from sacremoses->transformers) (1.1.0)\n",
            "Requirement already satisfied: six in /usr/local/lib/python3.7/dist-packages (from sacremoses->transformers) (1.15.0)\n",
            "Installing collected packages: pyyaml, tokenizers, huggingface-hub, transformers\n",
            "  Attempting uninstall: pyyaml\n",
            "    Found existing installation: PyYAML 3.13\n",
            "    Uninstalling PyYAML-3.13:\n",
            "      Successfully uninstalled PyYAML-3.13\n",
            "Successfully installed huggingface-hub-0.4.0 pyyaml-6.0 tokenizers-0.11.6 transformers-4.17.0\n"
          ]
        }
      ]
    },
    {
      "cell_type": "code",
      "source": [
        "inputs = tokenizer([\"ITEM 8.FINANCIAL STATEMENTS AND SUPPLEMENTARY DATA\\nReport of Independent Registered Public Accounting Firm\\nTo the Stockholders and Board of Directors\\nAAR CORP.:\\nOpinion on the Consolidated Financial Statements\\nWe have audited the accompanying consolidated balance sheets of AAR CORP. and subsidiaries (the Company) as of May 31, 2021 and 2020, the related consolidated statements of income, comprehensive income (loss), changes in equity, and cash flows for each of the years in the three year period ended May 31, 2021, and the related notes (collectively, the consolidated financial statements). In our opinion, the consolidated financial statements present fairly, in all material respects, the financial position of the Company as of May 31, 2021 and 2020, and the results of its operations and its cash flows for each of the years in the three year period ended May 31, 2021, in conformity with U.S. generally accepted accounting principles.\\nWe also have audited, in accordance with the standards of the Public Company Accounting Oversight Board (United States) (PCAOB), the Company\\u2019s internal control over financial reporting as of May 31, 2021, based on criteria established in Internal Control - Integrated Framework (2013) issued by the Committee of Sponsoring Organizations of the Treadway Commission, and our report dated July 20, 2021 expressed an unqualified opinion on the effectiveness of the Company\\u2019s internal control over financial reporting.\\nChange in Accounting Principle\\nAs discussed in Note 1 to the consolidated financial statements, the Company has changed its method of accounting for leases as of June 1, 2019 due to the adoption of Accounting Standards Update No. 2016-02, Leases.\\nBasis for Opinion\\nThese consolidated financial statements are the responsibility of the Company\\u2019s management. Our responsibility is to express an opinion on these consolidated financial statements based on our audits. We are a public accounting firm registered with the PCAOB and are required to be independent with respect to the Company in accordance with the U.S. federal securities laws and the applicable rules and regulations of the Securities and Exchange Commission and the PCAOB.\\nWe conducted our audits in accordance with the standards of the PCAOB. Those standards require that we plan and perform the audit to obtain reasonable assurance about whether the consolidated financial statements are free of material misstatement, whether due to error or fraud. Our audits included performing procedures to assess the risks of material misstatement of the consolidated financial statements, whether due to error or fraud, and performing procedures that respond to those risks. Such procedures included examining, on a test basis, evidence regarding the amounts and disclosures in the consolidated financial statements. Our audits also included evaluating the accounting principles used and significant estimates made by management, as well as evaluating the overall presentation of the consolidated financial statements. We believe that our audits provide a reasonable basis for our opinion.\\nCritical Audit Matters\\nThe critical audit matters communicated below are matters arising from the current period audit of the consolidated financial statements that were communicated or required to be communicated to the audit committee and that: (1) relate to accounts or disclosures that are material to the consolidated financial statements and (2) involved our especially challenging, subjective, or complex judgments. The communication of critical audit matters does not alter in any way our opinion on the consolidated financial statements, taken as a whole, and we are not, by communicating the critical audit matters below, providing separate opinions on the critical audit matters or on the accounts or disclosures to which they relate.\\nAssessment of the write-down of inventories\\nAs discussed in Note 1 to the consolidated financial statements, the inventory balance as of May 31, 2021 was $540.6 million. The Company records inventory within the Aviation Services segment at the lower of cost or net realizable value. The write-\\ndown of slow moving inventory is recorded for excess or obsolete inventory based on certain inputs and assumptions used to determine the net realizable value. These assumptions include the number of days transpiring from the date the inventory was originally received and the historical sales of inventory to determine recovery rates. Other inputs include current and expected future aviation usage trends, replacement values, expected future demand, and historical scrap recovery rates.\\nWe identified the assessment of the write-down of inventories for a portion of the inventory within the Aviation Services segment as a critical audit matter. The primary inputs and assumptions used in determining the write-down of slow moving inventory include the historical recovery rates, which are based on the number of days transpiring from the date the inventory was originally received, the historical sales of inventory, and the identification of specific inventories associated with aircraft with declining usage trends. The assessment of these inputs required a higher degree of subjective auditor judgment in evaluating the future customer demand for slow moving inventory.\\nThe following are the primary procedures we performed to address this critical audit matter. We evaluated the design and tested the operating effectiveness of certain internal controls over the Company\\u2019s inventory process, including controls over the Company\\u2019s evaluation of the impact on the estimate of net realizable value based on 1) the number of days transpiring from the date the inventory was originally received, 2) historical sales of inventory, and 3) specific inventories associated with aircraft with declining usage trends. We also tested relevant information technology application controls over the determination of the number of days transpiring from the date the inventory was originally received. We evaluated the write-down to determine that it was recorded using the Company\\u2019s policy based on the number of days transpiring from the date the inventory was originally received and the recovery rates of existing inventory based on historical sales. We also assessed that the recovery rates applied to slow moving inventory were consistent with historical sales of these inventory items. We assessed the identification of specific inventory with declining usage trends by evaluating external industry information.\\nEvaluation of the estimate of costs at completion of certain performance obligations\\nAs discussed in Note 1 to the consolidated financial statements, for revenue in the Aviation Services segment with performance obligations that are satisfied over time, the Company recognizes revenue using the cost-to-cost input method, which depicts when control of the promised goods or services are transferred to the customer. Revenue is recognized based on the relationship of costs incurred to date to the estimated total costs at completion of the performance obligation. The net favorable cumulative catch-up adjustments recognized during fiscal year 2021 associated with Aviation Services revenue recognized over time totaled $12.0 million, which resulted from changes in the estimated billings and costs at completion of the performance obligations.\\nWe identified the evaluation of the estimate of total costs at completion of the performance obligations for certain contracts within the Aviation Services segment as a critical audit matter. The key inputs and assumptions used in determining the revenue to be recognized include current and future costs to support the program, and future labor costs. The testing of the key inputs and assumptions required the application of subjective auditor judgment because of the estimation uncertainty associated with the inputs and assumptions.\\nThe following are the primary procedures we performed to address this critical audit matter. We evaluated the design and tested the operating effectiveness of certain internal controls over the Company\\u2019s revenue process, including controls over 1) the assessment of the estimated future costs, 2) actual costs incurred for each performance obligation that are used by the Company in their assessment of the measure of progress, and 3) the approval of costs recorded for each performance obligation to assess the allowability per the contract. We obtained the Company\\u2019s forecast for the cost of a selection of Aviation Services revenue contracts and assessed that the measure of progress was determined using actual costs to date plus the estimated future costs to support the satisfaction of performance obligations. We selected a sample of contract costs where revenue is recognized over time to test actual fiscal year 2021 program costs by comparing them to underlying documentation. We evaluated the Company\\u2019s historical estimates to assess their consistency with the Company\\u2019s historical actual costs.\\n/s/ KPMG LLP\\nWe have served as the Company\\u2019s auditor since 1985.\\nChicago, Illinois\\nJuly 20, 2021\\nAAR CORP. AND SUBSIDIARIES\\nCONSOLIDATED STATEMENTS OF INCOME\\nThe accompanying notes to consolidated financial statements are an integral part of these statements.\\nAAR CORP. AND SUBSIDIARIES\\nCONSOLIDATED STATEMENTS OF COMPREHENSIVE INCOME (LOSS)\\nThe accompanying notes to consolidated financial statements are an integral part of these statements.\\nAAR CORP. AND SUBSIDIARIES\\nCONSOLIDATED BALANCE SHEETS\\nASSETS\\nThe accompanying notes to consolidated financial statements are an integral part of these statements.\\nAAR CORP. AND SUBSIDIARIES\\nCONSOLIDATED BALANCE SHEETS\\nLIABILITIES AND EQUITY\\nThe accompanying notes to consolidated financial statements\\nare an integral part of these statements.\\nAAR CORP. AND SUBSIDIARIES\\nCONSOLIDATED STATEMENTS OF CHANGES IN EQUITY\\nFOR THE THREE YEARS ENDED MAY 31, 2020\\nThe accompanying notes to consolidated financial statements are an integral part of these statements.\\nAAR CORP. AND SUBSIDIARIES\\nCONSOLIDATED STATEMENTS OF CASH FLOWS\\nThe accompanying notes to consolidated financial statements\\nare an integral part of these statements.\\nAAR CORP. AND SUBSIDIARIES\\nNOTES TO CONSOLIDATED FINANCIAL STATEMENTS\\n(Dollars in millions, except per share amounts)\\n1. Summary of Significant Accounting Policies\\nDescription of Business\\nAAR CORP. (the \\u201cCompany\\u201d) is a diversified provider of services and products to the worldwide commercial aviation and government and defense markets. Services and products include: aviation supply chain and parts support programs; customer fleet management and operations; maintenance, repair and overhaul of airframes, landing gear, and certain other airframe components; design and manufacture of specialized pallets, shelters, and containers; aircraft modifications and aircraft and engine sales and leasing. We serve commercial, government and defense aircraft fleet operators, original equipment manufacturers, and independent service providers around the world, and various other domestic and foreign military customers.\\nPrinciples of Consolidation\\nThe accompanying Consolidated Financial Statements include the accounts of the Company and its majority-owned subsidiaries after elimination of intercompany accounts and transactions.\\nCertain reclassifications have been made to the 2020 presentation to conform to the 2021 presentation.\\nNew Accounting Pronouncements Adopted\\nIn June 2016, the Financial Accounting Standards Board (\\u201cFASB\\u201d) issued Accounting Standards Update (\\u201cASU\\u201d) No. 2016-13, Financial Instruments-Credit Losses (Topic 326), Measurement of Credit Losses on Financial Instruments. This ASU requires a change in the measurement approach for credit losses on financial assets measured on an amortized cost basis from an incurred loss method to an expected loss method, thereby eliminating the requirement that a credit loss be considered probable to impact the valuation of a financial asset measured on an amortized cost basis. This ASU also requires the measurement of expected credit losses to be based on relevant information about past events, including historical experience, current conditions, and a reasonable and supportable forecast of the collectability of the related financial asset. Our adoption of this ASU on June 1, 2020 did not have a material impact on our Consolidated Financial Statements.\\nIn February 2016, the FASB issued ASU No. 2016-02, Leases (\\u201cASC 842\\u201d), which amended the existing accounting standards for lease accounting. ASC 842 requires lessees to recognize a right-of-use (\\u201cROU\\u201d) asset and lease liability on the balance sheet for most lease arrangements, including those classified as operating leases. In addition, ASC 842 requires new qualitative and quantitative disclosures about our leasing activities.\\nWe adopted ASC 842 on June 1, 2019 using the modified retrospective transition approach. Under that approach, prior periods have not been restated and continue to be reported under the accounting standards in effect for those periods. We elected the package of practical expedients, which must be elected as a package and applied consistently to all leases. This package permitted us to not reassess our prior conclusions about lease identification, lease classification and initial direct costs. In addition, we elected the practical expedients to not separate lease and non-lease components for both lessee and lessor relationships and to not apply the recognition requirements to leases with terms of less than twelve months.\\nUpon adoption of ASC 842 on June 1, 2019, we recognized operating lease ROU assets of $123.2 million and operating lease liabilities of $116.8 million on our Consolidated Balance Sheet. These amounts included operating lease ROU assets of $26.6 million and operating lease liabilities of $25.3 million related to our discontinued operations. In addition, we recognized the remaining unamortized deferred gains of $2.5 million, net of tax, associated with sale-leaseback transactions as a cumulative effect adjustment to the opening balance of retained earnings as of June 1, 2019. The adoption of ASC 842 did not have a material impact on the Consolidated Statements of Operations or Cash Flows.\\nAAR CORP. AND SUBSIDIARIES\\nNOTES TO CONSOLIDATED FINANCIAL STATEMENTS\\n(Dollars in millions, except per share amounts)\\n1. Summary of Significant Accounting Policies (Continued)\\nIn May 2014, the FASB issued ASU No. 2014-09, Revenue from Contracts with Customers (\\u201cASC 606\\u201d), which provides guidance for revenue recognition. ASC 606 superseded the revenue recognition requirements in Accounting Standards Codification (\\u201cASC\\u201d) 605, Revenue Recognition, and most industry-specific guidance.\\nWe adopted ASC 606 on June 1, 2018 using the modified retrospective method. Under that approach, prior periods were not restated and continue to be reported under the accounting standards in effect for those periods. We elected to use the practical expedient allowing for the application of ASC 606 only to contracts that were not completed as of June 1, 2018. We recognized the cumulative effect of initially applying ASC 606 as a decrease of $20.4 million to the opening balance of retained earnings as of June 1, 2018.\\nRevenue Recognition\\nRevenue is measured based on consideration specified in a contract with a customer, and excludes any sales incentives and amounts collected on behalf of third parties. We recognize revenue when we satisfy a performance obligation by transferring control over a product or service to a customer.\\nOur unit of accounting for revenue recognition is a performance obligation included in our customer contracts. A performance obligation reflects the distinct good or service that we must transfer to a customer. At contract inception, we evaluate if the contract should be accounted for as a single performance obligation or if the contract contains multiple performance obligations. In some cases, our contract with the customer is considered one performance obligation as it includes factors such as whether the good or service being provided is significantly integrated with other promises in the contract, whether the service provided significantly modifies or customizes another good or service or whether the good or service is highly interdependent or interrelated. If the contract has more than one performance obligation, we determine the standalone price of each distinct good or service underlying each performance obligation and allocate the transaction price based on their relative standalone selling prices.\\nThe transaction price of a contract, which can include both fixed and variable amounts, is allocated to each performance obligation identified. Some contracts contain variable consideration, which could include incremental fees or penalty provisions related to performance. Variable consideration that can be reasonably estimated based on current assumptions and historical information is included in the transaction price at the inception of the contract but limited to the amount that is probable that a significant reversal in the amount of cumulative revenue recognized will not occur. Variable consideration that cannot be reasonably estimated is recorded when known.\\nOur performance obligations are satisfied over time as work progresses or at a point in time based on transfer of control of products and services to our customers. The majority of our sales from products typically represent distinct performance obligations and are recognized at a point in time upon transfer of control to the customer, which generally occurs upon shipment. In connection with certain sales of products, we also provide logistics services, which include inventory management, replenishment, and other related services. The price of such services is generally included in the price of the products delivered to the customer, and revenues are recognized upon delivery of the product, at which point the customer has obtained control of the product. We do not account for these services separate from the related product sales as the services are inputs required to fulfill part orders received from customers.\\nFor our performance obligations that are satisfied over time, we measure progress in a manner that depicts the performance of transferring control to the customer. As such, we utilize the input method of cost-to-cost to recognize revenue over time as this depicts when control of the promised goods or services are transferred to the customer. Revenue is recognized based on the relationship of actual costs incurred to date to the estimated total cost at completion of the performance obligation. We are required to make certain judgments and estimates, including estimated revenues and costs, as well as inflation and the overall profitability of the arrangement. Key assumptions involved can include customer volume, future labor costs and efficiencies, repair or overhaul costs, overhead costs, and ultimate timing of product delivery. Differences may occur between the judgments and estimates made by management and actual program results. For contracts that are deemed to be loss contracts, we establish forward loss reserves for total estimated costs that are in excess of total estimated consideration in the period in which they become known.\\nAAR CORP. AND SUBSIDIARIES\\nNOTES TO CONSOLIDATED FINANCIAL STATEMENTS\\n(Dollars in millions, except per share amounts)\\n1. Summary of Significant Accounting Policies (Continued)\\nWhen contracts are modified, we consider whether the modification either creates new or changes the existing enforceable rights and obligations. Contract modifications that are for goods or services that are not distinct from the existing contract, due to the significant integration with the original goods or services provided, are accounted for as if they were part of that existing contract with the effect of the contract modification recognized as an adjustment to revenue on a cumulative catch-up basis. When the modifications include additional performance obligations that are distinct, they are accounted for as a new contract and performance obligation, which are recognized prospectively.\\nUnder most of our U.S. government contracts, if the contract is terminated for convenience, we are entitled to payment for items delivered and fair compensation for work performed, the costs of settling and paying other claims, and a reasonable profit on the costs incurred or committed.\\nWe have elected to use certain practical expedients permitted under ASC 606. Shipping and handling fees and costs incurred associated with outbound freight after control over a product has transferred to a customer are accounted for as a fulfillment cost and are included in Cost of sales on our Consolidated Statements of Income, and are not considered a performance obligation to our customers. Our reported sales on our Consolidated Statements of Income are net of any sales or related non-income taxes. We also utilize the \\u201cas invoiced\\u201d practical expedient in certain cases where performance obligations are satisfied over time and the invoiced amount corresponds directly with the value we are providing to the customer.\\nCumulative Catch-up Adjustments\\nChanges in estimates and assumptions related to our arrangements accounted for using the cost-to-cost method are recorded using the cumulative catch-up method of accounting. These changes are primarily adjustments to the estimated profitability for our long-term programs where we provide component inventory management and/or repair services.\\nFavorable and unfavorable cumulative catch-up adjustments were as follows:\\nContract Assets and Liabilities\\nThe timing of revenue recognition, customer billings, and cash collections results in a contract asset or contract liability at the end of each reporting period. When an unconditional right to consideration exists, we record an unbilled receivable. When amounts are dependent on factors other than the passage of time in order for payment from a customer to be due, we record a contract asset which consists of costs incurred where revenue recognized over time using the cost-to-cost model exceeds the amounts billed to customers. Contract liabilities include advance payments and billings in excess of revenue recognized. Certain customers make advance payments prior to the satisfaction of our performance obligations on the contract. These amounts are recorded as contract liabilities until such performance obligations are satisfied, either over time as costs are incurred or at a point in time when deliveries are made. Contract assets and contract liabilities are determined on a contract-by-contract basis.\\nAAR CORP. AND SUBSIDIARIES\\nNOTES TO CONSOLIDATED FINANCIAL STATEMENTS\\n(Dollars in millions, except per share amounts)\\n1. Summary of Significant Accounting Policies (Continued)\\nNet contract assets and liabilities are as follows:\\nContract assets - non-current is reported within Other non-current assets, and Contract liabilities - current is reported within Accrued Liabilities on our Consolidated Balance Sheet. Changes in contract assets and contract liabilities primarily result from the timing difference between our performance of services and payments from customers.\\nDuring the fiscal 2021 and 2020, we terminated or restructured certain commercial power-by-the-hour (\\u201cPBH\\u201d) customer contracts resulting in charges of $5.7 million and $31.3 million, respectively. Some of these contracts were deemed loss contracts requiring the establishment of forward loss reserves for the total estimated costs that are in excess of the total estimated consideration over the remainder of the contracts.\\nAs of May 31, 2021, our Consolidated Balance Sheet included remaining forward loss reserves of $3.0 million with $2.8 million classified as current in Accrued liabilities and $0.2 million classified as long-term in Other liabilities.\\nOne of our PBH customers notified us in June 2021 that the contract would be terminating earlier than originally anticipated. In conjunction with the early termination, we expect to recognize contract asset and rotable asset impairment charges of $5.0 to $10.0 million in the first quarter of fiscal 2022.\\nTo support our PBH customer contracts, we previously entered into an agreement with a component repair facility to outsource a portion of the component repair and overhaul services. The agreement included certain minimum repair volume guarantees which we have not met due to the impact of COVID-19 on commercial passenger aircraft flight hours. During fiscal 2021, we recognized a $4.5 million charge to reflect our estimated obligation over the remainder of the agreement for not achieving the minimum volume guarantees. As of May 31, 2021, our Consolidated Balance Sheet included remaining loss reserves of $2.9 million with $1.5 million classified as current in Accrued liabilities and $1.4 million classified as long-term in Other liabilities.\\nChanges in our deferred revenue were as follows:\\nAAR CORP. AND SUBSIDIARIES\\nNOTES TO CONSOLIDATED FINANCIAL STATEMENTS\\n(Dollars in millions, except per share amounts)\\n1. Summary of Significant Accounting Policies (Continued)\\nRemaining Performance Obligations\\nAs of May 31, 2021, we had approximately $750 million of remaining performance obligations, also referred to as firm backlog, which excludes unexercised contract options and potential orders under our indefinite-delivery, indefinite-quantity contracts. We expect that approximately 40% of this backlog will be recognized as revenue over the next 12 months, with approximately 45% of the remaining balance recognized over the next three years. The amount of remaining performance obligations, which is expected to be recognized as revenue beyond 12 months, primarily relates to our long-term, PBH programs where we provide component inventory management and/or repair services.\\nFinancial Instruments and Concentrations of Market or Credit Risk\\nFinancial instruments that potentially subject us to concentrations of market or credit risk consist principally of trade receivables. While our trade receivables are diverse and represent a number of entities and geographic regions, the majority are with the U.S. government and its contractors and entities in the aviation industry. The composition of our accounts receivable is as follows:\\nIn addition, we currently have past due accounts receivable owed by former commercial program customers primarily related to our exit from customer contracts in certain geographies, including Colombia, Peru, and Spain. Our past due accounts receivable owed by these customers was $4.7 million as of May 31, 2021 which was net of allowance for doubtful accounts of $8.8 million.\\nThe carrying amounts of cash and cash equivalents, accounts receivable, and accounts and trade notes payable approximate fair value because of the short-term maturity of these instruments. The carrying value of long-term debt bearing a variable interest rate approximates fair value.\\nFair value estimates are made at a specific point in time based on relevant market information about the financial instrument. These estimates are subjective in nature and involve uncertainties and matters of significant judgment and therefore cannot be determined with precision. Changes in assumptions could significantly affect the estimates.\\nAllowance for Doubtful Accounts\\nWe maintain an allowance for doubtful accounts to reflect the expected uncollectibility of accounts receivable based on past collection history and specific risks identified among uncollected accounts. In determining the required allowance, we consider factors such as general and industry-specific economic conditions, customer credit history, and our customers\\u2019 current and expected future financial performance. The majority of our customers are recurring customers with an established payment history. Certain customers are required to undergo an extensive credit check prior to delivery of products or services.\\nAAR CORP. AND SUBSIDIARIES\\nNOTES TO CONSOLIDATED FINANCIAL STATEMENTS\\n(Dollars in millions, except per share amounts)\\n1. Summary of Significant Accounting Policies (Continued)\\nOur allowance for doubtful accounts also includes reserves for estimated product returns based on historical return rates. The reserve for estimated product returns is recognized as a reduction to sales with a corresponding reduction to cost of sales for the estimated cost of inventory that is expected to be returned.\\nWe perform regular evaluations of customer payment experience, current financial condition, and risk analysis. We may require collateral in the form of security interests in assets, letters of credit, and/or obligation guarantees from financial institutions for transactions executed on other than normal trade terms. We also maintain trade credit insurance for certain customers to provide coverage, up to a certain limit, in the event of insolvency of some customers.\\nIn fiscal 2019, we recognized a provision for doubtful accounts of $12.4 million related to the bankruptcy of a European airline customer. The provision consisted of impairment of non-current contract assets of $7.6 million, allowance for doubtful accounts of $3.3 million, and other liabilities of $1.5 million.\\nThe change in our allowance for doubtful accounts was as follows:\\nGoodwill and Other Intangible Assets\\nIn accordance with ASC 350, Intangibles-Goodwill and Other, goodwill and other intangible assets deemed to have indefinite lives are not amortized, but are subject to annual impairment tests. We review and evaluate our goodwill and indefinite life intangible assets for potential impairment at a minimum annually, on May 31, or more frequently if circumstances indicate that impairment is possible.\\nAs of May 31, 2021, we had three reporting units, which included two in our Aviation Services segment (Aviation Supply Chain and Maintenance, Repair, and Overhaul) and one comprised of our Expeditionary Services segment. We utilized the qualitative assessment approach for all reporting units which considers general economic conditions, industry specific performance, changes in reporting unit carrying values, and assumptions used in the most recent fair value calculation. We concluded it was more likely than not that the fair value of each reporting unit exceeded its carrying value at May 31, 2021, and thus no impairment charges were recorded.\\nIn fiscal 2020, we elected to forego the qualitative assessment due to the unprecedented impact of the COVID-19 pandemic and utilized a quantitative assessment approach for all reporting units. We estimated the fair value of each reporting unit using primarily an income approach based on discounted cash flows. The assumptions we used to estimate the fair value of our reporting units were based on historical performance, as well as forecasts used in our business plan and required considerable management judgment in light of the impact of COVID-19. We used discount rates based on our consolidated weighted average cost of capital which is adjusted for each of our reporting units based on their specific risk, size, and industry characteristics. The fair value measurements used for our goodwill impairment testing use significant unobservable inputs, which reflected our own assumptions about the inputs that market participants would use in measuring fair value. The fair value of our reporting units is also impacted by our overall market capitalization and may be impacted by volatility in our stock price and assumed control premium, among other items. We concluded the fair value of each reporting unit exceeded its carrying values as of May 31, 2020, and thus no impairment charges were recorded.\\nAAR CORP. AND SUBSIDIARIES\\nNOTES TO CONSOLIDATED FINANCIAL STATEMENTS\\n(Dollars in millions, except per share amounts)\\n1. Summary of Significant Accounting Policies (Continued)\\nChanges in the carrying amount of goodwill by segment for fiscal 2021 and 2020 are as follows:\\nIntangible assets with finite useful lives are amortized on a straight-line basis over their estimated useful lives. Intangible assets, other than goodwill, are comprised of the following:\\nIn conjunction with the adoption of ASC 842 on June 1, 2019, our net intangible asset for lease agreements of $8.5 million was re-classified to the ROU asset. During fiscal 2020, we recognized an impairment charge of $5.4 million related to the exit of certain product lines across both our Aviation Services and Expeditionary Services segments.\\nCustomer relationships are being amortized over 5-20 years. Amortization expense recorded during fiscal 2021, 2020 and 2019 was $1.8 million, $2.3 million, and $3.9 million, respectively. The estimated aggregate amount of amortization expense for intangible assets in each of the next five fiscal years is $1.1 million in 2022, $0.5 million in 2023, $0.3 million in 2024, $0.3 million in 2025 and $0.3 million in 2026.\\nForeign Currency\\nOur foreign subsidiaries utilize the local currency as their functional currency. All balance sheet accounts of foreign subsidiaries transacting business in currencies other than the U.S. dollar are translated at year-end exchange rates. Revenues and expenses are translated at average exchange rates during the year. Translation adjustments are excluded from the results of operations and are recorded in stockholders\\u2019 equity as a component of accumulated other comprehensive loss until such subsidiaries are liquidated.\\nAAR CORP. AND SUBSIDIARIES\\nNOTES TO CONSOLIDATED FINANCIAL STATEMENTS\\n(Dollars in millions, except per share amounts)\\n1. Summary of Significant Accounting Policies (Continued)\\nCash\\nCash and cash equivalents consist of highly liquid instruments which have original maturities of three months or less when purchased. Restricted cash represents cash on hand required to be set aside by a contractual agreement related to receivable securitization arrangements. Generally, the restrictions related to the receivable securitization arrangements lapse at the time we remit the customer payments collected by us as servicer of previously sold customer receivables to the purchaser.\\nInventories\\nInventories are valued at the lower of cost or market (estimated net realizable value). Cost is determined by the specific identification, average cost, or first-in, first-out methods. From time-to-time, we purchase aircraft and engines for disassembly to individual parts and components. Costs are assigned to these individual parts and components utilizing list prices from original equipment manufacturers and recent sales history. Expenditures for the repair of parts and components are capitalized as inventory.\\nThe following is a summary of inventories:\\nRotable Assets and Equipment under Leases\\nThe cost of the asset under lease is the original purchase price plus overhaul costs. Depreciation is computed using the straight-line method over the estimated service life of the equipment. The balance sheet classification of equipment under lease is generally based on lease term, with fixed-term leases less than twelve months generally classified as short-term and all others generally classified as long-term.\\nEquipment on short-term lease includes aircraft engines and parts on or available for lease to satisfy customers\\u2019 immediate short-term requirements. The leases are renewable with fixed terms, which generally vary from one to twelve months.\\nProperty, Plant and Equipment and Other Non-Current Assets\\nWe record property, plant and equipment at cost. Depreciation is computed on the straight-line method over useful lives of 10-40 years for buildings and improvements and 3-10 years for equipment, furniture and fixtures, and capitalized software. Leasehold improvements are amortized over the shorter of the estimated useful life or the term of the applicable lease.\\nRepair and maintenance expenditures are expensed as incurred. Upon sale or disposal, cost and accumulated depreciation are removed from the accounts, and related gains and losses are included in results of operations.\\nRotable assets supporting long-term programs consist of rotable component parts used to support long-term supply chain programs. The assets are being depreciated on a straight-line basis over their estimated useful lives.\\nAAR CORP. AND SUBSIDIARIES\\nNOTES TO CONSOLIDATED FINANCIAL STATEMENTS\\n(Dollars in millions, except per share amounts)\\n1. Summary of Significant Accounting Policies (Continued)\\nIn accordance with ASC 360, Property, Plant and Equipment, we are required to test for impairment of long-lived assets whenever events or changes in circumstances indicate the carrying value of an asset may not be recoverable from its undiscounted cash flows. We utilize certain assumptions to estimate future undiscounted cash flows, including demand for our services, future market conditions and trends, business development pipeline of opportunities, current and future lease rates, lease terms, and residual values.\\nIn our Aviation Services segment, we evaluated future cash flows related to certain rotable assets supporting long-term programs in light of declines in commercial airline volumes and commercial program contract terminations We recognized asset impairment charges of $5.8 million related to these rotable assets in fiscal 2021. In our Expeditionary Services segment, we consolidated manufacturing facilities and recognized impairment and related charges of $2.6 million during fiscal 2021.\\nIn conjunction with the decision to exit certain product lines, we recognized rotable asset impairment charges of $1.9 million in fiscal 2020 in conjunction with reclassifying the rotable assets as inventory held for sale. In fiscal 2021, we recognized additional impairment charges of $1.4 million on these assets.\\nFuture rent due to us under non-cancelable leases during each of the next five fiscal years is $21.0 million in 2022, $21.7 million in 2023, $21.1 million in 2024, $21.1 million in 2025, and $19.1 million in 2026.\\nInvestments\\nInvestments where we have the ability to exercise significant influence, but do not control the entity, are accounted for under the equity method of accounting. Significant influence generally exists if we have a 20% to 50% ownership interest in the investee. Our share of the net earnings or loss of our investees is included in operating income on our Consolidated Statements of Income since the activities of the investees are closely aligned with our operations. Equity investments in entities over which we do not have the ability to exercise significant influence and whose securities do not have a readily determinable fair value are carried at cost less impairment, if any, adjusted for changes resulting from qualifying observable price changes.\\nWe evaluate our investments for impairment whenever events or changes in circumstances indicate that the carrying amounts of such investments may be impaired. If a decline in the value of an investment is determined to be other than temporary, a loss is recorded in earnings in the current period.\\nOur investments are classified in Other non-current assets on our Consolidated Balance Sheets. Distributions from joint ventures are classified as operating or investing activities in the Consolidated Statements of Cash Flows based upon an evaluation of the specific facts and circumstances of each distribution.\\nRestructuring and Other Exit Costs\\nWe recognize charges for restructuring and other exit costs such as product line exits and facility closures at their fair value when incurred. In cases where employees are required to render service until they are terminated in order to receive the termination benefits and will be retained beyond the minimum retention period, we record the expense ratably over the future service period.\\nDuring fiscal 2021 and 2020, we incurred severance and furlough-related costs of $9.0 million and $7.1 million, respectively, which were included as a component of Cost of sales and services and Selling, general and administrative on our Consolidated Statements of Income.\\nAAR CORP. AND SUBSIDIARIES\\nNOTES TO CONSOLIDATED FINANCIAL STATEMENTS\\n(Dollars in millions, except per share amounts)\\n1. Summary of Significant Accounting Policies (Continued)\\nIncome Taxes\\nWe are subject to income taxes in the U.S., state, and several foreign jurisdictions. In the ordinary course of business, there can be transactions and calculations where the ultimate tax determination is uncertain. We recognize deferred tax assets and liabilities for the expected future tax consequences of events that have been included in the financial statements or tax returns in accordance with applicable accounting guidance for accounting for income taxes, using currently enacted tax rates in effect for the year in which the differences are expected to reverse.\\nWe record a valuation allowance when necessary to reduce deferred tax assets to the amount expected to be realized. Deferred tax assets are reduced by a valuation allowance if, based on the weight of available evidence, it is more likely than not that some portion or all of the deferred tax assets will not be realized. Both positive and negative evidence are considered in forming our judgment as to whether a valuation allowance is appropriate, and more weight is given to evidence that can be objectively verified. Valuation allowances are reassessed whenever there are changes in circumstances that may cause a change in judgment.\\nThe accounting for uncertainty in income taxes requires a more-likely-than-not threshold for financial statement recognition of tax positions taken or expected to be taken in a tax return. Where necessary, we record a liability for the difference between the benefit recognized for financial statement purposes and the tax position taken or expected to be taken on our tax return. To the extent that our assessment of such tax positions changes, the change in estimate is recorded in the period in which the determination is made.\\nSupplemental Information on Cash Flows\\nSupplemental information on cash flows is as follows:\\nDuring fiscal 2021, treasury stock decreased $8.6 million reflecting restricted stock activity of $5.6 million and the re-issuance of shares upon exercise of stock options, net of shares withheld to satisfy statutory tax obligations, of $3.0 million.\\nDuring fiscal 2020, treasury stock decreased $5.0 million reflecting restricted stock activity of $0.8 million and the re-issuance of shares upon exercise of stock options, net of shares withheld to satisfy statutory tax obligations, of $8.3 million partially offset by the repurchase of common shares of $4.1 million.\\nDuring fiscal 2019, treasury stock increased $7.0 million reflecting the repurchase of common shares of $10.3 million, restricted stock activity of $0.8 million partially offset by the re-issuance of shares upon exercise of stock options, net of shares withheld to satisfy statutory tax obligations, of $4.1 million.\\nUse of Estimates\\nWe have made estimates and utilized certain assumptions relating to the reporting of assets and liabilities and the disclosures of contingent liabilities to prepare these Consolidated Financial Statements in conformity with accounting principles generally accepted in the United States. Actual results could differ from those estimates.\\nAAR CORP. AND SUBSIDIARIES\\nNOTES TO CONSOLIDATED FINANCIAL STATEMENTS\\n(Dollars in millions, except per share amounts)\\n2. Discontinued Operations\\nDuring the third quarter of fiscal 2018, we decided to pursue the sale of our Contractor-Owned, Contractor-Operated (\\u201cCOCO\\u201d) business previously included in our Expeditionary Services segment. Due to this strategic shift, the assets, liabilities, and results of operations of our COCO business have been reported as discontinued operations for all periods presented. Unless otherwise noted, amounts and disclosures throughout these Notes to Consolidated Financial Statements relate to our continuing operations.\\nIn the fourth quarter of fiscal 2020, we completed the sale of the last operating contract of the COCO business shortly after government approval. Our continuing involvement in the COCO business is limited to the lease of certain aircraft which is an obligation of the acquirer of this contract. The assets and liabilities of our discontinued operations are primarily comprised of right-of-use assets, lease-related liabilities and reserves for certain legal proceedings which are discussed in Note 15.\\n3. Sale of Receivables\\nOn February 23, 2018, we entered into a Purchase Agreement with Citibank N.A. (\\u201cPurchaser\\u201d) for the sale, from time to time, of certain accounts receivable due from certain customers (the \\u201cPurchase Agreement\\u201d). Under the Purchase Agreement, the maximum amount of receivables sold is limited to $150 million and Purchaser may, but is not required to, purchase the eligible receivables we offer to sell. The term of the Purchase Agreement runs through February 22, 2022, however, the Purchase Agreement may also be terminated earlier under certain circumstances. The term of the Purchase Agreement shall be automatically extended for annual terms unless either party provides advance notice that they do not intend to extend the term.\\nWe have no retained interests in the sold receivables, other than limited recourse obligations in certain circumstances, and only perform collection and administrative functions for the Purchaser. We account for these receivable transfers as sales under ASC 860, Transfers and Servicing, and de-recognize the sold receivables from our Consolidated Balance Sheet.\\nReceivables sold under the Purchase Agreement during fiscal 2021, 2020, and 2019 were $440.6 million, $746.4 million, and $744.2 million, respectively. Amounts remitted to the Purchaser on their behalf during fiscal 2021, 2020, and 2019 were $476.3 million, $758.3 million, and $729.7 million, respectively. As of May 31, 2021 and May 31, 2020, we had collected cash of $8.4 million and $20.0 million, respectively, which was not yet remitted to the Purchaser as of those dates and was classified as Restricted cash on our Consolidated Balance Sheets.\\nWe recognize discounts on the sale of our receivables and other fees related to the Purchase Agreement in Other expense, net on our Consolidated Statements of Income. During fiscal 2021, 2020 and 2019, we incurred discounts on the sale of our receivables and other fees of $0.4 million, $1.8 million and $2.2 million, respectively.\\nAAR CORP. AND SUBSIDIARIES\\nNOTES TO CONSOLIDATED FINANCIAL STATEMENTS\\n(Dollars in millions, except per share amounts)\\n4. Financing Arrangements\\nDebt Outstanding\\nA summary of the carrying amount of our debt is as follows:\\nAt May 31, 2021, our variable rate debt had a fair value that approximates its carrying value and is classified as Level 2 in the fair value hierarchy.\\nOn October 18, 2017, we entered into a Credit Agreement with the Canadian Imperial Bank of Commerce, as lender (the \\u201cCredit Agreement\\u201d). The Credit Agreement provided a Canadian $31 million term loan with the proceeds used to fund the acquisition of two maintenance, repair, and overhaul (\\u201cMRO\\u201d) facilities in Canada from Premier Aviation. The term loan is due in full at the expiration of the Credit Agreement on November 1, 2021 unless terminated earlier pursuant to the terms of the Credit Agreement. Interest is payable monthly on the term loan at the offered fluctuating Canadian Dollar Offer Rate plus 125 to 225 basis points based on certain financial measurements if a Bankers\\u2019 Acceptances loan, or at the offered fluctuating Prime Rate plus 25 to 125 basis points based on certain financial measurements, if a Prime Rate loan.\\nWe maintain a Revolving Credit Facility with various financial institutions, as lenders, and Bank of America, N.A., as administrative agent for the lenders, which provides the Company an aggregate revolving credit commitment of $600 million and matures September 25, 2024. Under certain circumstances, we have the ability to request, but our lenders are not required to grant, an increase to the revolving credit commitment by an aggregate amount of up to $300 million, not to exceed $900 million in total.\\nBorrowings under the Revolving Credit Facility bear interest at the offered Eurodollar Rate plus 87.5 to 175 basis points based on certain financial measurements if a Eurodollar Rate loan, or at the offered fluctuating Base Rate plus 0 to 75 basis points based on certain financial measurements if a Base Rate loan.\\nBorrowings outstanding under the Revolving Credit Facility at May 31, 2021 were $109.5 million and there were approximately $19.2 million of outstanding letters of credit, which reduced the availability of this facility to $471.3 million.\\nThe term loan under the Credit Agreement that matures on November 1, 2021 has been classified as a long-term liability due to our intent and ability to refinance this loan on a long-term basis using our Revolving Credit Facility.\\nOur financing arrangements also require us to comply with leverage and interest coverage ratios, maintain a minimum net working capital level, and comply with certain affirmative and negative covenants, including those relating to financial reporting and notification, payment of indebtedness, cash dividends, taxes and other obligations, compliance with applicable laws, and limitations on additional liens, indebtedness, acquisitions, investments and disposition of assets. The Revolving Credit Facility also requires our significant domestic subsidiaries, and any subsidiaries that guarantee our other indebtedness, to provide a guarantee of payment under the Revolving Credit Facility. At May 31, 2021, we were in compliance with the financial and other covenants in our financing agreements.\\nAAR CORP. AND SUBSIDIARIES\\nNOTES TO CONSOLIDATED FINANCIAL STATEMENTS\\n(Dollars in millions, except per share amounts)\\n4. Financing Arrangements (Continued)\\nBorrowing activity under the Revolving Credit Facility during fiscal 2021, 2020 and 2019 is as follows:\\nWe also have $10.4 million available under foreign lines of credit as of May 31, 2021.\\n5. Equity\\nStock-Based Compensation\\nWe have granted stock-based awards under the AAR CORP. 2013 Stock Plan, as Amended and Restated Effective July 13, 2020 (the \\u201c2013 Stock Plan\\u201d) and the AAR CORP. Stock Benefit Plan (\\u201cStock Benefit Plan\\u201d) each of which has been approved by our stockholders. No further awards will be made under the Stock Benefit Plan. Under the 2013 Stock Plan, we are authorized to issue stock options to employees and non-employee directors that allow the grant recipients to purchase shares of common stock at a price not less than the fair market value of the common stock on the date of grant. Generally, stock options awarded expire ten years from the date of grant and are exercisable in three annual increments commencing one year after the date of grant. In addition to stock options, the 2013 Stock Plan also provides for the grant of time-based restricted stock awards and performance-based restricted stock awards. The 2013 Stock Plan also provides for the grant of stock appreciation units and restricted stock units; however, to date, no such awards have been granted.\\nRestricted stock grants (whether time-based or performance-based) are designed, among other things, to align employee interests with the interests of stockholders and to encourage the recipient to build a career with us. Restricted stock typically vests over periods of one to three years from the date of grant. Restricted stock grants may be performance-based with vesting to generally occur over a period of three years. All restricted stock that has been granted and, if performance-based, earned according to performance criteria carries full dividend and voting rights, regardless of whether it has vested.\\nSubstantially all stock options and restricted stock are subject to forfeiture prior to vesting if the employee\\u2019s employment terminates for any reason other than death, disability or retirement. Since inception, a total of 11,149,000 shares have been granted under the Stock Benefit Plan. We have granted a total of 5,058,230 shares under the 2013 Stock Plan. All future stock awards will be made under the 2013 Stock Plan. There were 1,850,828 shares available for grant under the 2013 Stock Plan as of May 31, 2021.\\nAAR CORP. AND SUBSIDIARIES\\nNOTES TO CONSOLIDATED FINANCIAL STATEMENTS\\n(Dollars in millions, except per share amounts)\\n5. Equity (Continued)\\nStock Options\\nDuring fiscal 2021, 2020, and 2019, we granted stock options with respect to 936,170 shares, 414,460 shares and 300,240 shares, respectively. The weighted average fair value per share of stock options granted during fiscal 2021, 2020 and 2019 was $5.89, $10.30 and $13.60, respectively. The fair value of each stock option grant was estimated on the date of grant using the Black-Scholes option pricing model using the following weighted average assumptions:\\nThe risk-free interest rate is based on the U.S. Treasury yield curve in effect at the time of grant. The expected volatility is based on historical volatility of our common stock, and the expected option term represents the period of time that the stock options granted are expected to be outstanding based on historical exercise trends. The dividend yield represents our anticipated cash dividends at the grant date over the expected option term.\\nA summary of stock option activity for the three years ended May 31, 2021 consisted of the following (shares in thousands):\\nThe total fair value of stock options that vested during fiscal 2021, 2020, and 2019 was $3.9 million, $3.7 million, and $5.6 million, respectively. The total intrinsic value of stock options exercised during fiscal 2021, 2020, and 2019 was $1.5 million, $6.2 million, and $12.2 million, respectively. The aggregate intrinsic value of options outstanding was $36.6 million and $0.5 million as of May 31, 2021 and 2020, respectively. The tax expense (benefit) realized from stock options exercised during fiscal 2021, 2020, and 2019 was $0.7 million, ($2.1) million, and ($2.7) million, respectively. Expense recognized in selling, general and administrative expenses for stock options during fiscal 2021, 2020, and 2019 was $4.0 million, $3.9 million, and $4.1 million, respectively. As of May 31, 2021, we had $5.4 million of unrecognized compensation expense related to stock options that will be expensed over an average period of 1.4 years.\\nAAR CORP. AND SUBSIDIARIES\\nNOTES TO CONSOLIDATED FINANCIAL STATEMENTS\\n(Dollars in millions, except per share amounts)\\n5. Equity (Continued)\\nRestricted Stock\\nWe provide executives and other key employees an opportunity to be awarded performance-based and time-based restricted stock. The performance-based awards are contingent upon the achievement of certain objectives, which generally include cumulative income, average return on capital, and relative total shareholder return over a three-year performance period. Performance-based restricted shares of 52,475, and 43,680 were granted to executives and key employees during fiscal 2020 and 2019, respectively. No performance-based restricted shares were granted in fiscal 2021. Time-based restricted shares of 144,255, 56,535, and 46,470 were granted to executives and key employees during fiscal 2021, 2020, and 2019, respectively. We also award time-based restricted stock to our non-employee directors as part of their annual compensation. Time-based restricted shares of 72,021, 44,123, and 29,128 were granted to members of the Board of Directors during fiscal 2021, 2020, and 2019, respectively.\\nThe fair value of restricted shares is the market value of our common stock on the date of grant. Expense recognized in selling, general and administrative expenses for all restricted share programs during fiscal 2021, 2020, and 2019 was $5.2 million, $3.4 million, and $9.4 million, respectively.\\nRestricted share activity during fiscal 2021 was as follows (shares in thousands):\\nAs of May 31, 2021 we had $2.5 million of unearned compensation related to restricted shares that will be expensed over a weighted average period of 2.0 years.\\n6. Income Taxes\\nThe provision for income tax on income from continuing operations includes the following components:\\nAAR CORP. AND SUBSIDIARIES\\nNOTES TO CONSOLIDATED FINANCIAL STATEMENTS\\n(Dollars in millions, except per share amounts)\\n6. Income Taxes (Continued)\\nThe provision for income taxes on pre-tax income differs from the amount computed by applying the U.S. federal statutory income tax rate of 21.0% for fiscal 2021, 2020 and 2019 to income from continuing operations before provision for income taxes due to the following:\\nIncome before provision for income taxes includes the following components:\\nOur foreign earnings are comprised primarily of the results of our operations in the United Kingdom, Canada, and the Netherlands.\\nDeferred tax assets and liabilities result primarily from the differences in the timing of the recognition of transactions for financial reporting and income tax purposes. Our deferred tax assets and liabilities consist of the following components:\\nAAR CORP. AND SUBSIDIARIES\\nNOTES TO CONSOLIDATED FINANCIAL STATEMENTS\\n(Dollars in millions, except per share amounts)\\n6. Income Taxes (Continued)\\nAs of May 31, 2021, we have determined that the realization of our deferred tax assets is more likely than not and that a valuation allowance is not required. Our net operating losses have carry forward periods that range from 5 to 20 years. Our history of operating earnings, our expectations for continued future earnings, the nature of certain of our deferred tax assets and the scheduled reversal of deferred tax liabilities, primarily related to depreciation, support the recoverability of the majority of the deferred tax assets. Our net deferred tax assets are included in Other non-current assets on our Consolidated Balance Sheets.\\nIncome tax payable was $0.7 million at May 31, 2021 and was included in Accrued liabilities on the Consolidated Balance Sheet. Income tax receivable was $7.9 million at May 31, 2020 and was included in Prepaid expenses and other current assets on the Consolidated Balance Sheet.\\nOur federal income tax returns for fiscal years 2018 and subsequent are open for examination. Various states and foreign jurisdictions also remain open subject to their applicable statute of limitations.\\n7. Earnings Per Share\\nThe computation of basic earnings per share is based on the weighted average number of common shares outstanding during each period. The computation of diluted earnings per share is based on the weighted average number of common shares outstanding during the period plus, when their effect is dilutive, incremental shares consisting of shares subject to stock options and shares issuable upon vesting of restricted stock awards.\\nIn accordance with ASC 260-10-45, Share-Based Payment Arrangements and Participating Securities and the Two-Class Method, our unvested restricted stock awards are deemed participating securities since these shares are entitled to participate in dividends declared on common shares. During periods of net income, the calculation of earnings per share for common stock excludes income attributable to unvested restricted stock awards from the numerator and excludes the dilutive impact of those shares from the denominator. During periods of net loss, no effect is given to the participating securities because they do not share in the losses of the Company.\\nAAR CORP. AND SUBSIDIARIES\\nNOTES TO CONSOLIDATED FINANCIAL STATEMENTS\\n(Dollars in millions, except per share amounts)\\n7. Earnings Per Share (Continued)\\nThe following tables provide a reconciliation of the computations of basic and diluted earnings per share information for each of the years in the three-year period ended May 31, 2021 (shares in millions).\\nAt May 31, 2021, 2020 and 2019 respectively, outstanding options to purchase 1,054,400, 669,400 and 273,400 shares of common stock were not included in the computation of diluted earnings per share, because the exercise price of these options was greater than the average market price of the common shares for the year then ended.\\n8. Employee Benefit Plans\\nDefined Benefit Plans\\nPrior to January 1, 2000, the pension plan for domestic salaried and non-union hourly employees (\\u201cU.S. Retirement Plan\\u201d) had a benefit formula based primarily on years of service and compensation. Effective January 1, 2000, we converted our defined benefit plan for substantially all domestic salaried and certain hourly employees to a cash balance pension plan. Under the cash balance pension plan, the retirement benefit is expressed as a dollar amount in an account that grows with annual pay-based credits and interest on the account balance. The interest crediting rate under our cash balance plan is determined quarterly and is equal to 100% of the average 30-year treasury rate for the second month preceding the applicable quarter published by the Internal Revenue Service. The average interest crediting rate under our cash balance plan for the fiscal year ended May 31, 2021 was 4.46%. Effective June 1, 2005, the existing cash balance plan was frozen and the annual pay-based credits were discontinued.\\nOur domestic plans also include a defined benefit pension plan for certain union hourly employees in which benefits are based primarily on a fixed amount per year of service. This plan was frozen in fiscal 2018.\\nAAR CORP. AND SUBSIDIARIES\\nNOTES TO CONSOLIDATED FINANCIAL STATEMENTS\\n(Dollars in millions, except per share amounts)\\n8. Employee Benefit Plans (Continued)\\nWe also have a defined benefit pension plan covering certain employees in the Netherlands. Benefit formulas are based generally on years of service and compensation.\\nWe also have a benefit plan which provides benefits to certain retired outside directors. In fiscal 2001, we froze the plan for any new members of the Board of Directors and no current directors participate in this plan.\\nThe change to our projected benefit obligation and the fair value of our plan assets for our pension plans was as follows:\\nAmounts recognized in the Consolidated Balance Sheets consisted of the following:\\nAAR CORP. AND SUBSIDIARIES\\nNOTES TO CONSOLIDATED FINANCIAL STATEMENTS\\n(Dollars in millions, except per share amounts)\\n8. Employee Benefit Plans (Continued)\\nThe following tables provide the projected benefit obligation, accumulated benefit obligation, and fair value of plan assets for all pension plans with a projected benefit obligation or accumulated benefit obligation in excess of plan assets:\\nThe accumulated benefit obligation for all pension plans was $153.0 million and $151.9 million at May 31, 2021 and 2020, respectively.\\nNet Periodic Benefit Cost\\nPension expense charged to the Consolidated Statements of Income includes the following components:\\nThe non-service cost components above are classified in Other income (expense), net on the Statements of Income. The estimated amount of net actuarial loss to be amortized from accumulated other comprehensive loss into expense during fiscal 2022 is $1.6 million.\\nAAR CORP. AND SUBSIDIARIES\\nNOTES TO CONSOLIDATED FINANCIAL STATEMENTS\\n(Dollars in millions, except per share amounts)\\n8. Employee Benefit Plans (Continued)\\nAssumptions\\nThe assumptions used in accounting for our plans are estimates of factors including, among other things, the amount and timing of future benefit payments. The following table presents the key weighted-average assumptions used in the measurement of our projected benefit obligations:\\nA summary of the weighted-average assumptions used to determine net periodic pension expense is as follows:\\nThe discount rate was determined by projecting the expected future benefit payments as defined for the projected benefit obligation, discounting those expected payments using a theoretical zero-coupon spot yield curve derived from a universe of high-quality bonds as of the measurement date, and solving for the single equivalent discount rate that resulted in the same projected benefit obligation.\\nPlan Assets\\nThe following table sets forth the actual asset allocation and target allocations for our U.S. pension plans:\\nAAR CORP. AND SUBSIDIARIES\\nNOTES TO CONSOLIDATED FINANCIAL STATEMENTS\\n(Dollars in millions, except per share amounts)\\n8. Employee Benefit Plans (Continued)\\nThe assets of U.S pension plans are invested in compliance with the Employee Retirement Income Security Act of 1974. The investment goals are to provide a total return that, over the long term, optimizes the long-term return on plan assets at an acceptable risk, and to maintain a broad diversification across asset classes and among investment managers. We believe that there are no significant concentrations of risk within our plan assets as of May 31, 2021. The use of derivatives for the purpose of speculation are not permitted. The assets of the U.S. pension plans are invested primarily in equity and fixed income mutual funds, individual common stocks, and fund-of-funds hedge funds. The assets of the non-domestic plan are invested in funds-of-funds where each fund holds a portfolio of equity and fixed income mutual funds.\\nTo develop our expected long-term rate of return assumption on domestic plans, we use long-term historical return information for our targeted asset mix and current market conditions. The expected return for each asset class is weighted based on the target asset allocation to develop the expected long-term rate of return on plan assets assumption. While consideration is given to recent performance, the assumption represents a long-term, prospective rate of return.\\nThe following table sets forth by level, within the fair value hierarchy, pension plan assets at their fair value as of May 31, 2021:\\nAAR CORP. AND SUBSIDIARIES\\nNOTES TO CONSOLIDATED FINANCIAL STATEMENTS\\n(Dollars in millions, except per share amounts)\\n8. Employee Benefit Plans (Continued)\\nThe following table sets forth by level, within the fair value hierarchy, pension plan assets at their fair value as of May 31, 2020:\\n(1) Quoted prices in active markets for identical assets that we have the ability to access as of the reporting date.\\n(2) Inputs other than quoted prices included within Level 1 that are directly observable for the asset or indirectly observable through corroboration with observable market data.\\n(3) Unobservable inputs, such as internally developed pricing models or third party valuations for the asset due to little or no market activity for the asset.\\n(4) Other investments measured at net asset value included alternative investments, such as hedge funds, which are valued using the net asset value as a practical expedient.\\nThe following table presents the reconciliation of Level 3 pension assets and other investments measured at net asset value for the fiscal years ended May 31, 2021 and 2020:\\nValuation Techniques Used to Determine Fair Value\\nCash equivalents are investments with maturities of three months or less when purchased. The fair values are based on observable market prices and categorized as Level 1.\\nAAR CORP. AND SUBSIDIARIES\\nNOTES TO CONSOLIDATED FINANCIAL STATEMENTS\\n(Dollars in millions, except per share amounts)\\n8. Employee Benefit Plans (Continued)\\nWith respect to individually held equity securities, including investments in U.S. and international securities, the trustees obtain prices from pricing services, whose prices are obtained from direct feeds from market exchanges, which we are able to independently corroborate. Equity securities held individually are primarily traded on exchanges that contain only actively traded securities, due to the volume trading requirements imposed by these exchanges. Equity securities are valued based on quoted prices in active markets and categorized as Level 1.\\nEquity and fixed income mutual funds are maintained by investment companies that hold certain investments in accordance with a stated set of fund objectives, which are consistent with our overall investment strategy. The values of some of these funds are publicly quoted. For equity and fixed income mutual funds which are publicly quoted, the funds are valued based on quoted prices in active markets and have been categorized as Level 1. As certain of our funds-of-funds investments are also derived from quoted prices in active markets, we have categorized certain funds-of-funds investments as Level 2.\\nInsurance annuities require the utilization of unobservable inputs, including undiscounted cash flow techniques which results in Level 3 treatment in the fair value hierarchy.\\nHedge fund investments include those seeking to maximize absolute returns using a broad range of strategies to enhance returns and provide additional diversification. The fair value of hedge funds is determined using net asset value or its equivalent subject to certain restrictions, such as a lock-up period and a redemption notice period.\\nFuture Benefit Payments and Funding\\nThe following table summarizes our estimated future pension payments by fiscal year:\\nOur contribution policy for the domestic plans is to contribute annually, at a minimum, an amount which is deductible for federal income tax purposes and that is sufficient to meet actuarially computed pension benefits. For our Netherlands pension plan, our policy is to fund at least the minimum amount required by the local laws and regulations. We anticipate contributing approximately $2.3 million to our pension plans during fiscal 2022.\\nDefined Contribution Plans\\nOur defined contribution plans are intended to qualify as a 401(k) plans under the Internal Revenue Code. Employees may contribute up to 75% of their pretax compensation, subject to applicable regulatory limits and we may make discretionary matching contributions up to 5% of employee compensation. We modified the contribution structure in fiscal 2020 to eliminate the profit sharing contribution for future years. Our contributions vest on a pro-rata basis during the first three years of employment. We also maintain a non-qualified retirement plan that makes up 401(k) benefits that would otherwise be lost as a result of Internal Revenue Code limits and provides additional employer contributions for certain executives and key employees to supplement the benefits provided by the defined contribution plans.\\nIn response to the impact from COVID-19, we temporarily suspended our matching contributions to the defined contribution plans effective June 1, 2020. Contributions were reinstated effective December 1, 2020. Expense charged to the Consolidated Statements of Income for our matching contributions, including profit sharing contributions, was $4.0 million in fiscal 2021, $11.6 million in fiscal 2020 and $11.4 million in fiscal 2019 for these plans.\\nAAR CORP. AND SUBSIDIARIES\\nNOTES TO CONSOLIDATED FINANCIAL STATEMENTS\\n(Dollars in millions, except per share amounts)\\n9. Accumulated Other Comprehensive Loss\\nChanges in our accumulated other comprehensive loss (\\u201cAOCL\\u201d) by component for each of the years in the three-year period ended May 31, 2021 were as follows (all amounts are net of tax):\\n10. Other Non-current Assets\\nAt May 31, 2021 and 2020, other non-current assets consisted of the following:\\nInvestments in Joint Ventures\\nUnder the terms of servicing agreements with certain of our aircraft joint ventures, we provide administrative services and technical advisory services, including aircraft evaluations, oversight and logistical support of the maintenance process and records management. We also provide evaluation and inspection services prior to the purchase of an aircraft and remarketing services with respect to the divestiture of aircraft by the joint ventures. During fiscal 2021, 2020, and 2019, we were paid $1.0 million, $1.6 million, and $0.4 million, respectively, for such services.\\nOur investments in joint ventures include $10.0 million for our 40% ownership interest in a joint venture in India to develop and operate an airframe maintenance facility. The facility is expected to receive regulatory certification in the first half of fiscal 2022 and would commence airframe maintenance operations shortly thereafter.\\nAAR CORP. AND SUBSIDIARIES\\nNOTES TO CONSOLIDATED FINANCIAL STATEMENTS\\n(Dollars in millions, except per share amounts)\\n10. Other Non-current Assets (Continued)\\nThe investment balance as of May 31, 2021 includes $8.7 million related to the guarantee liability recognized in conjunction with our guarantee of 40% of the Indian joint venture\\u2019s debt. The Indian joint venture is accounted for using the equity method. In addition, each of the partners in the Indian joint venture has a loan to the joint venture proportionate to its equity ownership. Our loan to the Indian joint venture under this arrangement was $3.1 million as of May 31, 2021.\\nIn the fourth quarter of fiscal 2020, we decided to exit our joint venture which operates a landing gear wheel and brake repair and overhaul facility in Malaysia. In conjunction with the decision to exit the joint venture, we recognized an impairment charge of $1.9 million reflecting the anticipated net proceeds from our investment. The impairment charge is reported in Earnings (Loss) from joint ventures on the Consolidated Statement of Income.\\nLicense Fees\\nIn June 2011, we entered into a ten-year agreement with Unison Industries (\\u201cUnison\\u201d) to be the exclusive worldwide aftermarket distributor for Unison\\u2019s electrical components, sensors, switches and other systems for aircraft and industrial uses. In June 2020, we entered into an extension and expansion of our agreement with Unison including a new termination date of December 31, 2031, an initial $25.0 million license fee paid in June 2020 to Unison, and annual license fees at a fixed percentage of our net sales of Unison products. The June 2020 payment of $25.0 million was capitalized and is being amortized on a straight-line basis over the term of the new agreement. As of May 31, 2021, the unamortized balance of the license is $23.8 million.\\nSplit-Dollar Life Insurance Arrangements\\nWe previously entered into split-dollar life insurance agreements to benefit certain former executives and officers. Under the terms of the arrangements, we made premium payments on the individuals\\u2019 behalf and we retained a collateral interest in the policies generally to the extent of the premiums we previously paid. As of May 31, 2021, our Consolidated Balance Sheet included $5.5 million in Other non-current assets for cumulative premiums paid and expected to be reimbursed upon termination of the policies.\\nDuring the second quarter of fiscal 2021, certain split-dollar life insurance agreements were terminated and we received $12.0 million for reimbursement of both the life insurance premiums we previously paid and a portion of our prior tax payments made on the individuals\\u2019 behalf related to their imputed income on the policies. The reimbursement of the premiums paid of $10.0 million has been classified as cash flow from investing activities with the remainder included in cash flow from operating activities as it represents the reimbursement of a portion of the income taxes previously paid and expensed. In the second quarter of fiscal 2021, we recognized a benefit of $1.3 million in Selling, general and administrative expenses on the Consolidated Statement of Income for the net recovery of the taxes previously paid on behalf of the individuals.\\n11. Leases\\nWe lease facilities, offices, vehicles, and equipment. We determine at inception whether an arrangement that provides us control over the use of an asset is a lease. ROU assets and lease liabilities are recognized on the Consolidated Balance Sheet at lease commencement date based on the present value of the future minimum lease payments over the lease term. Our lease agreements do not provide a readily determinable implicit rate nor is it available to us from our lessors. We estimate our incremental borrowing rate based on information available at lease commencement in order to discount lease payments to present value.\\nOur lease costs are allocated over the remaining lease term on a straight-line basis unless another systematic or rational basis is more representative of the pattern in which the underlying asset is expected to be used. ROU assets are evaluated for impairment in a manner consistent with the treatment of other long-lived assets.\\nAAR CORP. AND SUBSIDIARIES\\nNOTES TO CONSOLIDATED FINANCIAL STATEMENTS\\n(Dollars in millions, except per share amounts)\\n11. Leases (Continued)\\nCertain leases include options to renew or extend the terms of the lease, which are included in the determination of the ROU assets and lease liabilities when it is reasonably certain that the option will be exercised. Our leases may also include variable lease payments such as escalation clauses based on consumer price index rates, maintenance costs and utilities. Variable lease payments that depend on an index or a rate are included in the determination of ROU assets and lease liabilities using the index or rate at the lease commencement date, whereas variable lease payments that do not depend on an index or rate are recorded as lease expense in the period incurred. Our lease agreements do not contain any significant residual value guarantees or restrictive covenants.\\nThe summary of our operating lease cost is as follows:\\nRental expense for facilities and equipment during fiscal year 2019 was $25.9 million.\\nWith the exception of a land lease for one of our airframe maintenance facilities that expires in 2108, our operating leases expire at various dates through 2034. Maturities of our operating lease payments as of May 31, 2021 are as follows:\\nThe current portion of operating lease liabilities are presented within Accrued liabilities on our Consolidated Balance Sheet.\\nExcluding leases related to our discontinued operations, the weighted average remaining lease term and discount rate for our operating leases were approximately 8.5 years and 3.8%, respectively, as of May 31, 2021.\\nSupplemental cash flow information related to leases was as follows:\\nAAR CORP. AND SUBSIDIARIES\\nNOTES TO CONSOLIDATED FINANCIAL STATEMENTS\\n(Dollars in millions, except per share amounts)\\n12. Commitments and Contingencies\\nWe enter into purchase obligations, which arise in the ordinary course of business and represent a binding commitment to acquire inventory, including raw materials, parts and components, as well as equipment to support the operations of our business. The aggregate amount of purchase obligations due in each of the next five fiscal years is $102.2 million in 2022, $208.5 million in 2023, $53.0 million in 2024, $15.2 in 2025 and $2.0 million in 2026.\\nWe routinely issue letters of credit and performance bonds in the ordinary course of our business. These instruments are typically issued in conjunction with insurance contracts or other business requirements. The total of these instruments outstanding at May 31, 2021 was approximately $30.8 million which includes $11.6 million related to a guarantee of 40% of the outstanding debt of our Indian joint venture. We have recognized a current liability of $8.7 million based on the fair value of our guarantee obligation.\\nWe are involved in various claims and legal actions, including environmental matters, arising in the ordinary course of business. In the opinion of management, the ultimate disposition of these matters will not have a material adverse effect on our consolidated financial condition or results of operations.\\nGovernment Subsidies\\nOn March 27, 2020, the Coronavirus Aid, Relief, and Economic Security Act (\\u201cCARES Act\\u201d) was enacted in the U.S. in response to the COVID-19 pandemic. The CARES Act includes provisions relating to refundable payroll tax credits, deferral of the employer portion of certain payroll taxes, net operating loss carrybacks, and other areas. The payroll tax deferral requires that the deferred payroll taxes be paid over two years, with half of the amount required to be paid by December 31, 2021 and the other half by December 31, 2022. As of May 31, 2021, we deferred $12.4 million of payroll taxes of which $6.2 million are included in Accrued Liabilities and $6.2 million in Other liabilities on our Consolidated Balance Sheet.\\nDuring the three-month period ended August 31, 2020, we received $57.2 million from the U.S. Treasury Department through the Payroll Support Program under the CARES Act. This funding included a $48.5 million cash grant which is to be used exclusively for the continuation of payment of employee wages, salaries and benefits for employees of certain MRO facilities. The grant was recognized as contra-expense on our Consolidated Statement of Income as the eligible wages, salaries and benefits were incurred. In fiscal 2021, we recognized the full amount of the grant as contra-expense within Cost of sales and Selling, general and administrative expenses of $47.5 million and $1.0 million, respectively.\\nThe remaining funding of $8.7 million was a low interest 10-year senior unsecured promissory note (\\u201cPromissory Note\\u201d) which included interest at a rate per annum equal to the sum of (i) 1.0% for the first five years, and the applicable secured overnight financing rate plus 2.0% in years six through ten plus (ii) in kind interest of 3.0% for the first five years and increasing by 1.0% each year over the remaining term. The Promissory Note was pre-payable at par at any time and we re-paid the Promissory Note in full during the fourth quarter of fiscal 2021. Certain corporate restrictions continue to apply to us for approximately the next year which include restrictions on dividends, stock repurchases, employee compensation, and certain workforce actions.\\nOther countries have enacted legislation similar to the CARES Act to provide relief and stimulus measures to assist companies in mitigating the financial impact from COVID-19 and supporting their employees. During fiscal 2021, our foreign subsidiaries recognized subsidies of $7.9 million from foreign governments which have been deducted from the related expenses on our Consolidated Statement of Income.\\nAAR CORP. AND SUBSIDIARIES\\nNOTES TO CONSOLIDATED FINANCIAL STATEMENTS\\n(Dollars in millions, except per share amounts)\\n13. Sale of Composites Business\\nOn August 31, 2020, we completed the sale of our aerostructures and aerospace products operations located in Clearwater, Florida and Sacramento, California (\\\"Composites\\\"). The Composites business was formerly included in our Expeditionary Services segment. The sale of Composites is consistent with our multi-year strategy to focus our portfolio on our core services offerings and the transaction has allowed us to further prioritize our efforts in our principal businesses.\\nWe recognized a loss on the sale of the Composites business of $20.2 million which included consideration of $1.6 million. Consideration from the sale includes contingent consideration of up to $6.5 million based on the achievement of sales targets over the next three years. Consideration included in the loss on sale was comprised of net cash received of $0.3 million and the fair value of the earn-out consideration of $1.3 million.\\n14. Business Segment Information\\nSegment Reporting\\nConsistent with how our chief operating decision making officer (Chief Executive Officer) evaluates performance and the way we are organized internally, we report our activities in two segments: Aviation Services comprised of supply chain and MRO activities and Expeditionary Services comprised of manufacturing activities.\\nThe Aviation Services segment consists of aftermarket support and services offerings that provide spare parts and maintenance support for aircraft operated by our commercial and government/defense customers. Sales in the Aviation Services segment are derived from the sale and lease of a wide variety of new, overhauled and repaired engine and airframe parts and components to the commercial aviation and government and defense markets. We provide customized inventory supply chain management, performance-based logistics programs, customer fleet management and operations, and aircraft component repair management services. The segment also includes repair, maintenance and overhaul of aircraft, landing gear and components. Cost of sales consists principally of the cost of product, direct labor, and overhead.\\nThe Expeditionary Services segment consists of primarily manufacturing operations with sales derived from the design and manufacture of pallets, shelters, and containers used to support the U.S. military\\u2019s requirements for a mobile and agile force including engineering, design, and system integration services for specialized command and control systems. Cost of sales consists principally of the cost of material to manufacture products, direct labor and overhead.\\nThe accounting policies for the segments are the same as those described in Note 1. Our chief operating decision making officer (Chief Executive Officer) evaluates performance based on the reportable segments and utilizes gross profit as a primary profitability measure. Gross profit is calculated by subtracting cost of sales from sales. The assets and certain expenses related to corporate activities are not allocated to the segments. Our reportable segments are aligned principally around differences in products and services.\\nAAR CORP. AND SUBSIDIARIES\\nNOTES TO CONSOLIDATED FINANCIAL STATEMENTS\\n(Dollars in millions, except per share amounts)\\n14. Business Segment Information (Continued)\\nSelected financial information for each segment is as follows:\\n1 Includes amortization of stock-based compensation.\\nAAR CORP. AND SUBSIDIARIES\\nNOTES TO CONSOLIDATED FINANCIAL STATEMENTS\\n(Dollars in millions, except per share amounts)\\n14. Business Segment Information (Continued)\\nThe following table reconciles segment gross profit to income from continuing operations before provision for income taxes.\\nThe U.S. Department of Defense, U.S. Department of State, other U.S. government agencies and their contractors are our only customers representing 10% or more of total sales in any of the last three fiscal years. Sales by segment for these customers are as follows:\\nSales across the major customer markets for each of our operating segments for the fiscal years ended May 31, 2021, 2020 and 2019 were as follows:\\nAAR CORP. AND SUBSIDIARIES\\nNOTES TO CONSOLIDATED FINANCIAL STATEMENTS\\n(Dollars in millions, except per share amounts)\\n14. Business Segment Information (Continued)\\nSales by type of product/service was as follows:\\nGeographic Data\\nSales by geographic region for the fiscal years ended May 31, 2021, 2020 and 2019 were as follows:\\nSales to unaffiliated customers in foreign countries (including sales through foreign sales offices of domestic subsidiaries) were approximately $370.5 million (22.4% of total sales), $591.8 million (28.6% of total sales) and $661.8 million (32.3% of total sales) in fiscal 2021, 2020 and 2019, respectively.\\nAAR CORP. AND SUBSIDIARIES\\nNOTES TO CONSOLIDATED FINANCIAL STATEMENTS\\n(Dollars in millions, except per share amounts)\\n15. Legal Proceedings\\nWe are not a party to any material pending legal proceeding (including any governmental or environmental proceeding) other than routine litigation incidental to our business except for the following:\\nDepartment of Justice Investigation\\nAs previously reported, the U.S. Department of Justice (\\u201cDoJ\\u201d), acting through the U.S. Attorney\\u2019s Office for the Southern District of Illinois, conducted an investigation of AAR Airlift Group, Inc. (\\u201cAirlift\\u201d), a wholly-owned subsidiary of AAR CORP., under the federal civil False Claims Act (\\u201cFCA\\u201d). The investigation related to Airlift\\u2019s performance of several contracts awarded by the U.S. Transportation Command (\\u201cTRANSCOM\\u201d) concerning the operations and maintenance of rotary-wing and fixed-wing aircraft in Afghanistan and Africa, as well as several U.S. Navy contracts. In June 2018, the DoJ informed Airlift that part of the investigation was precipitated by a lawsuit filed under the qui tam provisions of the FCA by a former employee of Airlift.\\nIn June 2021, Airlift and the DoJ reached an agreement to settle the FCA investigation and related matters for approximately $11.5 million which concluded the DoJ investigation into Airlift\\u2019s contracts with TRANSCOM and the U.S. Navy. As part of the settlement, Airlift and AAR did not admit any wrongdoing.\\nWe recognized charges of $11.0 million in discontinued operations in fiscal 2021 related to this agreement and related matters. As of May 31, 2021, our reserve for the entire matter was $12.7 million.\\nSelf-Reporting of Potential Foreign Corrupt Practices Act Violations\\nThe Company retained outside counsel to investigate possible violations of the Company\\u2019s Code of Conduct, the U.S. Foreign Corrupt Practices Act, and other applicable laws, relating to the Company\\u2019s activities in Nepal and South Africa. Based on these investigations, in fiscal 2019, we self-reported these matters to the DoJ, the U.S. Securities and Exchange Commission and the UK Serious Fraud Office. The Company is fully cooperating with the reviews by these agencies, although we are unable at this time to predict what action, if any, they may take.\",\n",
        "], padding=\"max_length\", truncation=True, max_length=512, return_tensors=\"pt\")"
      ],
      "metadata": {
        "id": "AgostDiJKR8V"
      },
      "execution_count": null,
      "outputs": []
    },
    {
      "cell_type": "code",
      "source": [
        "from google.colab import files\n",
        "#plt.savefig(\"input\")\n",
        "files.download(\"input\")"
      ],
      "metadata": {
        "colab": {
          "base_uri": "https://localhost:8080/",
          "height": 317
        },
        "id": "XWTliEzfLIqE",
        "outputId": "90b0b2d3-d2b8-4095-871b-9b1805ff0b3c"
      },
      "execution_count": null,
      "outputs": [
        {
          "output_type": "error",
          "ename": "FileNotFoundError",
          "evalue": "ignored",
          "traceback": [
            "\u001b[0;31m---------------------------------------------------------------------------\u001b[0m",
            "\u001b[0;31mFileNotFoundError\u001b[0m                         Traceback (most recent call last)",
            "\u001b[0;32m<ipython-input-24-0dacfe11d6c6>\u001b[0m in \u001b[0;36m<module>\u001b[0;34m()\u001b[0m\n\u001b[1;32m      1\u001b[0m \u001b[0;32mfrom\u001b[0m \u001b[0mgoogle\u001b[0m\u001b[0;34m.\u001b[0m\u001b[0mcolab\u001b[0m \u001b[0;32mimport\u001b[0m \u001b[0mfiles\u001b[0m\u001b[0;34m\u001b[0m\u001b[0;34m\u001b[0m\u001b[0m\n\u001b[1;32m      2\u001b[0m \u001b[0;31m#plt.savefig(\"input\")\u001b[0m\u001b[0;34m\u001b[0m\u001b[0;34m\u001b[0m\u001b[0;34m\u001b[0m\u001b[0m\n\u001b[0;32m----> 3\u001b[0;31m \u001b[0mfiles\u001b[0m\u001b[0;34m.\u001b[0m\u001b[0mdownload\u001b[0m\u001b[0;34m(\u001b[0m\u001b[0;34m\"input\"\u001b[0m\u001b[0;34m)\u001b[0m\u001b[0;34m\u001b[0m\u001b[0;34m\u001b[0m\u001b[0m\n\u001b[0m",
            "\u001b[0;32m/usr/local/lib/python3.7/dist-packages/google/colab/files.py\u001b[0m in \u001b[0;36mdownload\u001b[0;34m(filename)\u001b[0m\n\u001b[1;32m    140\u001b[0m       \u001b[0;32mraise\u001b[0m \u001b[0mOSError\u001b[0m\u001b[0;34m(\u001b[0m\u001b[0mmsg\u001b[0m\u001b[0;34m)\u001b[0m\u001b[0;34m\u001b[0m\u001b[0;34m\u001b[0m\u001b[0m\n\u001b[1;32m    141\u001b[0m     \u001b[0;32melse\u001b[0m\u001b[0;34m:\u001b[0m\u001b[0;34m\u001b[0m\u001b[0;34m\u001b[0m\u001b[0m\n\u001b[0;32m--> 142\u001b[0;31m       \u001b[0;32mraise\u001b[0m \u001b[0mFileNotFoundError\u001b[0m\u001b[0;34m(\u001b[0m\u001b[0mmsg\u001b[0m\u001b[0;34m)\u001b[0m  \u001b[0;31m# pylint: disable=undefined-variable\u001b[0m\u001b[0;34m\u001b[0m\u001b[0;34m\u001b[0m\u001b[0m\n\u001b[0m\u001b[1;32m    143\u001b[0m \u001b[0;34m\u001b[0m\u001b[0m\n\u001b[1;32m    144\u001b[0m   \u001b[0mcomm_manager\u001b[0m \u001b[0;34m=\u001b[0m \u001b[0m_IPython\u001b[0m\u001b[0;34m.\u001b[0m\u001b[0mget_ipython\u001b[0m\u001b[0;34m(\u001b[0m\u001b[0;34m)\u001b[0m\u001b[0;34m.\u001b[0m\u001b[0mkernel\u001b[0m\u001b[0;34m.\u001b[0m\u001b[0mcomm_manager\u001b[0m\u001b[0;34m\u001b[0m\u001b[0;34m\u001b[0m\u001b[0m\n",
            "\u001b[0;31mFileNotFoundError\u001b[0m: Cannot find file: input"
          ]
        }
      ]
    },
    {
      "cell_type": "code",
      "source": [
        "!python train.py -mode train -encoder classifier -dropout 0.1 -bert_data_path input -model_path ../models/bert_classifier -lr 2e-3 -visible_gpus 0  -gpu_ranks 0 -world_size 1 -report_every 50 -save_checkpoint_steps 1000 -batch_size 3000 -decay_method noam -train_steps 50 -accum_count 2 -log_file ../logs/bert_classifier -use_interval true -warmup_steps 10000"
      ],
      "metadata": {
        "colab": {
          "base_uri": "https://localhost:8080/"
        },
        "id": "mEwkeliXKs4G",
        "outputId": "ebd61581-5ac8-4bb2-abb0-4817719fbbea"
      },
      "execution_count": null,
      "outputs": [
        {
          "output_type": "stream",
          "name": "stdout",
          "text": [
            "python3: can't open file 'train.py': [Errno 2] No such file or directory\n"
          ]
        }
      ]
    },
    {
      "cell_type": "code",
      "source": [
        "max_len = 0\n",
        "\n",
        "# For every sentence...\n",
        "for sent in sentences:\n",
        "\n",
        "    # Tokenize the text and add `[CLS]` and `[SEP]` tokens.\n",
        "    input_ids = tokenizer.encode(sent, add_special_tokens=True)\n",
        "\n",
        "    # Update the maximum sentence length.\n",
        "    max_len = max(max_len, len(input_ids))\n",
        "\n",
        "print('Max sentence length: ', max_len)"
      ],
      "metadata": {
        "colab": {
          "base_uri": "https://localhost:8080/",
          "height": 232
        },
        "id": "fWZoRIdiM5Q6",
        "outputId": "057936f4-d7ad-4cba-90cf-4a5e3c48d5e9"
      },
      "execution_count": null,
      "outputs": [
        {
          "output_type": "error",
          "ename": "NameError",
          "evalue": "ignored",
          "traceback": [
            "\u001b[0;31m---------------------------------------------------------------------------\u001b[0m",
            "\u001b[0;31mNameError\u001b[0m                                 Traceback (most recent call last)",
            "\u001b[0;32m<ipython-input-28-68a47d1c47fc>\u001b[0m in \u001b[0;36m<module>\u001b[0;34m()\u001b[0m\n\u001b[1;32m      2\u001b[0m \u001b[0;34m\u001b[0m\u001b[0m\n\u001b[1;32m      3\u001b[0m \u001b[0;31m# For every sentence...\u001b[0m\u001b[0;34m\u001b[0m\u001b[0;34m\u001b[0m\u001b[0;34m\u001b[0m\u001b[0m\n\u001b[0;32m----> 4\u001b[0;31m \u001b[0;32mfor\u001b[0m \u001b[0msent\u001b[0m \u001b[0;32min\u001b[0m \u001b[0msentences\u001b[0m\u001b[0;34m:\u001b[0m\u001b[0;34m\u001b[0m\u001b[0;34m\u001b[0m\u001b[0m\n\u001b[0m\u001b[1;32m      5\u001b[0m \u001b[0;34m\u001b[0m\u001b[0m\n\u001b[1;32m      6\u001b[0m     \u001b[0;31m# Tokenize the text and add `[CLS]` and `[SEP]` tokens.\u001b[0m\u001b[0;34m\u001b[0m\u001b[0;34m\u001b[0m\u001b[0;34m\u001b[0m\u001b[0m\n",
            "\u001b[0;31mNameError\u001b[0m: name 'sentences' is not defined"
          ]
        }
      ]
    },
    {
      "cell_type": "code",
      "source": [
        "tokenizer.tokenize(\"item_1AITEM 1A.RISK FACTORS\\nThe following is a description of the principal risks inherent in our business. Any of the risks and uncertainties described below could materially and adversely affect our business, financial condition, and results of operations and should be considered in evaluating us. Although the risks are organized by heading, and each risk is described separately, many of the risks are interrelated. While we believe we have identified and discussed below the material risks affecting our business, there may be additional risks and uncertainties that we do not presently know or that we do not currently believe to be material that may adversely affect our business, financial condition, or results of operations in the future.\\nRisks Related to Our Business and Industry\\nWe are affected by factors that adversely impact the commercial aviation industry.\\nAs a provider of products and services to the commercial aviation industry, we are greatly affected by overall economic conditions of that industry. The commercial aviation industry is historically cyclical and has been negatively affected in the past by geopolitical events and conflicts, weather related events, natural disasters, disruption to fuel and oil production and supply shortages, high fuel and oil prices, environmental concerns (including climate change), lack of capital, and weak economic conditions. As a result of these and other events, from time to time certain of our customers have filed for bankruptcy protection or ceased operation. The impact of instability in the global financial markets may lead airlines to reduce domestic or international capacity. In addition, certain of our airline customers have in the past been impacted by tight credit markets, which limited their ability to buy parts, services, engines, and aircraft.\\nA reduction in the operating fleet of aircraft both in the U.S. and abroad will result in reduced demand for parts support and maintenance activities for the type of aircraft affected. A deteriorating airline environment may also result in additional airline bankruptcies, and in such circumstances we may not be able to fully collect outstanding accounts receivable, which was recently seen over the past year during the COVID-19 pandemic. Reduced demand from customers caused by weak economic conditions, including tight credit conditions and customer bankruptcies, may adversely impact our financial condition or results of operations. As an example, over the past year, as a result of the COVID-19 pandemic, which reduced demand, our revenue decreased by 20% largely due to reduced demand attributable to the COVID-19 pandemic.\\nOur business, financial condition, results of operations, and growth rates have been and may continue to be adversely affected by these and other events that impact the aviation industry, including the following:\\n\\u25cf deterioration in the financial condition of our existing and potential customers;\\n\\u25cf reductions in the need for, or the deferral of, aircraft maintenance and repair services and spare parts support;\\n\\u25cf retirement of older generation aircraft, resulting in lower prices for spare parts and services for those aircraft;\\n\\u25cf reductions in demand for used aircraft and engines;\\n\\u25cf increased in-house maintenance by airlines;\\n\\u25cf lack of parts in the marketplace;\\n\\u25cf acts of terrorism;\\n\\u25cf future outbreaks of infectious diseases; and\\n\\u25cf acts of God.\\nOur U.S. government contracts may not continue at present sales levels, which may have a material adverse effect on our financial condition and results of operations.\\nOur sales to branches, agencies and departments of the U.S. government and their contractors were $738.8 million (44.7% of consolidated sales) in fiscal 2021 (See Note 14 of Notes to Consolidated Financial Statements). The majority of our U.S. government sales is for products and services supporting DoD logistics and mobility strategy and DoS flight operations and are, therefore, subject to changes in defense and other governmental agency funding and spending. Our contracts with the U.S. government and their contractors are typically agreements to provide products and services at a fixed price and have a term of one year or less, frequently subject to extension for one or more additional periods of one year at the option of the government customer. Sales to agencies of the U.S. government and their contractors are subject to a number of factors, including the level of troop deployment worldwide, competitive bidding, U.S. government funding, requirements generated by world events, and budgetary constraints.\\nU.S. government programs are subject to annual congressional budget authorization and appropriation processes. In recent years, U.S. government appropriations have been affected by larger U.S. government budgetary issues and related legislation, including the statutory limit on the amount of permissible federal debt. These issues could negatively affect the timely collection of our U.S. government invoices.\\nFuture congressional appropriation and authorization of defense spending and the application of sequestration remain marked by significant debate and an uncertain schedule. The federal debt limit continues to be actively debated as plans for long-term national fiscal policy are discussed. The outcome of these debates could have a significant impact on defense spending broadly and programs we support in particular.\\nIf there are funding delays and constraints, we may be required to continue to perform for some period of time on certain of our U.S. government contracts even if the U.S. government is unable to make timely payments. Future budget cuts, including cuts mandated by sequestration, or future procurement decisions could result in reductions, cancellations, and/or delays of existing contracts or programs which could adversely affect our results of operations and financial condition.\\nIn addition, U.S. government programs budgets could be negatively impacted under President Biden\\u2019s administration, including possible policy changes on defense spending, spending priorities outside defense, reduction in military presence overseas and in general pressure to reduce U.S. defense spending. A significant reduction in defense spending could result in a reduction in the amount of our products and services furnished to the U.S. government.\\nIn light of COVID-19, and the corresponding decrease in commercial airline activity, the percentage of our revenue that comes from government contracts increased and became more important to our overall business, which heightens the possible adverse effects on our results of operations and financial condition of any reduction in the sales levels of our U.S. government contracts.\\nWe use estimates when accounting for long-term contracts and face risks of cost overruns and losses on these contracts.\\nWe sell certain of our products and services to our commercial, government, and defense customers under firm contracts providing for fixed unit prices, regardless of costs incurred by us. The cost of producing products or providing services may be adversely affected by increases in the cost of labor, materials, fuel, overhead, and other unknown variants, including manufacturing and other operational inefficiencies and differences between assumptions used by us to price a contract and actual results. Increased costs may result in cost overruns and losses on such contracts, which could adversely affect our results of operations and financial condition.\\nWe recognize revenue on our long-term contracts primarily over time as there is continuous transfer of control to the customer over the duration of the contract as the services are delivered, which generally requires estimates of total costs at completion, fees earned on the contract, or both. This estimation process is complex and involves significant judgment related to assumptions on flight hours, component repair costs, labor hours and rates, and contract penalties and incentives. Adjustments to estimates are often required as work progresses, experience is gained and additional information becomes known, even though the scope of the work required under the contract may not change. Any adjustment as a result of a change in estimate is recognized as events become known. Changes in the underlying assumptions, circumstances or estimates could result in adjustments that may adversely affect our future financial results.\\nIf our subcontractors or suppliers fail to perform their contractual obligations, our contract profitability and our ability to win new contracts may be adversely affected.\\nWe rely on subcontractors to perform a portion of the services we agree to provide our customers, and our suppliers provide necessary inventory and component parts. A failure by one or more of our subcontractors or suppliers to satisfactorily provide on a timely basis the agreed-upon services or supplies may affect our ability to perform our contractual obligations. Deficiencies in the performance of our subcontractors and/or suppliers could result in liquidated damages or our customer terminating our contract for default. A termination for default could expose us to liability and adversely affect our financial performance and our ability to win new contract awards.\\nSuccess at our airframe maintenance facilities is dependent upon continued outsourcing by the airlines.\\nWe currently perform airframe maintenance, repair, and overhaul activities at six leased locations. If our maintenance facilities become unavailable either temporarily or permanently due to labor disruptions or circumstances beyond our control, such as geopolitical developments or logistical complications arising from acts of war, cyber-attacks, weather, global climate change, earthquakes or other natural disasters including public health crises, we may be unable to shift such work to other facilities or to make up for lost work. Revenues at these facilities fluctuate based on demand for maintenance which, in turn, is driven by the number of aircraft operating and the extent of outsourcing of maintenance activities by airlines. In addition, certain airlines operate certain new fleet types and/or newer generation aircraft and we may not have contractual arrangements to service these aircraft nor technicians trained and certified to perform the required airframe maintenance, repair, and overhaul activities. If either the number of aircraft operating or the level of outsourcing of maintenance activities declines, we may not be able to execute our operational and financial plans at our maintenance, repair, and overhaul facilities, which could adversely affect our results of operations and financial condition.\\nOur operations would be adversely affected by a shortage of skilled personnel or work stoppages.\\nOur business has historically been dependent on educated and skilled aviation mechanics because of the complex nature of many of our products and services. We face competition for management and qualified technical personnel from other companies and organizations. Furthermore, we have a collective bargaining agreement covering approximately 200 employees (4% of employees). Beginning in April 2020, we furloughed a significant portion of our skilled workforce as a result of the negative impact the COVID-19 pandemic has had on the demand for our services, with those employees being either terminated or brought back to work by November 16, 2020. Although we took measures to maintain good relationships with our workforce, there can be no assurance that the act of furloughing our employees did not damage employee relations or negatively impact our ability to be an employer of choice in our field. As the demand for skilled personnel begins to return to pre-COVID-19 levels, if we are unable to quickly reassemble our skilled workforce and subsequently retain a sufficient number of skilled personnel, or we experience a significant or prolonged work stoppage in such an environment, our ability to secure new work and our results of operations and financial condition could be adversely affected.\\nWe operate in highly competitive markets, and competitive pressures may adversely affect us.\\nThe markets for our products and services to our commercial, government, and defense customers are highly competitive, and we face competition from a number of sources, both domestic and international. Our competitors include aircraft manufacturers, aircraft component and parts manufacturers, airline and aircraft service companies, other companies providing maintenance, repair and overhaul services, other aircraft spare parts distributors and redistributors. Some of our competitors have substantially greater financial and other resources than we have and others may price their products and services below our selling prices. These competitive markets also create pressure on our ability to hire and retain qualified technicians and other skilled labor needs. We believe that our ability to compete depends on superior customer service and support, on-time delivery, sufficient inventory availability, competitive pricing, and effective quality assurance programs.\\nOur government customers, including the DoD and DoS, may turn to commercial contractors, rather than traditional defense contractors, for certain work, or may utilize set asides such as small business, women-owned, or minority-owned contractors or determine to source work internally rather than use us. We are also impacted by bid protests from unsuccessful bidders on new program awards and task orders. Bid protests could result in significant expense for us, contract modifications, or the award decision being overturned and loss of the contract award. Even where a bid protest does not result in the loss of an award, the resolution can extend the time until the contract activity can begin, and delay earnings. These competitive pressures, with potential impacts on both our commercial and government business, could adversely affect our results of operations and financial condition.\\nWe are exposed to risks associated with operating internationally.\\nWe conduct our business in a number of foreign countries, some of which are politically unstable or subject to military or civil conflicts. Consequently, we are subject to a variety of risks that are specific to international operations, including the following:\\n\\u25cf military conflicts, civil strife, and political risks;\\n\\u25cf export regulations that could erode profit margins or restrict exports;\\n\\u25cf compliance with the U.S. Foreign Corrupt Practices Act, United Kingdom (\\u201cUK\\u201d) Bribery Act 2010, and other anti-bribery and anti-corruption laws; see Note 15 of Notes to Consolidated Financial Statements for information about certain pending proceedings;\\n\\u25cf the burden and cost of compliance with foreign laws, treaties, and technical standards and changes in those regulations;\\n\\u25cf contract award and funding delays;\\n\\u25cf potential restrictions on transfers of funds;\\n\\u25cf import and export duties and value added taxes;\\n\\u25cf foreign exchange risk;\\n\\u25cf transportation delays and interruptions, including the inability to move personnel out of foreign jurisdictions due to COVID-19 travel restrictions;\\n\\u25cf uncertainties arising from foreign local business practices and cultural considerations; and\\n\\u25cf changes in U.S. policies on trade relations and trade policy, including implementation of or changes in trade sanctions, tariffs, and embargoes.\\nAny measures adopted to reduce the potential impact of losses resulting from the risks of doing business internationally, may not be adequate, and the regions in which we operate might not continue to be stable enough to allow us to operate profitably or at all.\\nAcquisitions expose us to risks, including the risk that we may be unable to effectively integrate acquired businesses.\\nWe have completed acquisitions in the past and we have discussions with third parties regarding acquisitions on a regular basis. Acquisitions involve risks, including difficulties in integrating the operations and personnel, the effects of amortization of any acquired intangible assets and the potential impairment of goodwill, and the potential loss of key employees of the acquired business. In addition, acquisitions often require substantial management resources and have the potential to divert our attention from our existing business. For any businesses we may acquire in the future, we may not be able to execute our operational, financial, or integration plans for the acquired businesses, which could adversely affect our results of operations and financial condition.\\nMarket values for our aviation products fluctuate and we may be unable to recover our costs incurred on engines, rotable components and other aircraft parts.\\nWe make a number of assumptions when determining the recoverability of rotable components, engines, and other assets which are on lease, available for lease, or supporting our long-term programs. These assumptions include historical sales trends, current and expected usage trends, replacement values, current and expected lease rates, residual values, future demand, and future cash flows. Reductions in demand for these assets or declining market values, as well as differences between actual results and the assumptions utilized by us when determining the recoverability of our aircraft, engines, and other assets, could result in impairment charges in future periods, which would adversely affect our results of operations and financial condition.\\nOur business could be negatively affected by cyber or other security threats or other disruptions.\\nOur business depends heavily on information technology and computerized systems to communicate and operate effectively. We store sensitive data including proprietary business information, intellectual property and confidential employee or other personal data on our servers and databases. Our systems and technologies, or those of third parties on which we rely, could fail or become unreliable due to equipment failures, software viruses, cyber threats, ransomware attacks, terrorist acts, natural disasters, power failures, political or social unrest, pandemics or other public health issues or other causes. These threats arise in some cases as a result of our role as a defense contractor.\\nCyber security threats are evolving and include, but are not limited to, malicious software, attempts to gain unauthorized access to our sensitive information, business e-mail compromises, ransomware attacks, and other electronic security breaches, including at our customers, suppliers, subcontractors, and joint venture partners, that could lead to disruptions in mission critical systems, unauthorized release of confidential or otherwise protected information, and corruption of data.\\nA theft, loss, fraudulent use or misuse of customer, stockholder, employee or our proprietary data by cybercrime or otherwise, noncompliance with our contractual or other legal obligations regarding such data or a violation of our privacy and security policies with respect to such data could adversely impact our reputation and could result in costs, fines, litigation or regulatory action against us. Security breaches can create system disruptions and shutdowns that could result in disruptions to our operations. We cannot be certain that advances in criminal capabilities, new vulnerabilities or other developments will not compromise or breach the security solutions protecting our information technology, networks and systems. A failure of or cyber-attack on our information systems technology or those of our partners, customers, vendors, or suppliers could adversely affect our ability to process orders, maintain proper levels of inventory, collect accounts receivable and pay expenses; all of which could have an adverse effect on our results of operations, financial condition and cash flows. Such serious harm can involve, among other things, misuse of our assets, business disruptions, loss of data, unauthorized access to trade secrets and confidential business information, unauthorized access to personal information, legal claims or proceedings, reporting errors, processing inefficiencies, negative media attention, reputational harm, loss of sales, remediation and increased insurance costs, and interference with regulatory compliance. We have experienced and expect to continue to experience some of these types of cybersecurity threats and incidents, which could be material in the future.\\nThe procedures and controls we utilize to monitor and mitigate these threats may not be sufficient to prevent security threats from materializing. If any of these events were to materialize, the costs related to cyber or other security threats or disruptions may not be fully insured or indemnified and could have a material adverse effect on our reputation, operating results, and financial condition.\\nMoreover, expenditures incurred in implementing and maintaining cyber security and other procedures and controls could adversely affect our results of operations and financial condition.\\nWe may need to make significant capital expenditures to keep pace with technological developments in our industry.\\nThe industries in which we participate are constantly undergoing development and change, and it is likely that new products, equipment, and methods of repair and overhaul services will be introduced in the future. We may need to make significant expenditures to purchase new equipment and to train our employees to keep pace with any new technological developments. These expenditures could adversely affect our results of operations and financial condition.\\nRisk Related to Financial Matters\\nWe may need to reduce the carrying value of our assets.\\nWe own and distribute a significant amount of engines, aircraft parts and components, as well as own manufacturing facilities and joint venture investments. Recurring losses in certain operations could require us to evaluate the recoverability of the carrying value of the related assets and recognize an impairment charge through earnings to reduce the carrying value. During fiscal 2020, and 2019, we recognized impairment charges of $11.8 million and $74.1 million, respectively, related to our COCO business which is classified as a discontinued operation. In addition, if aircraft or engines for which we offer replacement parts or supply repair and overhaul services are retired and there are fewer aircraft that require these parts or services, our revenues may decline.\\nWe make a number of assumptions when determining the recoverability of our assets, including historical sales trends, current and expected usage trends, replacement values, current and expected lease rates, residual values, future demand, and future cash flows. Differences between actual results and the assumptions utilized by us when determining the recoverability of our assets could result in impairment charges in future periods, which would adversely affect our results of operations and financial condition.\\nWe have recorded goodwill and other intangible assets related to acquisitions. If we are unable to achieve the projected levels of operating results, it may be necessary to record an impairment charge to reduce the carrying value of goodwill and related intangible assets. Similarly, if we were to lose a key customer or if a regulator were to terminate any of our repair certificates at our airframe maintenance or landing gear facilities, we might be required to record an impairment charge if we were unable to operate.\\nWe are dependent upon continued availability of financing to manage our business and to execute our business strategy, and additional financing may not be available on terms acceptable to us.\\nOur ability to manage our business and to execute our business strategy is dependent, in part, on the continued availability of debt and equity capital. Access to the debt and equity capital markets may be limited by various factors, including the condition of overall credit markets, general economic factors, state of the aviation industry, our financial performance, and credit ratings. Debt and equity capital may not continue to be available to us on favorable terms, or at all. Our inability to obtain financing on favorable terms could adversely affect our results of operations and financial condition.\\nLIBOR, the London interbank offered rate, is the basic rate of interest used in lending between banks on the London interbank market and is widely used as a reference for setting the interest rate on loans globally. Interest rates under our Revolving Credit Facility (as defined below) are based partly on LIBOR. On March 5, 2021, the UK Financial Conduct Authority, which regulates LIBOR, announced that it would cease publication of the one-week and two-month U.S. dollar LIBOR immediately after December 31, 2021 and cease publication of the remaining tenors immediately after June 30, 2023. Additionally, the Federal Reserve Board has advised banks to stop entering into new U.S. dollar LIBOR based contracts. The U.S. Federal Reserve has begun publishing a Secured Overnight Funding Rate which is currently intended to serve as an alternative reference rate to LIBOR. If lenders have increased costs due to changes in LIBOR, we may suffer from potential increases in interest rates on our borrowings. Further, we may need to renegotiate our credit facilities or any other borrowings that utilize LIBOR as a factor in determining the interest rate to replace LIBOR with the new standard that is established.\\nOur existing debt and expected government funding includes restrictive and/or financial covenants.\\nCertain financing arrangements, including our Revolving Credit Facility and our accounts receivable financing program, require us to comply with various restrictive covenants and some contain financial covenants that require us to comply with specified financial ratios and tests. Our failure to meet these covenants could result in default under these loan and debt agreements and may result in a cross-default under other debt agreements. In the event of a default and our inability to obtain a waiver of the default, all amounts outstanding under our debt agreements could be declared immediately due and payable. Our failure to comply with these covenants could adversely affect our results of operations and financial condition.\\nIn addition, our receipt of funding from the Payroll Support Program under the Coronavirus Aid, Relief, and Economic Security Act (\\u201cCARES Act\\u201d) requires us to comply with certain covenants. If we do not comply with these covenants, or if the government issues new guidance regarding existing covenants, the government may require us to repay the support given to us.\\nWe currently are prohibited from paying dividends under the Payroll Support Program under the CARES Act and, in the future, may not be able to pay or maintain dividends, or we may choose not to pay dividends, and the failure to pay or maintain dividends may adversely affect our share price.\\nThe Payroll Support Program under the CARES Act prohibits the Company from paying dividends to our stockholders through September 30, 2021, accordingly no dividend has been paid since April 2020 or will be paid by the Company prior to September 30 of this year.\\nAfter the restrictions on paying dividends under the CARES Act lapse, our ability to pay, maintain or increase cash dividends to our stockholders is subject to the discretion of our Board of Directors and will depend on many factors, including: our ability to comply with financial covenants, the economic condition of the commercial aviation industry, the level and timing of capital expenditures, principal repayments and other capital needs, maintaining our credit ratings, our results of operations, financial condition and liquidity, and legal restrictions on the payment of dividends, including government imposed restrictions. In the future, we may choose to not pay dividends or may not be able to pay dividends, maintain our historical level of dividends, or increase them over time. The failure to maintain or pay dividends may adversely affect our share price.\\nRisks Related to COVID-19\\nThe COVID-19 pandemic has had a material adverse impact on our business, results of operations, financial condition, and liquidity, and the duration and extent of the pandemic could prolong or increase the adverse impact.\\nIn December 2019, an outbreak of COVID-19 originated in Wuhan, China, and in March 2020, the World Health Organization characterized COVID-19 as a pandemic. Many countries, including the United States, declared states of emergency and took steps to restrict air travel, and many companies adopted policies prohibiting non-essential business travel by their employees. Even in the absence of formal restrictions and prohibitions, contagious illness and fear of contagion has adversely affected travel demand and travel behavior. Passenger airline traffic declined significantly since March 2020, and the decrease has since had a material negative impact on our financial results.\\nWith the roll-out of the COVID-19 vaccines, many countries have started to lift their states of emergency and restrictions on air travel. With the easing of these restrictions, passenger airline traffic has started to pick-up in the United States, but business travel in particular remains well below pre-pandemic levels. In addition, we have seen and expect to continue to see reduced demand in our non-cargo commercial businesses in certain markets. In some cases, airlines have reduced their operating fleet of aircraft both in the U.S. and abroad which results in reduced demand for parts support and maintenance activities for the type of aircraft affected. Moreover, if the COVID-19 pandemic continues to result in decreased worldwide commercial activity, it could also adversely affect the demand for airline cargo services. Reduced numbers of aircraft flying or flight hours has and will continue to negatively impact the demand for our services, and any prolonged reduction could materially and adversely affect our business, operating results, financial condition, and liquidity.\\nWhile some of our employees were able to work remotely during spikes in COVID-19 cases, a significant number can only perform their job functions on site. We have promulgated policies designed to provide for appropriate protections for employees in light of relevant government guidance. We evaluate and modify these policies as needed on an ongoing basis, but there remains the risk of disruption or reduced efficiency caused by social distancing and other protective measures as well as elevated employee absence because of illness or required quarantines.\\nIn addition, we source parts and components for our business from various suppliers around the world. Disruptions to our supply chain and business operations, or to our suppliers\\u2019 or customers\\u2019 supply chains and business operations, could have adverse effects on our ability to provide aftermarket support and services. Moreover, a prolonged epidemic or pandemic, or the threat thereof, could result in worker absences, lower productivity, voluntary closure of our offices and facilities, travel restrictions for our employees and other disruptions to our business. These impacts have had and could continue to have a material adverse effect on our business, financial condition or results of operations.\\nWe have taken a number of actions in response to decreased demand. In addition to reducing operating expenditures for fiscal 2021, we received financial assistance under the CARES Act. Certain of our subsidiaries received $57.2 million from the U.S. Treasury Department (\\u201cTreasury\\u201d) through the Payroll Support Program under the CARES Act. In connection with the financial assistance these subsidiaries received under the Payroll Support Program, we are required to comply with certain provisions of the CARES Act, including provisions prohibiting the repurchase of common stock and the payment of common stock dividends through September 30, 2021; and limitations on the payment of certain employee compensation through March 24, 2022. These restrictions have and may continue to materially affect our operations, and we may not be successful in managing these impacts for the duration of the restrictions. In particular, limitations on compensation may adversely impact our ability to attract and retain senior management or attract other key employees during this critical time.\\nRisks Related to Legal and Regulatory Matters\\nIf we fail to comply with government procurement laws and regulations, we could lose business and be liable for various penalties or sanctions.\\nWe must comply with laws and regulations relating to the formation, administration, and performance of government contracts. In the U.S., these laws and regulations include the Federal Acquisition Regulations, Defense Federal Acquisition Regulations, the Truth in Negotiations Act, Cost Accounting Standards, and laws, regulations, and orders restricting the use and dissemination of classified information under the U.S. export control laws and the export of certain products and technical information and safeguarding of contractor information systems.\\nIn addition, we are subject to U.S. government inquiries and investigations, including periodic audits of costs that we determine are reimbursable under government contracts. U.S. government agencies routinely audit government contractors, including the Company, to review performance under contracts, cost structure and compliance with applicable laws, regulations, and standards, as well as the adequacy of and compliance with internal control systems and policies, including the contractor\\u2019s purchasing, property, estimating, compensation and management information systems. Any costs found to be misclassified or inaccurately allocated to a specific contract are not reimbursable, and to the extent already reimbursed, must be refunded. Also, any inadequacies in our systems and policies could result in payments being withheld, penalties and reduced future business.\\nU.S. government rules allow contracting officers to impose contractual withholdings at no less than certain minimum levels if a contracting officer determines that one or more of a contractor\\u2019s business systems have one or more significant deficiencies. If a contracting officer were to impose such a withholding on us or even one of our prime contractors, it would increase the risk that we would not be paid in full or paid timely. If future audit adjustments exceed our estimates, our profitability could be adversely affected.\\nIf a government inquiry or investigation uncovers improper or illegal activities, we could be subject to civil or criminal penalties or administrative sanctions, including contract termination, fines, forfeiture of fees, suspension of payment and suspension or debarment from doing business with government agencies, any of which could materially adversely affect our reputation, business, financial condition and results of operations. See Note 15 of Notes to Consolidated Financial Statements for information about certain pending proceedings.\\nWe are subject to significant government regulation and may need to incur significant expenses to comply with new or more stringent governmental regulation.\\nThe aviation industry is highly regulated by the FAA in the United States and equivalent regulatory agencies in other countries. Before we sell any of our products that are to be installed in an aircraft, such as engines, engine parts and components, and airframe and accessory parts and components, they must meet certain standards of airworthiness established by the FAA or the equivalent regulatory agencies in certain other countries. We operate repair stations that are licensed by the FAA and the equivalent regulatory agencies in certain other countries, and hold certificates to operate aircraft. Specific regulations vary from country to country; although regulatory requirements in other countries are generally satisfied by compliance with FAA requirements. New and more stringent governmental regulations may be adopted in the future that, if enacted, may have an adverse impact on us.\\nIf any of our material licenses, certificates, authorizations, or approvals were revoked or suspended by the FAA or equivalent regulatory agencies in other countries, our results of operations and financial condition may be adversely affected.\\nOur industry is susceptible to product and other liability claims, and claims not adequately covered by insurance may adversely affect our financial condition.\\nOur business exposes us to possible claims for property damage and bodily injury or death, which may result if an engine, engine part or component, airframe part or accessory, or any other aviation product that we have sold, manufactured, or repaired fails, or if an aircraft we operated, serviced, or in which our products are installed, has an accident. Claims may arise in the future, and our insurance coverage may not be adequate to protect us in all circumstances. Additionally, we might not be able to maintain adequate insurance coverage in the future at an acceptable cost. Any liability claim not covered by adequate insurance could adversely affect our results of operations and financial condition.\\nWe must comply with extensive environmental requirements, and any exposure to environmental liabilities may adversely affect us.\\nFederal, state, and local requirements relating to the discharge and emission of substances into the environment, the disposal of hazardous wastes, the remediation and abatement of contaminants, and other activities affecting the environment have had and may continue to have an impact on our operations. Management cannot assess the possible effect of compliance with future environmental requirements or of future environmental claims for which we may not have adequate indemnification or insurance coverage. If we were required to pay the expenses related to any future environmental claims for which neither indemnification nor insurance coverage were available, these expenses could have an adverse impact on our results of operations and financial condition.\\nFuture environmental regulatory developments in the United States and abroad concerning environmental issues, such as climate change, could adversely affect our operations and increase operating costs and, through their impact on our customers, reduce demand for our products and services. Actions may be taken in the future by the U.S. government, state governments within the United States, foreign governments, or the International Civil Aviation Organization to regulate the emission of greenhouse gases by the aviation industry. The precise nature of any such requirements and their applicability to us and our customers are difficult to predict, but the impact to us and the aviation industry would likely be adverse and could be significant, including the potential for increased fuel costs, carbon taxes or fees, or a requirement to purchase carbon credits.\",\n",
        ")"
      ],
      "metadata": {
        "colab": {
          "base_uri": "https://localhost:8080/"
        },
        "id": "f9HhFxNBNC9E",
        "outputId": "2ad5b49a-04c3-4e34-ffc8-a74303af5994"
      },
      "execution_count": null,
      "outputs": [
        {
          "output_type": "execute_result",
          "data": {
            "text/plain": [
              "['item',\n",
              " '_',\n",
              " '1a',\n",
              " '##ite',\n",
              " '##m',\n",
              " '1a',\n",
              " '.',\n",
              " 'risk',\n",
              " 'factors',\n",
              " 'the',\n",
              " 'following',\n",
              " 'is',\n",
              " 'a',\n",
              " 'description',\n",
              " 'of',\n",
              " 'the',\n",
              " 'principal',\n",
              " 'risks',\n",
              " 'inherent',\n",
              " 'in',\n",
              " 'our',\n",
              " 'business',\n",
              " '.',\n",
              " 'any',\n",
              " 'of',\n",
              " 'the',\n",
              " 'risks',\n",
              " 'and',\n",
              " 'uncertain',\n",
              " '##ties',\n",
              " 'described',\n",
              " 'below',\n",
              " 'could',\n",
              " 'material',\n",
              " '##ly',\n",
              " 'and',\n",
              " 'adverse',\n",
              " '##ly',\n",
              " 'affect',\n",
              " 'our',\n",
              " 'business',\n",
              " ',',\n",
              " 'financial',\n",
              " 'condition',\n",
              " ',',\n",
              " 'and',\n",
              " 'results',\n",
              " 'of',\n",
              " 'operations',\n",
              " 'and',\n",
              " 'should',\n",
              " 'be',\n",
              " 'considered',\n",
              " 'in',\n",
              " 'evaluating',\n",
              " 'us',\n",
              " '.',\n",
              " 'although',\n",
              " 'the',\n",
              " 'risks',\n",
              " 'are',\n",
              " 'organized',\n",
              " 'by',\n",
              " 'heading',\n",
              " ',',\n",
              " 'and',\n",
              " 'each',\n",
              " 'risk',\n",
              " 'is',\n",
              " 'described',\n",
              " 'separately',\n",
              " ',',\n",
              " 'many',\n",
              " 'of',\n",
              " 'the',\n",
              " 'risks',\n",
              " 'are',\n",
              " 'inter',\n",
              " '##rel',\n",
              " '##ated',\n",
              " '.',\n",
              " 'while',\n",
              " 'we',\n",
              " 'believe',\n",
              " 'we',\n",
              " 'have',\n",
              " 'identified',\n",
              " 'and',\n",
              " 'discussed',\n",
              " 'below',\n",
              " 'the',\n",
              " 'material',\n",
              " 'risks',\n",
              " 'affecting',\n",
              " 'our',\n",
              " 'business',\n",
              " ',',\n",
              " 'there',\n",
              " 'may',\n",
              " 'be',\n",
              " 'additional',\n",
              " 'risks',\n",
              " 'and',\n",
              " 'uncertain',\n",
              " '##ties',\n",
              " 'that',\n",
              " 'we',\n",
              " 'do',\n",
              " 'not',\n",
              " 'presently',\n",
              " 'know',\n",
              " 'or',\n",
              " 'that',\n",
              " 'we',\n",
              " 'do',\n",
              " 'not',\n",
              " 'currently',\n",
              " 'believe',\n",
              " 'to',\n",
              " 'be',\n",
              " 'material',\n",
              " 'that',\n",
              " 'may',\n",
              " 'adverse',\n",
              " '##ly',\n",
              " 'affect',\n",
              " 'our',\n",
              " 'business',\n",
              " ',',\n",
              " 'financial',\n",
              " 'condition',\n",
              " ',',\n",
              " 'or',\n",
              " 'results',\n",
              " 'of',\n",
              " 'operations',\n",
              " 'in',\n",
              " 'the',\n",
              " 'future',\n",
              " '.',\n",
              " 'risks',\n",
              " 'related',\n",
              " 'to',\n",
              " 'our',\n",
              " 'business',\n",
              " 'and',\n",
              " 'industry',\n",
              " 'we',\n",
              " 'are',\n",
              " 'affected',\n",
              " 'by',\n",
              " 'factors',\n",
              " 'that',\n",
              " 'adverse',\n",
              " '##ly',\n",
              " 'impact',\n",
              " 'the',\n",
              " 'commercial',\n",
              " 'aviation',\n",
              " 'industry',\n",
              " '.',\n",
              " 'as',\n",
              " 'a',\n",
              " 'provider',\n",
              " 'of',\n",
              " 'products',\n",
              " 'and',\n",
              " 'services',\n",
              " 'to',\n",
              " 'the',\n",
              " 'commercial',\n",
              " 'aviation',\n",
              " 'industry',\n",
              " ',',\n",
              " 'we',\n",
              " 'are',\n",
              " 'greatly',\n",
              " 'affected',\n",
              " 'by',\n",
              " 'overall',\n",
              " 'economic',\n",
              " 'conditions',\n",
              " 'of',\n",
              " 'that',\n",
              " 'industry',\n",
              " '.',\n",
              " 'the',\n",
              " 'commercial',\n",
              " 'aviation',\n",
              " 'industry',\n",
              " 'is',\n",
              " 'historically',\n",
              " 'cyclic',\n",
              " '##al',\n",
              " 'and',\n",
              " 'has',\n",
              " 'been',\n",
              " 'negatively',\n",
              " 'affected',\n",
              " 'in',\n",
              " 'the',\n",
              " 'past',\n",
              " 'by',\n",
              " 'geo',\n",
              " '##pol',\n",
              " '##itical',\n",
              " 'events',\n",
              " 'and',\n",
              " 'conflicts',\n",
              " ',',\n",
              " 'weather',\n",
              " 'related',\n",
              " 'events',\n",
              " ',',\n",
              " 'natural',\n",
              " 'disasters',\n",
              " ',',\n",
              " 'disruption',\n",
              " 'to',\n",
              " 'fuel',\n",
              " 'and',\n",
              " 'oil',\n",
              " 'production',\n",
              " 'and',\n",
              " 'supply',\n",
              " 'shortages',\n",
              " ',',\n",
              " 'high',\n",
              " 'fuel',\n",
              " 'and',\n",
              " 'oil',\n",
              " 'prices',\n",
              " ',',\n",
              " 'environmental',\n",
              " 'concerns',\n",
              " '(',\n",
              " 'including',\n",
              " 'climate',\n",
              " 'change',\n",
              " ')',\n",
              " ',',\n",
              " 'lack',\n",
              " 'of',\n",
              " 'capital',\n",
              " ',',\n",
              " 'and',\n",
              " 'weak',\n",
              " 'economic',\n",
              " 'conditions',\n",
              " '.',\n",
              " 'as',\n",
              " 'a',\n",
              " 'result',\n",
              " 'of',\n",
              " 'these',\n",
              " 'and',\n",
              " 'other',\n",
              " 'events',\n",
              " ',',\n",
              " 'from',\n",
              " 'time',\n",
              " 'to',\n",
              " 'time',\n",
              " 'certain',\n",
              " 'of',\n",
              " 'our',\n",
              " 'customers',\n",
              " 'have',\n",
              " 'filed',\n",
              " 'for',\n",
              " 'bankruptcy',\n",
              " 'protection',\n",
              " 'or',\n",
              " 'ceased',\n",
              " 'operation',\n",
              " '.',\n",
              " 'the',\n",
              " 'impact',\n",
              " 'of',\n",
              " 'instability',\n",
              " 'in',\n",
              " 'the',\n",
              " 'global',\n",
              " 'financial',\n",
              " 'markets',\n",
              " 'may',\n",
              " 'lead',\n",
              " 'airlines',\n",
              " 'to',\n",
              " 'reduce',\n",
              " 'domestic',\n",
              " 'or',\n",
              " 'international',\n",
              " 'capacity',\n",
              " '.',\n",
              " 'in',\n",
              " 'addition',\n",
              " ',',\n",
              " 'certain',\n",
              " 'of',\n",
              " 'our',\n",
              " 'airline',\n",
              " 'customers',\n",
              " 'have',\n",
              " 'in',\n",
              " 'the',\n",
              " 'past',\n",
              " 'been',\n",
              " 'impacted',\n",
              " 'by',\n",
              " 'tight',\n",
              " 'credit',\n",
              " 'markets',\n",
              " ',',\n",
              " 'which',\n",
              " 'limited',\n",
              " 'their',\n",
              " 'ability',\n",
              " 'to',\n",
              " 'buy',\n",
              " 'parts',\n",
              " ',',\n",
              " 'services',\n",
              " ',',\n",
              " 'engines',\n",
              " ',',\n",
              " 'and',\n",
              " 'aircraft',\n",
              " '.',\n",
              " 'a',\n",
              " 'reduction',\n",
              " 'in',\n",
              " 'the',\n",
              " 'operating',\n",
              " 'fleet',\n",
              " 'of',\n",
              " 'aircraft',\n",
              " 'both',\n",
              " 'in',\n",
              " 'the',\n",
              " 'u',\n",
              " '.',\n",
              " 's',\n",
              " '.',\n",
              " 'and',\n",
              " 'abroad',\n",
              " 'will',\n",
              " 'result',\n",
              " 'in',\n",
              " 'reduced',\n",
              " 'demand',\n",
              " 'for',\n",
              " 'parts',\n",
              " 'support',\n",
              " 'and',\n",
              " 'maintenance',\n",
              " 'activities',\n",
              " 'for',\n",
              " 'the',\n",
              " 'type',\n",
              " 'of',\n",
              " 'aircraft',\n",
              " 'affected',\n",
              " '.',\n",
              " 'a',\n",
              " 'deteriorating',\n",
              " 'airline',\n",
              " 'environment',\n",
              " 'may',\n",
              " 'also',\n",
              " 'result',\n",
              " 'in',\n",
              " 'additional',\n",
              " 'airline',\n",
              " 'bankrupt',\n",
              " '##cies',\n",
              " ',',\n",
              " 'and',\n",
              " 'in',\n",
              " 'such',\n",
              " 'circumstances',\n",
              " 'we',\n",
              " 'may',\n",
              " 'not',\n",
              " 'be',\n",
              " 'able',\n",
              " 'to',\n",
              " 'fully',\n",
              " 'collect',\n",
              " 'outstanding',\n",
              " 'accounts',\n",
              " 'rec',\n",
              " '##ei',\n",
              " '##vable',\n",
              " ',',\n",
              " 'which',\n",
              " 'was',\n",
              " 'recently',\n",
              " 'seen',\n",
              " 'over',\n",
              " 'the',\n",
              " 'past',\n",
              " 'year',\n",
              " 'during',\n",
              " 'the',\n",
              " 'co',\n",
              " '##vid',\n",
              " '-',\n",
              " '19',\n",
              " 'pan',\n",
              " '##de',\n",
              " '##mic',\n",
              " '.',\n",
              " 'reduced',\n",
              " 'demand',\n",
              " 'from',\n",
              " 'customers',\n",
              " 'caused',\n",
              " 'by',\n",
              " 'weak',\n",
              " 'economic',\n",
              " 'conditions',\n",
              " ',',\n",
              " 'including',\n",
              " 'tight',\n",
              " 'credit',\n",
              " 'conditions',\n",
              " 'and',\n",
              " 'customer',\n",
              " 'bankrupt',\n",
              " '##cies',\n",
              " ',',\n",
              " 'may',\n",
              " 'adverse',\n",
              " '##ly',\n",
              " 'impact',\n",
              " 'our',\n",
              " 'financial',\n",
              " 'condition',\n",
              " 'or',\n",
              " 'results',\n",
              " 'of',\n",
              " 'operations',\n",
              " '.',\n",
              " 'as',\n",
              " 'an',\n",
              " 'example',\n",
              " ',',\n",
              " 'over',\n",
              " 'the',\n",
              " 'past',\n",
              " 'year',\n",
              " ',',\n",
              " 'as',\n",
              " 'a',\n",
              " 'result',\n",
              " 'of',\n",
              " 'the',\n",
              " 'co',\n",
              " '##vid',\n",
              " '-',\n",
              " '19',\n",
              " 'pan',\n",
              " '##de',\n",
              " '##mic',\n",
              " ',',\n",
              " 'which',\n",
              " 'reduced',\n",
              " 'demand',\n",
              " ',',\n",
              " 'our',\n",
              " 'revenue',\n",
              " 'decreased',\n",
              " 'by',\n",
              " '20',\n",
              " '%',\n",
              " 'largely',\n",
              " 'due',\n",
              " 'to',\n",
              " 'reduced',\n",
              " 'demand',\n",
              " 'at',\n",
              " '##tri',\n",
              " '##bu',\n",
              " '##table',\n",
              " 'to',\n",
              " 'the',\n",
              " 'co',\n",
              " '##vid',\n",
              " '-',\n",
              " '19',\n",
              " 'pan',\n",
              " '##de',\n",
              " '##mic',\n",
              " '.',\n",
              " 'our',\n",
              " 'business',\n",
              " ',',\n",
              " 'financial',\n",
              " 'condition',\n",
              " ',',\n",
              " 'results',\n",
              " 'of',\n",
              " 'operations',\n",
              " ',',\n",
              " 'and',\n",
              " 'growth',\n",
              " 'rates',\n",
              " 'have',\n",
              " 'been',\n",
              " 'and',\n",
              " 'may',\n",
              " 'continue',\n",
              " 'to',\n",
              " 'be',\n",
              " 'adverse',\n",
              " '##ly',\n",
              " 'affected',\n",
              " 'by',\n",
              " 'these',\n",
              " 'and',\n",
              " 'other',\n",
              " 'events',\n",
              " 'that',\n",
              " 'impact',\n",
              " 'the',\n",
              " 'aviation',\n",
              " 'industry',\n",
              " ',',\n",
              " 'including',\n",
              " 'the',\n",
              " 'following',\n",
              " ':',\n",
              " '●',\n",
              " 'deterioration',\n",
              " 'in',\n",
              " 'the',\n",
              " 'financial',\n",
              " 'condition',\n",
              " 'of',\n",
              " 'our',\n",
              " 'existing',\n",
              " 'and',\n",
              " 'potential',\n",
              " 'customers',\n",
              " ';',\n",
              " '●',\n",
              " 'reductions',\n",
              " 'in',\n",
              " 'the',\n",
              " 'need',\n",
              " 'for',\n",
              " ',',\n",
              " 'or',\n",
              " 'the',\n",
              " 'def',\n",
              " '##er',\n",
              " '##ral',\n",
              " 'of',\n",
              " ',',\n",
              " 'aircraft',\n",
              " 'maintenance',\n",
              " 'and',\n",
              " 'repair',\n",
              " 'services',\n",
              " 'and',\n",
              " 'spare',\n",
              " 'parts',\n",
              " 'support',\n",
              " ';',\n",
              " '●',\n",
              " 'retirement',\n",
              " 'of',\n",
              " 'older',\n",
              " 'generation',\n",
              " 'aircraft',\n",
              " ',',\n",
              " 'resulting',\n",
              " 'in',\n",
              " 'lower',\n",
              " 'prices',\n",
              " 'for',\n",
              " 'spare',\n",
              " 'parts',\n",
              " 'and',\n",
              " 'services',\n",
              " 'for',\n",
              " 'those',\n",
              " 'aircraft',\n",
              " ';',\n",
              " '●',\n",
              " 'reductions',\n",
              " 'in',\n",
              " 'demand',\n",
              " 'for',\n",
              " 'used',\n",
              " 'aircraft',\n",
              " 'and',\n",
              " 'engines',\n",
              " ';',\n",
              " '●',\n",
              " 'increased',\n",
              " 'in',\n",
              " '-',\n",
              " 'house',\n",
              " 'maintenance',\n",
              " 'by',\n",
              " 'airlines',\n",
              " ';',\n",
              " '●',\n",
              " 'lack',\n",
              " 'of',\n",
              " 'parts',\n",
              " 'in',\n",
              " 'the',\n",
              " 'marketplace',\n",
              " ';',\n",
              " '●',\n",
              " 'acts',\n",
              " 'of',\n",
              " 'terrorism',\n",
              " ';',\n",
              " '●',\n",
              " 'future',\n",
              " 'outbreak',\n",
              " '##s',\n",
              " 'of',\n",
              " 'infectious',\n",
              " 'diseases',\n",
              " ';',\n",
              " 'and',\n",
              " '●',\n",
              " 'acts',\n",
              " 'of',\n",
              " 'god',\n",
              " '.',\n",
              " 'our',\n",
              " 'u',\n",
              " '.',\n",
              " 's',\n",
              " '.',\n",
              " 'government',\n",
              " 'contracts',\n",
              " 'may',\n",
              " 'not',\n",
              " 'continue',\n",
              " 'at',\n",
              " 'present',\n",
              " 'sales',\n",
              " 'levels',\n",
              " ',',\n",
              " 'which',\n",
              " 'may',\n",
              " 'have',\n",
              " 'a',\n",
              " 'material',\n",
              " 'adverse',\n",
              " 'effect',\n",
              " 'on',\n",
              " 'our',\n",
              " 'financial',\n",
              " 'condition',\n",
              " 'and',\n",
              " 'results',\n",
              " 'of',\n",
              " 'operations',\n",
              " '.',\n",
              " 'our',\n",
              " 'sales',\n",
              " 'to',\n",
              " 'branches',\n",
              " ',',\n",
              " 'agencies',\n",
              " 'and',\n",
              " 'departments',\n",
              " 'of',\n",
              " 'the',\n",
              " 'u',\n",
              " '.',\n",
              " 's',\n",
              " '.',\n",
              " 'government',\n",
              " 'and',\n",
              " 'their',\n",
              " 'contractors',\n",
              " 'were',\n",
              " '$',\n",
              " '73',\n",
              " '##8',\n",
              " '.',\n",
              " '8',\n",
              " 'million',\n",
              " '(',\n",
              " '44',\n",
              " '.',\n",
              " '7',\n",
              " '%',\n",
              " 'of',\n",
              " 'consolidated',\n",
              " 'sales',\n",
              " ')',\n",
              " 'in',\n",
              " 'fiscal',\n",
              " '2021',\n",
              " '(',\n",
              " 'see',\n",
              " 'note',\n",
              " '14',\n",
              " 'of',\n",
              " 'notes',\n",
              " 'to',\n",
              " 'consolidated',\n",
              " 'financial',\n",
              " 'statements',\n",
              " ')',\n",
              " '.',\n",
              " 'the',\n",
              " 'majority',\n",
              " 'of',\n",
              " 'our',\n",
              " 'u',\n",
              " '.',\n",
              " 's',\n",
              " '.',\n",
              " 'government',\n",
              " 'sales',\n",
              " 'is',\n",
              " 'for',\n",
              " 'products',\n",
              " 'and',\n",
              " 'services',\n",
              " 'supporting',\n",
              " 'dod',\n",
              " 'logistics',\n",
              " 'and',\n",
              " 'mobility',\n",
              " 'strategy',\n",
              " 'and',\n",
              " 'dos',\n",
              " 'flight',\n",
              " 'operations',\n",
              " 'and',\n",
              " 'are',\n",
              " ',',\n",
              " 'therefore',\n",
              " ',',\n",
              " 'subject',\n",
              " 'to',\n",
              " 'changes',\n",
              " 'in',\n",
              " 'defense',\n",
              " 'and',\n",
              " 'other',\n",
              " 'governmental',\n",
              " 'agency',\n",
              " 'funding',\n",
              " 'and',\n",
              " 'spending',\n",
              " '.',\n",
              " 'our',\n",
              " 'contracts',\n",
              " 'with',\n",
              " 'the',\n",
              " 'u',\n",
              " '.',\n",
              " 's',\n",
              " '.',\n",
              " 'government',\n",
              " 'and',\n",
              " 'their',\n",
              " 'contractors',\n",
              " 'are',\n",
              " 'typically',\n",
              " 'agreements',\n",
              " 'to',\n",
              " 'provide',\n",
              " 'products',\n",
              " 'and',\n",
              " 'services',\n",
              " 'at',\n",
              " 'a',\n",
              " 'fixed',\n",
              " 'price',\n",
              " 'and',\n",
              " 'have',\n",
              " 'a',\n",
              " 'term',\n",
              " 'of',\n",
              " 'one',\n",
              " 'year',\n",
              " 'or',\n",
              " 'less',\n",
              " ',',\n",
              " 'frequently',\n",
              " 'subject',\n",
              " 'to',\n",
              " 'extension',\n",
              " 'for',\n",
              " 'one',\n",
              " 'or',\n",
              " 'more',\n",
              " 'additional',\n",
              " 'periods',\n",
              " 'of',\n",
              " 'one',\n",
              " 'year',\n",
              " 'at',\n",
              " 'the',\n",
              " 'option',\n",
              " 'of',\n",
              " 'the',\n",
              " 'government',\n",
              " 'customer',\n",
              " '.',\n",
              " 'sales',\n",
              " 'to',\n",
              " 'agencies',\n",
              " 'of',\n",
              " 'the',\n",
              " 'u',\n",
              " '.',\n",
              " 's',\n",
              " '.',\n",
              " 'government',\n",
              " 'and',\n",
              " 'their',\n",
              " 'contractors',\n",
              " 'are',\n",
              " 'subject',\n",
              " 'to',\n",
              " 'a',\n",
              " 'number',\n",
              " 'of',\n",
              " 'factors',\n",
              " ',',\n",
              " 'including',\n",
              " 'the',\n",
              " 'level',\n",
              " 'of',\n",
              " 'troop',\n",
              " 'deployment',\n",
              " 'worldwide',\n",
              " ',',\n",
              " 'competitive',\n",
              " 'bidding',\n",
              " ',',\n",
              " 'u',\n",
              " '.',\n",
              " 's',\n",
              " '.',\n",
              " 'government',\n",
              " 'funding',\n",
              " ',',\n",
              " 'requirements',\n",
              " 'generated',\n",
              " 'by',\n",
              " 'world',\n",
              " 'events',\n",
              " ',',\n",
              " 'and',\n",
              " 'budget',\n",
              " '##ary',\n",
              " 'constraints',\n",
              " '.',\n",
              " 'u',\n",
              " '.',\n",
              " 's',\n",
              " '.',\n",
              " 'government',\n",
              " 'programs',\n",
              " 'are',\n",
              " 'subject',\n",
              " 'to',\n",
              " 'annual',\n",
              " 'congressional',\n",
              " 'budget',\n",
              " 'authorization',\n",
              " 'and',\n",
              " 'app',\n",
              " '##ropriation',\n",
              " 'processes',\n",
              " '.',\n",
              " 'in',\n",
              " 'recent',\n",
              " 'years',\n",
              " ',',\n",
              " 'u',\n",
              " '.',\n",
              " 's',\n",
              " '.',\n",
              " 'government',\n",
              " 'appropriations',\n",
              " 'have',\n",
              " 'been',\n",
              " 'affected',\n",
              " 'by',\n",
              " 'larger',\n",
              " 'u',\n",
              " '.',\n",
              " 's',\n",
              " '.',\n",
              " 'government',\n",
              " 'budget',\n",
              " '##ary',\n",
              " 'issues',\n",
              " 'and',\n",
              " 'related',\n",
              " 'legislation',\n",
              " ',',\n",
              " 'including',\n",
              " 'the',\n",
              " 'statutory',\n",
              " 'limit',\n",
              " 'on',\n",
              " 'the',\n",
              " 'amount',\n",
              " 'of',\n",
              " 'per',\n",
              " '##missible',\n",
              " 'federal',\n",
              " 'debt',\n",
              " '.',\n",
              " 'these',\n",
              " 'issues',\n",
              " 'could',\n",
              " 'negatively',\n",
              " 'affect',\n",
              " 'the',\n",
              " 'timely',\n",
              " 'collection',\n",
              " 'of',\n",
              " 'our',\n",
              " 'u',\n",
              " '.',\n",
              " 's',\n",
              " '.',\n",
              " 'government',\n",
              " 'in',\n",
              " '##vo',\n",
              " '##ices',\n",
              " '.',\n",
              " 'future',\n",
              " 'congressional',\n",
              " 'app',\n",
              " '##ropriation',\n",
              " 'and',\n",
              " 'authorization',\n",
              " 'of',\n",
              " 'defense',\n",
              " 'spending',\n",
              " 'and',\n",
              " 'the',\n",
              " 'application',\n",
              " 'of',\n",
              " 'se',\n",
              " '##quest',\n",
              " '##ration',\n",
              " 'remain',\n",
              " 'marked',\n",
              " 'by',\n",
              " 'significant',\n",
              " 'debate',\n",
              " 'and',\n",
              " 'an',\n",
              " 'uncertain',\n",
              " 'schedule',\n",
              " '.',\n",
              " 'the',\n",
              " 'federal',\n",
              " 'debt',\n",
              " 'limit',\n",
              " 'continues',\n",
              " 'to',\n",
              " 'be',\n",
              " 'actively',\n",
              " 'debated',\n",
              " 'as',\n",
              " 'plans',\n",
              " 'for',\n",
              " 'long',\n",
              " '-',\n",
              " 'term',\n",
              " 'national',\n",
              " 'fiscal',\n",
              " 'policy',\n",
              " 'are',\n",
              " 'discussed',\n",
              " '.',\n",
              " 'the',\n",
              " 'outcome',\n",
              " 'of',\n",
              " 'these',\n",
              " 'debates',\n",
              " 'could',\n",
              " 'have',\n",
              " 'a',\n",
              " 'significant',\n",
              " 'impact',\n",
              " 'on',\n",
              " 'defense',\n",
              " ...]"
            ]
          },
          "metadata": {},
          "execution_count": 30
        }
      ]
    },
    {
      "cell_type": "code",
      "source": [
        "from pycorenlp import StanfordCoreNLP\n",
        "nlp = StanfordCoreNLP('http://localhost:9000')    \n",
        "text = 'Pusheen and Smitha walked along the beach. Pusheen wanted to surf, but fell off the surfboard.'\n",
        "output = nlp.annotate(text, properties={'annotators': 'tokenize,ssplit', 'outputFormat': 'text'})\n",
        "print (output)"
      ],
      "metadata": {
        "colab": {
          "base_uri": "https://localhost:8080/",
          "height": 368
        },
        "id": "86wuR9IUNc3h",
        "outputId": "78cd47d7-aaae-446b-d9e0-84940f32f597"
      },
      "execution_count": null,
      "outputs": [
        {
          "output_type": "error",
          "ename": "ModuleNotFoundError",
          "evalue": "ignored",
          "traceback": [
            "\u001b[0;31m---------------------------------------------------------------------------\u001b[0m",
            "\u001b[0;31mModuleNotFoundError\u001b[0m                       Traceback (most recent call last)",
            "\u001b[0;32m<ipython-input-31-a5c54c790a29>\u001b[0m in \u001b[0;36m<module>\u001b[0;34m()\u001b[0m\n\u001b[0;32m----> 1\u001b[0;31m \u001b[0;32mfrom\u001b[0m \u001b[0mpycorenlp\u001b[0m \u001b[0;32mimport\u001b[0m \u001b[0mStanfordCoreNLP\u001b[0m\u001b[0;34m\u001b[0m\u001b[0;34m\u001b[0m\u001b[0m\n\u001b[0m\u001b[1;32m      2\u001b[0m \u001b[0mnlp\u001b[0m \u001b[0;34m=\u001b[0m \u001b[0mStanfordCoreNLP\u001b[0m\u001b[0;34m(\u001b[0m\u001b[0;34m'http://localhost:9000'\u001b[0m\u001b[0;34m)\u001b[0m\u001b[0;34m\u001b[0m\u001b[0;34m\u001b[0m\u001b[0m\n\u001b[1;32m      3\u001b[0m \u001b[0mtext\u001b[0m \u001b[0;34m=\u001b[0m \u001b[0;34m'Pusheen and Smitha walked along the beach. Pusheen wanted to surf, but fell off the surfboard.'\u001b[0m\u001b[0;34m\u001b[0m\u001b[0;34m\u001b[0m\u001b[0m\n\u001b[1;32m      4\u001b[0m \u001b[0moutput\u001b[0m \u001b[0;34m=\u001b[0m \u001b[0mnlp\u001b[0m\u001b[0;34m.\u001b[0m\u001b[0mannotate\u001b[0m\u001b[0;34m(\u001b[0m\u001b[0mtext\u001b[0m\u001b[0;34m,\u001b[0m \u001b[0mproperties\u001b[0m\u001b[0;34m=\u001b[0m\u001b[0;34m{\u001b[0m\u001b[0;34m'annotators'\u001b[0m\u001b[0;34m:\u001b[0m \u001b[0;34m'tokenize,ssplit'\u001b[0m\u001b[0;34m,\u001b[0m \u001b[0;34m'outputFormat'\u001b[0m\u001b[0;34m:\u001b[0m \u001b[0;34m'text'\u001b[0m\u001b[0;34m}\u001b[0m\u001b[0;34m)\u001b[0m\u001b[0;34m\u001b[0m\u001b[0;34m\u001b[0m\u001b[0m\n\u001b[1;32m      5\u001b[0m \u001b[0mprint\u001b[0m \u001b[0;34m(\u001b[0m\u001b[0moutput\u001b[0m\u001b[0;34m)\u001b[0m\u001b[0;34m\u001b[0m\u001b[0;34m\u001b[0m\u001b[0m\n",
            "\u001b[0;31mModuleNotFoundError\u001b[0m: No module named 'pycorenlp'",
            "",
            "\u001b[0;31m---------------------------------------------------------------------------\u001b[0;32m\nNOTE: If your import is failing due to a missing package, you can\nmanually install dependencies using either !pip or !apt.\n\nTo view examples of installing some common dependencies, click the\n\"Open Examples\" button below.\n\u001b[0;31m---------------------------------------------------------------------------\u001b[0m\n"
          ],
          "errorDetails": {
            "actions": [
              {
                "action": "open_url",
                "actionText": "Open Examples",
                "url": "/notebooks/snippets/importing_libraries.ipynb"
              }
            ]
          }
        }
      ]
    },
    {
      "cell_type": "code",
      "source": [
        "!pip install -U nltk[corenlp]"
      ],
      "metadata": {
        "colab": {
          "base_uri": "https://localhost:8080/"
        },
        "id": "-lUgtKouO8Ar",
        "outputId": "bc5200ab-ce48-4adc-aae3-8a6d151c7303"
      },
      "execution_count": null,
      "outputs": [
        {
          "output_type": "stream",
          "name": "stdout",
          "text": [
            "Requirement already satisfied: nltk[corenlp] in /usr/local/lib/python3.7/dist-packages (3.2.5)\n",
            "Requirement already satisfied: six in /usr/local/lib/python3.7/dist-packages (from nltk[corenlp]) (1.15.0)\n",
            "Requirement already satisfied: requests in /usr/local/lib/python3.7/dist-packages (from nltk[corenlp]) (2.23.0)\n",
            "Requirement already satisfied: chardet<4,>=3.0.2 in /usr/local/lib/python3.7/dist-packages (from requests->nltk[corenlp]) (3.0.4)\n",
            "Requirement already satisfied: idna<3,>=2.5 in /usr/local/lib/python3.7/dist-packages (from requests->nltk[corenlp]) (2.10)\n",
            "Requirement already satisfied: certifi>=2017.4.17 in /usr/local/lib/python3.7/dist-packages (from requests->nltk[corenlp]) (2021.10.8)\n",
            "Requirement already satisfied: urllib3!=1.25.0,!=1.25.1,<1.26,>=1.21.1 in /usr/local/lib/python3.7/dist-packages (from requests->nltk[corenlp]) (1.25.11)\n"
          ]
        }
      ]
    },
    {
      "cell_type": "code",
      "source": [
        "!java -mx4g -cp \"*\" edu.stanford.nlp.pipeline.StanfordCoreNLPServer -port 9000 -timeout 15000"
      ],
      "metadata": {
        "colab": {
          "base_uri": "https://localhost:8080/"
        },
        "id": "RW24rrIbO9h0",
        "outputId": "4012598a-1922-40c1-ee44-200b0e23328e"
      },
      "execution_count": null,
      "outputs": [
        {
          "output_type": "stream",
          "name": "stdout",
          "text": [
            "Error: Could not find or load main class edu.stanford.nlp.pipeline.StanfordCoreNLPServer\n",
            "Caused by: java.lang.ClassNotFoundException: edu.stanford.nlp.pipeline.StanfordCoreNLPServer\n"
          ]
        }
      ]
    },
    {
      "cell_type": "code",
      "source": [
        "!pip install stanfordnlp"
      ],
      "metadata": {
        "colab": {
          "base_uri": "https://localhost:8080/"
        },
        "id": "DNpte_xHPsI5",
        "outputId": "c34d4596-1855-423c-9312-fe78c9c204b0"
      },
      "execution_count": null,
      "outputs": [
        {
          "output_type": "stream",
          "name": "stdout",
          "text": [
            "Requirement already satisfied: stanfordnlp in /usr/local/lib/python3.7/dist-packages (0.2.0)\n",
            "Requirement already satisfied: numpy in /usr/local/lib/python3.7/dist-packages (from stanfordnlp) (1.21.5)\n",
            "Requirement already satisfied: torch>=1.0.0 in /usr/local/lib/python3.7/dist-packages (from stanfordnlp) (1.1.0)\n",
            "Requirement already satisfied: tqdm in /usr/local/lib/python3.7/dist-packages (from stanfordnlp) (4.63.0)\n",
            "Requirement already satisfied: requests in /usr/local/lib/python3.7/dist-packages (from stanfordnlp) (2.23.0)\n",
            "Requirement already satisfied: protobuf in /usr/local/lib/python3.7/dist-packages (from stanfordnlp) (3.17.3)\n",
            "Requirement already satisfied: six>=1.9 in /usr/local/lib/python3.7/dist-packages (from protobuf->stanfordnlp) (1.15.0)\n",
            "Requirement already satisfied: urllib3!=1.25.0,!=1.25.1,<1.26,>=1.21.1 in /usr/local/lib/python3.7/dist-packages (from requests->stanfordnlp) (1.25.11)\n",
            "Requirement already satisfied: chardet<4,>=3.0.2 in /usr/local/lib/python3.7/dist-packages (from requests->stanfordnlp) (3.0.4)\n",
            "Requirement already satisfied: certifi>=2017.4.17 in /usr/local/lib/python3.7/dist-packages (from requests->stanfordnlp) (2021.10.8)\n",
            "Requirement already satisfied: idna<3,>=2.5 in /usr/local/lib/python3.7/dist-packages (from requests->stanfordnlp) (2.10)\n"
          ]
        }
      ]
    },
    {
      "cell_type": "code",
      "source": [
        "import stanfordnlp"
      ],
      "metadata": {
        "id": "3c6BuEFIQQ5k"
      },
      "execution_count": null,
      "outputs": []
    },
    {
      "cell_type": "code",
      "source": [
        "from nltk.parse.corenlp import CoreNLPParser"
      ],
      "metadata": {
        "id": "DmospNKLQTjz"
      },
      "execution_count": null,
      "outputs": []
    },
    {
      "cell_type": "code",
      "source": [
        "stanford = CoreNLPParser('http://localhost:9000')\n"
      ],
      "metadata": {
        "id": "Xl5cT3YNQs7-"
      },
      "execution_count": null,
      "outputs": []
    },
    {
      "cell_type": "code",
      "source": [
        "stanford.api_call"
      ],
      "metadata": {
        "colab": {
          "base_uri": "https://localhost:8080/"
        },
        "id": "9Iw3PlNqQuqz",
        "outputId": "ea546ffe-7d64-4ada-e107-d0a8038a4f3f"
      },
      "execution_count": null,
      "outputs": [
        {
          "output_type": "execute_result",
          "data": {
            "text/plain": [
              "<bound method GenericCoreNLPParser.api_call of <nltk.parse.corenlp.CoreNLPParser object at 0x7f2a640fbf90>>"
            ]
          },
          "metadata": {},
          "execution_count": 43
        }
      ]
    },
    {
      "cell_type": "code",
      "source": [
        "!java -cp \"../*\" -mx1g edu.stanford.nlp.sentiment.SentimentPipeline -file test.txt "
      ],
      "metadata": {
        "colab": {
          "base_uri": "https://localhost:8080/"
        },
        "id": "tvZ1OFLjQw0L",
        "outputId": "8b48325a-e425-4d06-9861-56431b00e957"
      },
      "execution_count": null,
      "outputs": [
        {
          "output_type": "stream",
          "name": "stdout",
          "text": [
            "Error: Could not find or load main class edu.stanford.nlp.sentiment.SentimentPipeline\n",
            "Caused by: java.lang.ClassNotFoundException: edu.stanford.nlp.sentiment.SentimentPipeline\n"
          ]
        }
      ]
    },
    {
      "cell_type": "code",
      "source": [
        "!cd  stanford-corenlp-4.2.2\n",
        "!java -mx2g -cp \"*\" edu.stanford.nlp.pipeline.StanfordCoreNLP -annotators tokenize,ssplit,pos,lemma,ner,parse -ssplit.eolonly -tokenize.whitespace true -file ./test_one_cc_3 -outputFormat xml"
      ],
      "metadata": {
        "id": "AbIHdeO8SOxA",
        "outputId": "918ec929-5c36-4234-9593-68a26ec2f39f",
        "colab": {
          "base_uri": "https://localhost:8080/"
        }
      },
      "execution_count": null,
      "outputs": [
        {
          "output_type": "stream",
          "name": "stdout",
          "text": [
            "/bin/bash: line 0: cd: stanford-corenlp-4.2.2: No such file or directory\n",
            "Error: Could not find or load main class edu.stanford.nlp.pipeline.StanfordCoreNLP\n",
            "Caused by: java.lang.ClassNotFoundException: edu.stanford.nlp.pipeline.StanfordCoreNLP\n"
          ]
        }
      ]
    },
    {
      "cell_type": "code",
      "source": [
        "output_json = !stanford.api_call(text, properties={'annotators': 'tokenize,ssplit'})\n"
      ],
      "metadata": {
        "id": "tRpzDBefQ7Zy"
      },
      "execution_count": null,
      "outputs": []
    },
    {
      "cell_type": "code",
      "source": [
        "len(output_json['sentences'])"
      ],
      "metadata": {
        "colab": {
          "base_uri": "https://localhost:8080/",
          "height": 164
        },
        "id": "pp5AKr2BRARh",
        "outputId": "02fb1d89-66f1-4fb5-e356-f0127031df0a"
      },
      "execution_count": null,
      "outputs": [
        {
          "output_type": "error",
          "ename": "TypeError",
          "evalue": "ignored",
          "traceback": [
            "\u001b[0;31m---------------------------------------------------------------------------\u001b[0m",
            "\u001b[0;31mTypeError\u001b[0m                                 Traceback (most recent call last)",
            "\u001b[0;32m<ipython-input-49-47d77071073f>\u001b[0m in \u001b[0;36m<module>\u001b[0;34m()\u001b[0m\n\u001b[0;32m----> 1\u001b[0;31m \u001b[0mlen\u001b[0m\u001b[0;34m(\u001b[0m\u001b[0moutput_json\u001b[0m\u001b[0;34m[\u001b[0m\u001b[0;34m'sentences'\u001b[0m\u001b[0;34m]\u001b[0m\u001b[0;34m)\u001b[0m\u001b[0;34m\u001b[0m\u001b[0;34m\u001b[0m\u001b[0m\n\u001b[0m",
            "\u001b[0;31mTypeError\u001b[0m: list indices must be integers or slices, not str"
          ]
        }
      ]
    },
    {
      "cell_type": "code",
      "source": [
        "from nltk.parse.corenlp import CoreNLPParser\n",
        "stanford = CoreNLPParser('http://localhost:9000')\n",
        "text = 'Pusheen and Smitha walked along the beach. Pusheen wanted to surf, but fell off the surfboard.'\n",
        "\n",
        "# Gets you the tokens.\n",
        "' '.join(next(stanford.raw_parse(text)).leaves())\n",
        "u'Pusheen and Smitha walked along the beach . Pusheen wanted to surf , but fell off the surfboard .'\n",
        "\n",
        "# Gets you the Tree object.\n",
        "next(stanford.raw_parse(text))\n",
        "Tree('ROOT', [Tree('S', [Tree('S', [Tree('NP', [Tree('NNP', ['Pusheen']), Tree('CC', ['and']), Tree('NNP', ['Smitha'])]), Tree('VP', [Tree('VBD', ['walked']), Tree('PP', [Tree('IN', ['along']), Tree('NP', [Tree('DT', ['the']), Tree('NN', ['beach'])])])]), Tree('.', ['.'])]), Tree('NP', [Tree('NNP', ['Pusheen'])]), Tree('VP', [Tree('VP', [Tree('VBD', ['wanted']), Tree('PP', [Tree('TO', ['to']), Tree('NP', [Tree('NN', ['surf'])])])]), Tree(',', [',']), Tree('CC', ['but']), Tree('VP', [Tree('VBD', ['fell']), Tree('PRT', [Tree('RP', ['off'])]), Tree('NP', [Tree('DT', ['the']), Tree('NN', ['surfboard'])])])]), Tree('.', ['.'])])])\n",
        "\n",
        "# Gets you the pretty png tree.\n",
        "next(stanford.raw_parse(text)).draw()"
      ],
      "metadata": {
        "colab": {
          "base_uri": "https://localhost:8080/",
          "height": 752
        },
        "id": "JusRhhuZPJc1",
        "outputId": "d4ff0d8e-b652-4837-939b-7ef359f36366"
      },
      "execution_count": null,
      "outputs": [
        {
          "output_type": "error",
          "ename": "ConnectionError",
          "evalue": "ignored",
          "traceback": [
            "\u001b[0;31m---------------------------------------------------------------------------\u001b[0m",
            "\u001b[0;31mConnectionRefusedError\u001b[0m                    Traceback (most recent call last)",
            "\u001b[0;32m/usr/local/lib/python3.7/dist-packages/urllib3/connection.py\u001b[0m in \u001b[0;36m_new_conn\u001b[0;34m(self)\u001b[0m\n\u001b[1;32m    158\u001b[0m         \u001b[0;32mtry\u001b[0m\u001b[0;34m:\u001b[0m\u001b[0;34m\u001b[0m\u001b[0;34m\u001b[0m\u001b[0m\n\u001b[0;32m--> 159\u001b[0;31m             conn = connection.create_connection(\n\u001b[0m\u001b[1;32m    160\u001b[0m                 \u001b[0;34m(\u001b[0m\u001b[0mself\u001b[0m\u001b[0;34m.\u001b[0m\u001b[0m_dns_host\u001b[0m\u001b[0;34m,\u001b[0m \u001b[0mself\u001b[0m\u001b[0;34m.\u001b[0m\u001b[0mport\u001b[0m\u001b[0;34m)\u001b[0m\u001b[0;34m,\u001b[0m \u001b[0mself\u001b[0m\u001b[0;34m.\u001b[0m\u001b[0mtimeout\u001b[0m\u001b[0;34m,\u001b[0m \u001b[0;34m**\u001b[0m\u001b[0mextra_kw\u001b[0m\u001b[0;34m\u001b[0m\u001b[0;34m\u001b[0m\u001b[0m\n",
            "\u001b[0;32m/usr/local/lib/python3.7/dist-packages/urllib3/util/connection.py\u001b[0m in \u001b[0;36mcreate_connection\u001b[0;34m(address, timeout, source_address, socket_options)\u001b[0m\n\u001b[1;32m     79\u001b[0m             \u001b[0;32mif\u001b[0m \u001b[0msock\u001b[0m \u001b[0;32mis\u001b[0m \u001b[0;32mnot\u001b[0m \u001b[0;32mNone\u001b[0m\u001b[0;34m:\u001b[0m\u001b[0;34m\u001b[0m\u001b[0;34m\u001b[0m\u001b[0m\n\u001b[0;32m---> 80\u001b[0;31m                 \u001b[0msock\u001b[0m\u001b[0;34m.\u001b[0m\u001b[0mclose\u001b[0m\u001b[0;34m(\u001b[0m\u001b[0;34m)\u001b[0m\u001b[0;34m\u001b[0m\u001b[0;34m\u001b[0m\u001b[0m\n\u001b[0m\u001b[1;32m     81\u001b[0m                 \u001b[0msock\u001b[0m \u001b[0;34m=\u001b[0m \u001b[0;32mNone\u001b[0m\u001b[0;34m\u001b[0m\u001b[0;34m\u001b[0m\u001b[0m\n",
            "\u001b[0;32m/usr/local/lib/python3.7/dist-packages/urllib3/util/connection.py\u001b[0m in \u001b[0;36mcreate_connection\u001b[0;34m(address, timeout, source_address, socket_options)\u001b[0m\n\u001b[1;32m     69\u001b[0m \u001b[0;34m\u001b[0m\u001b[0m\n\u001b[0;32m---> 70\u001b[0;31m             \u001b[0;32mif\u001b[0m \u001b[0mtimeout\u001b[0m \u001b[0;32mis\u001b[0m \u001b[0;32mnot\u001b[0m \u001b[0msocket\u001b[0m\u001b[0;34m.\u001b[0m\u001b[0m_GLOBAL_DEFAULT_TIMEOUT\u001b[0m\u001b[0;34m:\u001b[0m\u001b[0;34m\u001b[0m\u001b[0;34m\u001b[0m\u001b[0m\n\u001b[0m\u001b[1;32m     71\u001b[0m                 \u001b[0msock\u001b[0m\u001b[0;34m.\u001b[0m\u001b[0msettimeout\u001b[0m\u001b[0;34m(\u001b[0m\u001b[0mtimeout\u001b[0m\u001b[0;34m)\u001b[0m\u001b[0;34m\u001b[0m\u001b[0;34m\u001b[0m\u001b[0m\n",
            "\u001b[0;31mConnectionRefusedError\u001b[0m: [Errno 111] Connection refused",
            "\nDuring handling of the above exception, another exception occurred:\n",
            "\u001b[0;31mNewConnectionError\u001b[0m                        Traceback (most recent call last)",
            "\u001b[0;32m/usr/local/lib/python3.7/dist-packages/urllib3/connectionpool.py\u001b[0m in \u001b[0;36murlopen\u001b[0;34m(self, method, url, body, headers, retries, redirect, assert_same_host, timeout, pool_timeout, release_conn, chunked, body_pos, **response_kw)\u001b[0m\n\u001b[1;32m    599\u001b[0m             \u001b[0mauto\u001b[0m\u001b[0;34m-\u001b[0m\u001b[0mpopulate\u001b[0m \u001b[0mthe\u001b[0m \u001b[0mvalue\u001b[0m \u001b[0mwhen\u001b[0m \u001b[0mneeded\u001b[0m\u001b[0;34m.\u001b[0m\u001b[0;34m\u001b[0m\u001b[0;34m\u001b[0m\u001b[0m\n\u001b[0;32m--> 600\u001b[0;31m \u001b[0;34m\u001b[0m\u001b[0m\n\u001b[0m\u001b[1;32m    601\u001b[0m         \u001b[0;34m:\u001b[0m\u001b[0mparam\u001b[0m\u001b[0;31m \u001b[0m\u001b[0;31m\\\u001b[0m\u001b[0;31m\\\u001b[0m\u001b[0;34m**\u001b[0m\u001b[0mresponse_kw\u001b[0m\u001b[0;34m:\u001b[0m\u001b[0;34m\u001b[0m\u001b[0;34m\u001b[0m\u001b[0m\n",
            "\u001b[0;32m/usr/local/lib/python3.7/dist-packages/urllib3/connectionpool.py\u001b[0m in \u001b[0;36m_make_request\u001b[0;34m(self, conn, method, url, timeout, chunked, **httplib_request_kw)\u001b[0m\n\u001b[1;32m    353\u001b[0m                 \u001b[0mself\u001b[0m\u001b[0;34m,\u001b[0m \u001b[0murl\u001b[0m\u001b[0;34m,\u001b[0m \u001b[0;34m\"Read timed out. (read timeout=%s)\"\u001b[0m \u001b[0;34m%\u001b[0m \u001b[0mtimeout_value\u001b[0m\u001b[0;34m\u001b[0m\u001b[0;34m\u001b[0m\u001b[0m\n\u001b[0;32m--> 354\u001b[0;31m             )\n\u001b[0m\u001b[1;32m    355\u001b[0m \u001b[0;34m\u001b[0m\u001b[0m\n",
            "\u001b[0;32m/usr/lib/python3.7/http/client.py\u001b[0m in \u001b[0;36mrequest\u001b[0;34m(self, method, url, body, headers, encode_chunked)\u001b[0m\n\u001b[1;32m   1280\u001b[0m         \u001b[0;34m\"\"\"Send a complete request to the server.\"\"\"\u001b[0m\u001b[0;34m\u001b[0m\u001b[0;34m\u001b[0m\u001b[0m\n\u001b[0;32m-> 1281\u001b[0;31m         \u001b[0mself\u001b[0m\u001b[0;34m.\u001b[0m\u001b[0m_send_request\u001b[0m\u001b[0;34m(\u001b[0m\u001b[0mmethod\u001b[0m\u001b[0;34m,\u001b[0m \u001b[0murl\u001b[0m\u001b[0;34m,\u001b[0m \u001b[0mbody\u001b[0m\u001b[0;34m,\u001b[0m \u001b[0mheaders\u001b[0m\u001b[0;34m,\u001b[0m \u001b[0mencode_chunked\u001b[0m\u001b[0;34m)\u001b[0m\u001b[0;34m\u001b[0m\u001b[0;34m\u001b[0m\u001b[0m\n\u001b[0m\u001b[1;32m   1282\u001b[0m \u001b[0;34m\u001b[0m\u001b[0m\n",
            "\u001b[0;32m/usr/lib/python3.7/http/client.py\u001b[0m in \u001b[0;36m_send_request\u001b[0;34m(self, method, url, body, headers, encode_chunked)\u001b[0m\n\u001b[1;32m   1326\u001b[0m             \u001b[0mbody\u001b[0m \u001b[0;34m=\u001b[0m \u001b[0m_encode\u001b[0m\u001b[0;34m(\u001b[0m\u001b[0mbody\u001b[0m\u001b[0;34m,\u001b[0m \u001b[0;34m'body'\u001b[0m\u001b[0;34m)\u001b[0m\u001b[0;34m\u001b[0m\u001b[0;34m\u001b[0m\u001b[0m\n\u001b[0;32m-> 1327\u001b[0;31m         \u001b[0mself\u001b[0m\u001b[0;34m.\u001b[0m\u001b[0mendheaders\u001b[0m\u001b[0;34m(\u001b[0m\u001b[0mbody\u001b[0m\u001b[0;34m,\u001b[0m \u001b[0mencode_chunked\u001b[0m\u001b[0;34m=\u001b[0m\u001b[0mencode_chunked\u001b[0m\u001b[0;34m)\u001b[0m\u001b[0;34m\u001b[0m\u001b[0;34m\u001b[0m\u001b[0m\n\u001b[0m\u001b[1;32m   1328\u001b[0m \u001b[0;34m\u001b[0m\u001b[0m\n",
            "\u001b[0;32m/usr/lib/python3.7/http/client.py\u001b[0m in \u001b[0;36mendheaders\u001b[0;34m(self, message_body, encode_chunked)\u001b[0m\n\u001b[1;32m   1275\u001b[0m             \u001b[0;32mraise\u001b[0m \u001b[0mCannotSendHeader\u001b[0m\u001b[0;34m(\u001b[0m\u001b[0;34m)\u001b[0m\u001b[0;34m\u001b[0m\u001b[0;34m\u001b[0m\u001b[0m\n\u001b[0;32m-> 1276\u001b[0;31m         \u001b[0mself\u001b[0m\u001b[0;34m.\u001b[0m\u001b[0m_send_output\u001b[0m\u001b[0;34m(\u001b[0m\u001b[0mmessage_body\u001b[0m\u001b[0;34m,\u001b[0m \u001b[0mencode_chunked\u001b[0m\u001b[0;34m=\u001b[0m\u001b[0mencode_chunked\u001b[0m\u001b[0;34m)\u001b[0m\u001b[0;34m\u001b[0m\u001b[0;34m\u001b[0m\u001b[0m\n\u001b[0m\u001b[1;32m   1277\u001b[0m \u001b[0;34m\u001b[0m\u001b[0m\n",
            "\u001b[0;32m/usr/lib/python3.7/http/client.py\u001b[0m in \u001b[0;36m_send_output\u001b[0;34m(self, message_body, encode_chunked)\u001b[0m\n\u001b[1;32m   1035\u001b[0m         \u001b[0;32mdel\u001b[0m \u001b[0mself\u001b[0m\u001b[0;34m.\u001b[0m\u001b[0m_buffer\u001b[0m\u001b[0;34m[\u001b[0m\u001b[0;34m:\u001b[0m\u001b[0;34m]\u001b[0m\u001b[0;34m\u001b[0m\u001b[0;34m\u001b[0m\u001b[0m\n\u001b[0;32m-> 1036\u001b[0;31m         \u001b[0mself\u001b[0m\u001b[0;34m.\u001b[0m\u001b[0msend\u001b[0m\u001b[0;34m(\u001b[0m\u001b[0mmsg\u001b[0m\u001b[0;34m)\u001b[0m\u001b[0;34m\u001b[0m\u001b[0;34m\u001b[0m\u001b[0m\n\u001b[0m\u001b[1;32m   1037\u001b[0m \u001b[0;34m\u001b[0m\u001b[0m\n",
            "\u001b[0;32m/usr/lib/python3.7/http/client.py\u001b[0m in \u001b[0;36msend\u001b[0;34m(self, data)\u001b[0m\n\u001b[1;32m    975\u001b[0m             \u001b[0;32mif\u001b[0m \u001b[0mself\u001b[0m\u001b[0;34m.\u001b[0m\u001b[0mauto_open\u001b[0m\u001b[0;34m:\u001b[0m\u001b[0;34m\u001b[0m\u001b[0;34m\u001b[0m\u001b[0m\n\u001b[0;32m--> 976\u001b[0;31m                 \u001b[0mself\u001b[0m\u001b[0;34m.\u001b[0m\u001b[0mconnect\u001b[0m\u001b[0;34m(\u001b[0m\u001b[0;34m)\u001b[0m\u001b[0;34m\u001b[0m\u001b[0;34m\u001b[0m\u001b[0m\n\u001b[0m\u001b[1;32m    977\u001b[0m             \u001b[0;32melse\u001b[0m\u001b[0;34m:\u001b[0m\u001b[0;34m\u001b[0m\u001b[0;34m\u001b[0m\u001b[0m\n",
            "\u001b[0;32m/usr/local/lib/python3.7/dist-packages/urllib3/connection.py\u001b[0m in \u001b[0;36mconnect\u001b[0;34m(self)\u001b[0m\n\u001b[1;32m    180\u001b[0m         \u001b[0;32mif\u001b[0m \u001b[0mgetattr\u001b[0m\u001b[0;34m(\u001b[0m\u001b[0mself\u001b[0m\u001b[0;34m,\u001b[0m \u001b[0;34m\"_tunnel_host\"\u001b[0m\u001b[0;34m,\u001b[0m \u001b[0;32mNone\u001b[0m\u001b[0;34m)\u001b[0m\u001b[0;34m:\u001b[0m\u001b[0;34m\u001b[0m\u001b[0;34m\u001b[0m\u001b[0m\n\u001b[0;32m--> 181\u001b[0;31m             \u001b[0;31m# TODO: Fix tunnel so it doesn't depend on self.sock state.\u001b[0m\u001b[0;34m\u001b[0m\u001b[0;34m\u001b[0m\u001b[0;34m\u001b[0m\u001b[0m\n\u001b[0m\u001b[1;32m    182\u001b[0m             \u001b[0mself\u001b[0m\u001b[0;34m.\u001b[0m\u001b[0m_tunnel\u001b[0m\u001b[0;34m(\u001b[0m\u001b[0;34m)\u001b[0m\u001b[0;34m\u001b[0m\u001b[0;34m\u001b[0m\u001b[0m\n",
            "\u001b[0;32m/usr/local/lib/python3.7/dist-packages/urllib3/connection.py\u001b[0m in \u001b[0;36m_new_conn\u001b[0;34m(self)\u001b[0m\n\u001b[1;32m    167\u001b[0m                 \u001b[0;34m%\u001b[0m \u001b[0;34m(\u001b[0m\u001b[0mself\u001b[0m\u001b[0;34m.\u001b[0m\u001b[0mhost\u001b[0m\u001b[0;34m,\u001b[0m \u001b[0mself\u001b[0m\u001b[0;34m.\u001b[0m\u001b[0mtimeout\u001b[0m\u001b[0;34m)\u001b[0m\u001b[0;34m,\u001b[0m\u001b[0;34m\u001b[0m\u001b[0;34m\u001b[0m\u001b[0m\n\u001b[0;32m--> 168\u001b[0;31m             )\n\u001b[0m\u001b[1;32m    169\u001b[0m \u001b[0;34m\u001b[0m\u001b[0m\n",
            "\u001b[0;31mNewConnectionError\u001b[0m: <urllib3.connection.HTTPConnection object at 0x7f2a642daf10>: Failed to establish a new connection: [Errno 111] Connection refused",
            "\nDuring handling of the above exception, another exception occurred:\n",
            "\u001b[0;31mMaxRetryError\u001b[0m                             Traceback (most recent call last)",
            "\u001b[0;32m/usr/local/lib/python3.7/dist-packages/requests/adapters.py\u001b[0m in \u001b[0;36msend\u001b[0;34m(self, request, stream, timeout, verify, cert, proxies)\u001b[0m\n\u001b[1;32m    448\u001b[0m                     \u001b[0mretries\u001b[0m\u001b[0;34m=\u001b[0m\u001b[0mself\u001b[0m\u001b[0;34m.\u001b[0m\u001b[0mmax_retries\u001b[0m\u001b[0;34m,\u001b[0m\u001b[0;34m\u001b[0m\u001b[0;34m\u001b[0m\u001b[0m\n\u001b[0;32m--> 449\u001b[0;31m                     \u001b[0mtimeout\u001b[0m\u001b[0;34m=\u001b[0m\u001b[0mtimeout\u001b[0m\u001b[0;34m\u001b[0m\u001b[0;34m\u001b[0m\u001b[0m\n\u001b[0m\u001b[1;32m    450\u001b[0m                 )\n",
            "\u001b[0;32m/usr/local/lib/python3.7/dist-packages/urllib3/connectionpool.py\u001b[0m in \u001b[0;36murlopen\u001b[0;34m(self, method, url, body, headers, retries, redirect, assert_same_host, timeout, pool_timeout, release_conn, chunked, body_pos, **response_kw)\u001b[0m\n\u001b[1;32m    637\u001b[0m         \u001b[0;31m# Merge the proxy headers. Only do this in HTTP. We have to copy the\u001b[0m\u001b[0;34m\u001b[0m\u001b[0;34m\u001b[0m\u001b[0;34m\u001b[0m\u001b[0m\n\u001b[0;32m--> 638\u001b[0;31m         \u001b[0;31m# headers dict so we can safely change it without those changes being\u001b[0m\u001b[0;34m\u001b[0m\u001b[0;34m\u001b[0m\u001b[0;34m\u001b[0m\u001b[0m\n\u001b[0m\u001b[1;32m    639\u001b[0m         \u001b[0;31m# reflected in anyone else's copy.\u001b[0m\u001b[0;34m\u001b[0m\u001b[0;34m\u001b[0m\u001b[0;34m\u001b[0m\u001b[0m\n",
            "\u001b[0;32m/usr/local/lib/python3.7/dist-packages/urllib3/util/retry.py\u001b[0m in \u001b[0;36mincrement\u001b[0;34m(self, method, url, response, error, _pool, _stacktrace)\u001b[0m\n\u001b[1;32m    398\u001b[0m         \u001b[0mredirect_location\u001b[0m \u001b[0;34m=\u001b[0m \u001b[0;32mNone\u001b[0m\u001b[0;34m\u001b[0m\u001b[0;34m\u001b[0m\u001b[0m\n\u001b[0;32m--> 399\u001b[0;31m \u001b[0;34m\u001b[0m\u001b[0m\n\u001b[0m\u001b[1;32m    400\u001b[0m         \u001b[0;32mif\u001b[0m \u001b[0merror\u001b[0m \u001b[0;32mand\u001b[0m \u001b[0mself\u001b[0m\u001b[0;34m.\u001b[0m\u001b[0m_is_connection_error\u001b[0m\u001b[0;34m(\u001b[0m\u001b[0merror\u001b[0m\u001b[0;34m)\u001b[0m\u001b[0;34m:\u001b[0m\u001b[0;34m\u001b[0m\u001b[0;34m\u001b[0m\u001b[0m\n",
            "\u001b[0;31mMaxRetryError\u001b[0m: HTTPConnectionPool(host='localhost', port=9000): Max retries exceeded with url: /?properties=%7B%22outputFormat%22%3A+%22json%22%2C+%22annotators%22%3A+%22tokenize%2Cpos%2Clemma%2Cssplit%2Cparse%22%2C+%22ssplit.ssplit.eolonly%22%3A+%22true%22%2C+%22tokenize.whitespace%22%3A+%22false%22%7D (Caused by NewConnectionError('<urllib3.connection.HTTPConnection object at 0x7f2a642daf10>: Failed to establish a new connection: [Errno 111] Connection refused'))",
            "\nDuring handling of the above exception, another exception occurred:\n",
            "\u001b[0;31mConnectionError\u001b[0m                           Traceback (most recent call last)",
            "\u001b[0;32m<ipython-input-35-39ed38df6cd3>\u001b[0m in \u001b[0;36m<module>\u001b[0;34m()\u001b[0m\n\u001b[1;32m      4\u001b[0m \u001b[0;34m\u001b[0m\u001b[0m\n\u001b[1;32m      5\u001b[0m \u001b[0;31m# Gets you the tokens.\u001b[0m\u001b[0;34m\u001b[0m\u001b[0;34m\u001b[0m\u001b[0;34m\u001b[0m\u001b[0m\n\u001b[0;32m----> 6\u001b[0;31m \u001b[0;34m' '\u001b[0m\u001b[0;34m.\u001b[0m\u001b[0mjoin\u001b[0m\u001b[0;34m(\u001b[0m\u001b[0mnext\u001b[0m\u001b[0;34m(\u001b[0m\u001b[0mstanford\u001b[0m\u001b[0;34m.\u001b[0m\u001b[0mraw_parse\u001b[0m\u001b[0;34m(\u001b[0m\u001b[0mtext\u001b[0m\u001b[0;34m)\u001b[0m\u001b[0;34m)\u001b[0m\u001b[0;34m.\u001b[0m\u001b[0mleaves\u001b[0m\u001b[0;34m(\u001b[0m\u001b[0;34m)\u001b[0m\u001b[0;34m)\u001b[0m\u001b[0;34m\u001b[0m\u001b[0;34m\u001b[0m\u001b[0m\n\u001b[0m\u001b[1;32m      7\u001b[0m \u001b[0;34mu'Pusheen and Smitha walked along the beach . Pusheen wanted to surf , but fell off the surfboard .'\u001b[0m\u001b[0;34m\u001b[0m\u001b[0;34m\u001b[0m\u001b[0m\n\u001b[1;32m      8\u001b[0m \u001b[0;34m\u001b[0m\u001b[0m\n",
            "\u001b[0;32m/usr/local/lib/python3.7/dist-packages/nltk/parse/corenlp.py\u001b[0m in \u001b[0;36mraw_parse\u001b[0;34m(self, sentence, properties, *args, **kwargs)\u001b[0m\n\u001b[1;32m    226\u001b[0m                 \u001b[0mproperties\u001b[0m\u001b[0;34m=\u001b[0m\u001b[0mdefault_properties\u001b[0m\u001b[0;34m,\u001b[0m\u001b[0;34m\u001b[0m\u001b[0;34m\u001b[0m\u001b[0m\n\u001b[1;32m    227\u001b[0m                 \u001b[0;34m*\u001b[0m\u001b[0margs\u001b[0m\u001b[0;34m,\u001b[0m\u001b[0;34m\u001b[0m\u001b[0;34m\u001b[0m\u001b[0m\n\u001b[0;32m--> 228\u001b[0;31m                 \u001b[0;34m**\u001b[0m\u001b[0mkwargs\u001b[0m\u001b[0;34m\u001b[0m\u001b[0;34m\u001b[0m\u001b[0m\n\u001b[0m\u001b[1;32m    229\u001b[0m             )\n\u001b[1;32m    230\u001b[0m         )\n",
            "\u001b[0;32m/usr/local/lib/python3.7/dist-packages/nltk/parse/corenlp.py\u001b[0m in \u001b[0;36mraw_parse_sents\u001b[0;34m(self, sentences, verbose, properties, *args, **kwargs)\u001b[0m\n\u001b[1;32m    288\u001b[0m                 \u001b[0;32myield\u001b[0m \u001b[0miter\u001b[0m\u001b[0;34m(\u001b[0m\u001b[0;34m[\u001b[0m\u001b[0mtree\u001b[0m\u001b[0;34m]\u001b[0m\u001b[0;34m)\u001b[0m\u001b[0;34m\u001b[0m\u001b[0;34m\u001b[0m\u001b[0m\n\u001b[1;32m    289\u001b[0m         \"\"\"\n\u001b[0;32m--> 290\u001b[0;31m         \u001b[0mparsed_data\u001b[0m \u001b[0;34m=\u001b[0m \u001b[0mself\u001b[0m\u001b[0;34m.\u001b[0m\u001b[0mapi_call\u001b[0m\u001b[0;34m(\u001b[0m\u001b[0;34m'\\n'\u001b[0m\u001b[0;34m.\u001b[0m\u001b[0mjoin\u001b[0m\u001b[0;34m(\u001b[0m\u001b[0msentences\u001b[0m\u001b[0;34m)\u001b[0m\u001b[0;34m,\u001b[0m \u001b[0mproperties\u001b[0m\u001b[0;34m=\u001b[0m\u001b[0mdefault_properties\u001b[0m\u001b[0;34m)\u001b[0m\u001b[0;34m\u001b[0m\u001b[0;34m\u001b[0m\u001b[0m\n\u001b[0m\u001b[1;32m    291\u001b[0m         \u001b[0;32mfor\u001b[0m \u001b[0mparsed_sent\u001b[0m \u001b[0;32min\u001b[0m \u001b[0mparsed_data\u001b[0m\u001b[0;34m[\u001b[0m\u001b[0;34m'sentences'\u001b[0m\u001b[0;34m]\u001b[0m\u001b[0;34m:\u001b[0m\u001b[0;34m\u001b[0m\u001b[0;34m\u001b[0m\u001b[0m\n\u001b[1;32m    292\u001b[0m             \u001b[0mtree\u001b[0m \u001b[0;34m=\u001b[0m \u001b[0mself\u001b[0m\u001b[0;34m.\u001b[0m\u001b[0mmake_tree\u001b[0m\u001b[0;34m(\u001b[0m\u001b[0mparsed_sent\u001b[0m\u001b[0;34m)\u001b[0m\u001b[0;34m\u001b[0m\u001b[0;34m\u001b[0m\u001b[0m\n",
            "\u001b[0;32m/usr/local/lib/python3.7/dist-packages/nltk/parse/corenlp.py\u001b[0m in \u001b[0;36mapi_call\u001b[0;34m(self, data, properties)\u001b[0m\n\u001b[1;32m    246\u001b[0m             },\n\u001b[1;32m    247\u001b[0m             \u001b[0mdata\u001b[0m\u001b[0;34m=\u001b[0m\u001b[0mdata\u001b[0m\u001b[0;34m.\u001b[0m\u001b[0mencode\u001b[0m\u001b[0;34m(\u001b[0m\u001b[0mself\u001b[0m\u001b[0;34m.\u001b[0m\u001b[0mencoding\u001b[0m\u001b[0;34m)\u001b[0m\u001b[0;34m,\u001b[0m\u001b[0;34m\u001b[0m\u001b[0;34m\u001b[0m\u001b[0m\n\u001b[0;32m--> 248\u001b[0;31m             \u001b[0mtimeout\u001b[0m\u001b[0;34m=\u001b[0m\u001b[0;36m60\u001b[0m\u001b[0;34m,\u001b[0m\u001b[0;34m\u001b[0m\u001b[0;34m\u001b[0m\u001b[0m\n\u001b[0m\u001b[1;32m    249\u001b[0m         )\n\u001b[1;32m    250\u001b[0m \u001b[0;34m\u001b[0m\u001b[0m\n",
            "\u001b[0;32m/usr/local/lib/python3.7/dist-packages/requests/sessions.py\u001b[0m in \u001b[0;36mpost\u001b[0;34m(self, url, data, json, **kwargs)\u001b[0m\n\u001b[1;32m    576\u001b[0m         \"\"\"\n\u001b[1;32m    577\u001b[0m \u001b[0;34m\u001b[0m\u001b[0m\n\u001b[0;32m--> 578\u001b[0;31m         \u001b[0;32mreturn\u001b[0m \u001b[0mself\u001b[0m\u001b[0;34m.\u001b[0m\u001b[0mrequest\u001b[0m\u001b[0;34m(\u001b[0m\u001b[0;34m'POST'\u001b[0m\u001b[0;34m,\u001b[0m \u001b[0murl\u001b[0m\u001b[0;34m,\u001b[0m \u001b[0mdata\u001b[0m\u001b[0;34m=\u001b[0m\u001b[0mdata\u001b[0m\u001b[0;34m,\u001b[0m \u001b[0mjson\u001b[0m\u001b[0;34m=\u001b[0m\u001b[0mjson\u001b[0m\u001b[0;34m,\u001b[0m \u001b[0;34m**\u001b[0m\u001b[0mkwargs\u001b[0m\u001b[0;34m)\u001b[0m\u001b[0;34m\u001b[0m\u001b[0;34m\u001b[0m\u001b[0m\n\u001b[0m\u001b[1;32m    579\u001b[0m \u001b[0;34m\u001b[0m\u001b[0m\n\u001b[1;32m    580\u001b[0m     \u001b[0;32mdef\u001b[0m \u001b[0mput\u001b[0m\u001b[0;34m(\u001b[0m\u001b[0mself\u001b[0m\u001b[0;34m,\u001b[0m \u001b[0murl\u001b[0m\u001b[0;34m,\u001b[0m \u001b[0mdata\u001b[0m\u001b[0;34m=\u001b[0m\u001b[0;32mNone\u001b[0m\u001b[0;34m,\u001b[0m \u001b[0;34m**\u001b[0m\u001b[0mkwargs\u001b[0m\u001b[0;34m)\u001b[0m\u001b[0;34m:\u001b[0m\u001b[0;34m\u001b[0m\u001b[0;34m\u001b[0m\u001b[0m\n",
            "\u001b[0;32m/usr/local/lib/python3.7/dist-packages/requests/sessions.py\u001b[0m in \u001b[0;36mrequest\u001b[0;34m(self, method, url, params, data, headers, cookies, files, auth, timeout, allow_redirects, proxies, hooks, stream, verify, cert, json)\u001b[0m\n\u001b[1;32m    528\u001b[0m         }\n\u001b[1;32m    529\u001b[0m         \u001b[0msend_kwargs\u001b[0m\u001b[0;34m.\u001b[0m\u001b[0mupdate\u001b[0m\u001b[0;34m(\u001b[0m\u001b[0msettings\u001b[0m\u001b[0;34m)\u001b[0m\u001b[0;34m\u001b[0m\u001b[0;34m\u001b[0m\u001b[0m\n\u001b[0;32m--> 530\u001b[0;31m         \u001b[0mresp\u001b[0m \u001b[0;34m=\u001b[0m \u001b[0mself\u001b[0m\u001b[0;34m.\u001b[0m\u001b[0msend\u001b[0m\u001b[0;34m(\u001b[0m\u001b[0mprep\u001b[0m\u001b[0;34m,\u001b[0m \u001b[0;34m**\u001b[0m\u001b[0msend_kwargs\u001b[0m\u001b[0;34m)\u001b[0m\u001b[0;34m\u001b[0m\u001b[0;34m\u001b[0m\u001b[0m\n\u001b[0m\u001b[1;32m    531\u001b[0m \u001b[0;34m\u001b[0m\u001b[0m\n\u001b[1;32m    532\u001b[0m         \u001b[0;32mreturn\u001b[0m \u001b[0mresp\u001b[0m\u001b[0;34m\u001b[0m\u001b[0;34m\u001b[0m\u001b[0m\n",
            "\u001b[0;32m/usr/local/lib/python3.7/dist-packages/requests/sessions.py\u001b[0m in \u001b[0;36msend\u001b[0;34m(self, request, **kwargs)\u001b[0m\n\u001b[1;32m    641\u001b[0m \u001b[0;34m\u001b[0m\u001b[0m\n\u001b[1;32m    642\u001b[0m         \u001b[0;31m# Send the request\u001b[0m\u001b[0;34m\u001b[0m\u001b[0;34m\u001b[0m\u001b[0;34m\u001b[0m\u001b[0m\n\u001b[0;32m--> 643\u001b[0;31m         \u001b[0mr\u001b[0m \u001b[0;34m=\u001b[0m \u001b[0madapter\u001b[0m\u001b[0;34m.\u001b[0m\u001b[0msend\u001b[0m\u001b[0;34m(\u001b[0m\u001b[0mrequest\u001b[0m\u001b[0;34m,\u001b[0m \u001b[0;34m**\u001b[0m\u001b[0mkwargs\u001b[0m\u001b[0;34m)\u001b[0m\u001b[0;34m\u001b[0m\u001b[0;34m\u001b[0m\u001b[0m\n\u001b[0m\u001b[1;32m    644\u001b[0m \u001b[0;34m\u001b[0m\u001b[0m\n\u001b[1;32m    645\u001b[0m         \u001b[0;31m# Total elapsed time of the request (approximately)\u001b[0m\u001b[0;34m\u001b[0m\u001b[0;34m\u001b[0m\u001b[0;34m\u001b[0m\u001b[0m\n",
            "\u001b[0;32m/usr/local/lib/python3.7/dist-packages/requests/adapters.py\u001b[0m in \u001b[0;36msend\u001b[0;34m(self, request, stream, timeout, verify, cert, proxies)\u001b[0m\n\u001b[1;32m    514\u001b[0m                 \u001b[0;32mraise\u001b[0m \u001b[0mSSLError\u001b[0m\u001b[0;34m(\u001b[0m\u001b[0me\u001b[0m\u001b[0;34m,\u001b[0m \u001b[0mrequest\u001b[0m\u001b[0;34m=\u001b[0m\u001b[0mrequest\u001b[0m\u001b[0;34m)\u001b[0m\u001b[0;34m\u001b[0m\u001b[0;34m\u001b[0m\u001b[0m\n\u001b[1;32m    515\u001b[0m \u001b[0;34m\u001b[0m\u001b[0m\n\u001b[0;32m--> 516\u001b[0;31m             \u001b[0;32mraise\u001b[0m \u001b[0mConnectionError\u001b[0m\u001b[0;34m(\u001b[0m\u001b[0me\u001b[0m\u001b[0;34m,\u001b[0m \u001b[0mrequest\u001b[0m\u001b[0;34m=\u001b[0m\u001b[0mrequest\u001b[0m\u001b[0;34m)\u001b[0m\u001b[0;34m\u001b[0m\u001b[0;34m\u001b[0m\u001b[0m\n\u001b[0m\u001b[1;32m    517\u001b[0m \u001b[0;34m\u001b[0m\u001b[0m\n\u001b[1;32m    518\u001b[0m         \u001b[0;32mexcept\u001b[0m \u001b[0mClosedPoolError\u001b[0m \u001b[0;32mas\u001b[0m \u001b[0me\u001b[0m\u001b[0;34m:\u001b[0m\u001b[0;34m\u001b[0m\u001b[0;34m\u001b[0m\u001b[0m\n",
            "\u001b[0;31mConnectionError\u001b[0m: HTTPConnectionPool(host='localhost', port=9000): Max retries exceeded with url: /?properties=%7B%22outputFormat%22%3A+%22json%22%2C+%22annotators%22%3A+%22tokenize%2Cpos%2Clemma%2Cssplit%2Cparse%22%2C+%22ssplit.ssplit.eolonly%22%3A+%22true%22%2C+%22tokenize.whitespace%22%3A+%22false%22%7D (Caused by NewConnectionError('<urllib3.connection.HTTPConnection object at 0x7f2a642daf10>: Failed to establish a new connection: [Errno 111] Connection refused'))"
          ]
        }
      ]
    }
  ]
}